{
 "cells": [
  {
   "cell_type": "code",
   "execution_count": 1,
   "metadata": {},
   "outputs": [],
   "source": [
    "import numpy as np\n",
    "import pandas as pd\n",
    "import matplotlib.pyplot as plt\n",
    "import seaborn as sns\n",
    "import time\n",
    "\n",
    "#Preprocessing\n",
    "import scipy.stats as stats\n",
    "from sklearn import feature_selection\n",
    "from sklearn.feature_selection import chi2\n",
    "from sklearn.preprocessing import LabelEncoder\n",
    "\n",
    "#Tuning\n",
    "from sklearn.model_selection import RandomizedSearchCV\n",
    "from warnings import simplefilter\n",
    "\n",
    "#Modelling stage algorithms\n",
    "from sklearn.model_selection import KFold\n",
    "from sklearn.linear_model import LinearRegression\n",
    "from sklearn import tree\n",
    "from sklearn.tree import DecisionTreeRegressor\n",
    "from sklearn.ensemble import RandomForestRegressor\n",
    "from sklearn.neighbors import KNeighborsRegressor\n",
    "from sklearn.svm import SVR\n",
    "\n",
    "\n",
    "#Modelling stage others\n",
    "from sklearn import metrics\n",
    "from sklearn.metrics import r2_score"
   ]
  },
  {
   "cell_type": "code",
   "execution_count": 2,
   "metadata": {},
   "outputs": [],
   "source": [
    "pd.set_option('display.max_columns', None)\n",
    "pd.set_option('display.max_rows', None)"
   ]
  },
  {
   "cell_type": "code",
   "execution_count": 3,
   "metadata": {},
   "outputs": [],
   "source": [
    "#Loading the dataset\n",
    "bike = pd.read_csv(\"C:/Users/fetih.kaya/Desktop/hour_v4.csv\")"
   ]
  },
  {
   "cell_type": "markdown",
   "metadata": {},
   "source": [
    "***"
   ]
  },
  {
   "cell_type": "markdown",
   "metadata": {},
   "source": [
    "# 1 - EXPLANATORY DATA ANALYSIS"
   ]
  },
  {
   "cell_type": "markdown",
   "metadata": {},
   "source": [
    "***"
   ]
  },
  {
   "cell_type": "markdown",
   "metadata": {},
   "source": [
    "### 1.1 - General Information About the Dataset"
   ]
  },
  {
   "cell_type": "markdown",
   "metadata": {},
   "source": [
    "##### 1.1.a - General information"
   ]
  },
  {
   "cell_type": "code",
   "execution_count": 4,
   "metadata": {},
   "outputs": [
    {
     "name": "stdout",
     "output_type": "stream",
     "text": [
      "<class 'pandas.core.frame.DataFrame'>\n",
      "RangeIndex: 17379 entries, 0 to 17378\n",
      "Data columns (total 17 columns):\n",
      "instant            17379 non-null int64\n",
      "date               17379 non-null object\n",
      "season             17379 non-null object\n",
      "year               17379 non-null int64\n",
      "month              17379 non-null object\n",
      "hour               17379 non-null int64\n",
      "holiday            17379 non-null object\n",
      "weekday            17379 non-null object\n",
      "workingday         17379 non-null object\n",
      "weather            17379 non-null object\n",
      "temp               17379 non-null float64\n",
      "apparent_temp      17379 non-null float64\n",
      "humidity           17379 non-null object\n",
      "windspeed          17379 non-null float64\n",
      "casual_user        17379 non-null int64\n",
      "registered_user    17379 non-null int64\n",
      "total_user         17379 non-null int64\n",
      "dtypes: float64(3), int64(6), object(8)\n",
      "memory usage: 2.3+ MB\n"
     ]
    }
   ],
   "source": [
    "#General information about the dataset\n",
    "bike.info()"
   ]
  },
  {
   "cell_type": "markdown",
   "metadata": {},
   "source": [
    "***\n",
    "***\n",
    "<span style='background :yellow' > - There are 17.379 entries in the dataset\n",
    "    \n",
    "<span style='background :yellow' > - The dataset has 17 attributes which 9 of them are numerical and 8 categorical\n",
    "    \n",
    "<span style='background :yellow' > - There are no null values in the entries\n",
    "    \n",
    "***\n",
    "***"
   ]
  },
  {
   "cell_type": "markdown",
   "metadata": {},
   "source": [
    "##### 1.1.b - First five rows of the dataset"
   ]
  },
  {
   "cell_type": "code",
   "execution_count": 5,
   "metadata": {},
   "outputs": [
    {
     "data": {
      "text/html": [
       "<div>\n",
       "<style scoped>\n",
       "    .dataframe tbody tr th:only-of-type {\n",
       "        vertical-align: middle;\n",
       "    }\n",
       "\n",
       "    .dataframe tbody tr th {\n",
       "        vertical-align: top;\n",
       "    }\n",
       "\n",
       "    .dataframe thead th {\n",
       "        text-align: right;\n",
       "    }\n",
       "</style>\n",
       "<table border=\"1\" class=\"dataframe\">\n",
       "  <thead>\n",
       "    <tr style=\"text-align: right;\">\n",
       "      <th></th>\n",
       "      <th>instant</th>\n",
       "      <th>date</th>\n",
       "      <th>season</th>\n",
       "      <th>year</th>\n",
       "      <th>month</th>\n",
       "      <th>hour</th>\n",
       "      <th>holiday</th>\n",
       "      <th>weekday</th>\n",
       "      <th>workingday</th>\n",
       "      <th>weather</th>\n",
       "      <th>temp</th>\n",
       "      <th>apparent_temp</th>\n",
       "      <th>humidity</th>\n",
       "      <th>windspeed</th>\n",
       "      <th>casual_user</th>\n",
       "      <th>registered_user</th>\n",
       "      <th>total_user</th>\n",
       "    </tr>\n",
       "  </thead>\n",
       "  <tbody>\n",
       "    <tr>\n",
       "      <td>0</td>\n",
       "      <td>1</td>\n",
       "      <td>1/1/2011</td>\n",
       "      <td>Winter</td>\n",
       "      <td>2011</td>\n",
       "      <td>January</td>\n",
       "      <td>0</td>\n",
       "      <td>No</td>\n",
       "      <td>Saturday</td>\n",
       "      <td>No</td>\n",
       "      <td>Clear, Partly cloudy</td>\n",
       "      <td>3.3</td>\n",
       "      <td>3.0</td>\n",
       "      <td>81%</td>\n",
       "      <td>0.0</td>\n",
       "      <td>3</td>\n",
       "      <td>13</td>\n",
       "      <td>16</td>\n",
       "    </tr>\n",
       "    <tr>\n",
       "      <td>1</td>\n",
       "      <td>2</td>\n",
       "      <td>1/1/2011</td>\n",
       "      <td>Winter</td>\n",
       "      <td>2011</td>\n",
       "      <td>January</td>\n",
       "      <td>1</td>\n",
       "      <td>No</td>\n",
       "      <td>Saturday</td>\n",
       "      <td>No</td>\n",
       "      <td>Clear, Partly cloudy</td>\n",
       "      <td>2.3</td>\n",
       "      <td>2.0</td>\n",
       "      <td>80%</td>\n",
       "      <td>0.0</td>\n",
       "      <td>8</td>\n",
       "      <td>32</td>\n",
       "      <td>40</td>\n",
       "    </tr>\n",
       "    <tr>\n",
       "      <td>2</td>\n",
       "      <td>3</td>\n",
       "      <td>1/1/2011</td>\n",
       "      <td>Winter</td>\n",
       "      <td>2011</td>\n",
       "      <td>January</td>\n",
       "      <td>2</td>\n",
       "      <td>No</td>\n",
       "      <td>Saturday</td>\n",
       "      <td>No</td>\n",
       "      <td>Clear, Partly cloudy</td>\n",
       "      <td>2.3</td>\n",
       "      <td>2.0</td>\n",
       "      <td>80%</td>\n",
       "      <td>0.0</td>\n",
       "      <td>5</td>\n",
       "      <td>27</td>\n",
       "      <td>32</td>\n",
       "    </tr>\n",
       "    <tr>\n",
       "      <td>3</td>\n",
       "      <td>4</td>\n",
       "      <td>1/1/2011</td>\n",
       "      <td>Winter</td>\n",
       "      <td>2011</td>\n",
       "      <td>January</td>\n",
       "      <td>3</td>\n",
       "      <td>No</td>\n",
       "      <td>Saturday</td>\n",
       "      <td>No</td>\n",
       "      <td>Clear, Partly cloudy</td>\n",
       "      <td>3.3</td>\n",
       "      <td>3.0</td>\n",
       "      <td>75%</td>\n",
       "      <td>0.0</td>\n",
       "      <td>3</td>\n",
       "      <td>10</td>\n",
       "      <td>13</td>\n",
       "    </tr>\n",
       "    <tr>\n",
       "      <td>4</td>\n",
       "      <td>5</td>\n",
       "      <td>1/1/2011</td>\n",
       "      <td>Winter</td>\n",
       "      <td>2011</td>\n",
       "      <td>January</td>\n",
       "      <td>4</td>\n",
       "      <td>No</td>\n",
       "      <td>Saturday</td>\n",
       "      <td>No</td>\n",
       "      <td>Clear, Partly cloudy</td>\n",
       "      <td>3.3</td>\n",
       "      <td>3.0</td>\n",
       "      <td>75%</td>\n",
       "      <td>0.0</td>\n",
       "      <td>0</td>\n",
       "      <td>1</td>\n",
       "      <td>1</td>\n",
       "    </tr>\n",
       "  </tbody>\n",
       "</table>\n",
       "</div>"
      ],
      "text/plain": [
       "   instant      date  season  year    month  hour holiday   weekday  \\\n",
       "0        1  1/1/2011  Winter  2011  January     0      No  Saturday   \n",
       "1        2  1/1/2011  Winter  2011  January     1      No  Saturday   \n",
       "2        3  1/1/2011  Winter  2011  January     2      No  Saturday   \n",
       "3        4  1/1/2011  Winter  2011  January     3      No  Saturday   \n",
       "4        5  1/1/2011  Winter  2011  January     4      No  Saturday   \n",
       "\n",
       "  workingday               weather  temp  apparent_temp humidity  windspeed  \\\n",
       "0         No  Clear, Partly cloudy   3.3            3.0      81%        0.0   \n",
       "1         No  Clear, Partly cloudy   2.3            2.0      80%        0.0   \n",
       "2         No  Clear, Partly cloudy   2.3            2.0      80%        0.0   \n",
       "3         No  Clear, Partly cloudy   3.3            3.0      75%        0.0   \n",
       "4         No  Clear, Partly cloudy   3.3            3.0      75%        0.0   \n",
       "\n",
       "   casual_user  registered_user  total_user  \n",
       "0            3               13          16  \n",
       "1            8               32          40  \n",
       "2            5               27          32  \n",
       "3            3               10          13  \n",
       "4            0                1           1  "
      ]
     },
     "execution_count": 5,
     "metadata": {},
     "output_type": "execute_result"
    }
   ],
   "source": [
    "#Example rows of the dataset\n",
    "bike.head()"
   ]
  },
  {
   "cell_type": "markdown",
   "metadata": {},
   "source": [
    "##### 1.1.c - Description of column labels"
   ]
  },
  {
   "cell_type": "markdown",
   "metadata": {},
   "source": [
    "***\n",
    "***\n",
    "- **instant:** bike rental records' index\n",
    "- **date:** date of bike rental record\n",
    "- **season:** season of bike rental record\n",
    "- **year:** year of bike rental record\n",
    "- **month:** month of bike rental record\n",
    "- **hour:** hour of bike rental record\n",
    "- **holiday**: is the day a holiday or not\n",
    "- **weekday:** the day of bike rental record\n",
    "- **workingday:** is the day a working day or not\n",
    "- **weather:** weather condition of the day of bike rental record\n",
    "- **temp:** weather temperature of the day of bike rental record\n",
    "- **apparent_temp:** apparent temperature of the weather of bike rental record\n",
    "- **humidity:** humidity of the weather of bike rental record\n",
    "- **windspeed:** windspeed of the weather of bike rental record\n",
    "- **casual_user:**  number of casual users bike rental record\n",
    "- **registered_user:** number of registered users bike rental record\n",
    "- **total_user:** number of total bike rental record\n",
    "***\n",
    "***"
   ]
  },
  {
   "cell_type": "markdown",
   "metadata": {},
   "source": [
    "***"
   ]
  },
  {
   "cell_type": "markdown",
   "metadata": {},
   "source": [
    "### 1.2 - Data Cleaning"
   ]
  },
  {
   "cell_type": "markdown",
   "metadata": {},
   "source": [
    "##### 1.2.a - Change the \"date\" and \"humidity\"  attributes' datatype"
   ]
  },
  {
   "cell_type": "markdown",
   "metadata": {},
   "source": [
    "<span style='background :yellow' >- The datatype of \"date\" and \"humidity\" attributes are given as object though they refer to numerical information. So that, their datatypes will be changed to numeric and \"date\" column will be seperated to refer only day. Because month and year information are given in other columns seperated but day number not given."
   ]
  },
  {
   "cell_type": "code",
   "execution_count": 6,
   "metadata": {},
   "outputs": [],
   "source": [
    "#For \"date\" column: drop month and year and also change datatype from object to integer \n",
    "bike['date'] = bike['date'].astype(str).apply(lambda x: x.split('/')[1])\n",
    "bike['date'] = bike['date'].astype(int)"
   ]
  },
  {
   "cell_type": "code",
   "execution_count": 7,
   "metadata": {},
   "outputs": [],
   "source": [
    "#Changing datatype of \"humidity\" column from object to float and remove % sign\n",
    "bike['humidity'] = bike['humidity'].astype(str).apply(lambda x: x.replace('%',''))\n",
    "bike['humidity'] = bike['humidity'].astype(float)"
   ]
  },
  {
   "cell_type": "markdown",
   "metadata": {},
   "source": [
    "***"
   ]
  },
  {
   "cell_type": "markdown",
   "metadata": {},
   "source": [
    "### 1.3 -  Data Visualizations"
   ]
  },
  {
   "cell_type": "markdown",
   "metadata": {},
   "source": [
    "##### 1.3.a - Effect of \"season\" on number of bike rental "
   ]
  },
  {
   "cell_type": "code",
   "execution_count": 8,
   "metadata": {},
   "outputs": [
    {
     "name": "stdout",
     "output_type": "stream",
     "text": [
      "   Season  Avg. # of Rents for Casuals  Avg. # of Rents for Registereds\n",
      "0  Winter                         14.3                             96.8\n",
      "1  Summer                         50.3                            185.7\n",
      "2  Spring                         46.2                            162.2\n",
      "3    Fall                         30.7                            168.2\n"
     ]
    },
    {
     "data": {
      "image/png": "[encoded data removed]",
      "text/plain": [
       "<Figure size 720x360 with 1 Axes>"
      ]
     },
     "metadata": {
      "needs_background": "light"
     },
     "output_type": "display_data"
    }
   ],
   "source": [
    "#Average number of bike rentals in accordance with seasons\n",
    "season_effect = bike.groupby(by='season', as_index=False).agg({'casual_user': 'mean', 'registered_user':'mean'})\n",
    "season_effect.columns = ['Season', 'Avg. # of Rents for Casuals', \n",
    "                         'Avg. # of Rents for Registereds']\n",
    "season_effect = season_effect.sort_values(['Season'], ascending=False)\n",
    "season_effect = season_effect.reset_index(drop=True)\n",
    "\n",
    "ax = season_effect.plot(x=\"Season\", y=[\"Avg. # of Rents for Casuals\",\n",
    "                                       \"Avg. # of Rents for Registereds\"], kind=\"bar\",\n",
    "                                        figsize=(10,5), color=[\"darkslateblue\",\"lightsalmon\"])\n",
    "\n",
    "print(round(season_effect,1))"
   ]
  },
  {
   "cell_type": "markdown",
   "metadata": {},
   "source": [
    "***\n",
    "***\n",
    "<span style='background :yellow' >It is seen that;\n",
    "\n",
    "<span style='background :yellow' >- Registered users renting number does not change much over the period of summer, spring and fall, but it drops in winters.\n",
    "\n",
    "<span style='background :yellow' >- On the other hand, casual users nearly same pattern with registered users with really less amounts. The number of rentals of casual users makes peak at summer and decrease gradually over spring, fall and winter.\n",
    "***\n",
    "***"
   ]
  },
  {
   "cell_type": "markdown",
   "metadata": {},
   "source": [
    "##### 1.3.b - Effect of \"month\" on number of bike rental "
   ]
  },
  {
   "cell_type": "code",
   "execution_count": 9,
   "metadata": {
    "scrolled": false
   },
   "outputs": [
    {
     "name": "stdout",
     "output_type": "stream",
     "text": [
      "        Month  Avg. # of Rents for Casuals  Avg. # of Rents for Registereds\n",
      "0     January                          8.4                             86.0\n",
      "1    February                         11.2                            101.7\n",
      "2       March                         30.2                            125.2\n",
      "3       April                         42.3                            144.9\n",
      "4         May                         50.6                            172.3\n",
      "5        June                         51.3                            189.2\n",
      "6        July                         52.5                            179.3\n",
      "7      August                         48.8                            189.3\n",
      "8   September                         48.9                            191.8\n",
      "9     October                         41.2                            181.0\n",
      "10   November                         25.5                            151.9\n",
      "11   December                         14.6                            127.7\n"
     ]
    },
    {
     "data": {
      "image/png": "[encoded data removed]",
      "text/plain": [
       "<Figure size 864x432 with 1 Axes>"
      ]
     },
     "metadata": {
      "needs_background": "light"
     },
     "output_type": "display_data"
    }
   ],
   "source": [
    "#Average number of bike rentals in accordance with month\n",
    "month_effect = bike.groupby(by='month', as_index=False).agg({'casual_user': 'mean', 'registered_user':'mean'})\n",
    "month_effect.columns = ['Month', 'Avg. # of Rents for Casuals', \n",
    "                         'Avg. # of Rents for Registereds']\n",
    "index = pd.DataFrame([4, 8, 12, 2, 1, 7, 6, 3, 5, 11, 10, 9], columns=[\"idx\"])\n",
    "month_effect = pd.concat([index, month_effect], axis=1)\n",
    "\n",
    "month_effect = month_effect.sort_values(['idx'], ascending=True)\n",
    "month_effect = month_effect.reset_index(drop=True)\n",
    "\n",
    "month_effect = month_effect.drop(['idx'], axis=1) \n",
    "\n",
    "ax = month_effect.plot(x=\"Month\", y=[\"Avg. # of Rents for Casuals\",\n",
    "                                       \"Avg. # of Rents for Registereds\"], kind=\"bar\",\n",
    "                                        figsize=(12,6), color=[\"darkslateblue\",\"lightsalmon\"])\n",
    "\n",
    "print(round(month_effect,1))"
   ]
  },
  {
   "cell_type": "markdown",
   "metadata": {},
   "source": [
    "***\n",
    "***\n",
    "<span style='background :yellow' >It is seen again;\n",
    "\n",
    "<span style='background :yellow' >- Both registered and casual users renting number peak on summers and fall gradually through winters.\n",
    "\n",
    "***\n",
    "***"
   ]
  },
  {
   "cell_type": "markdown",
   "metadata": {},
   "source": [
    "##### 1.3.c - Effect of \"hour\" on number of bike rental "
   ]
  },
  {
   "cell_type": "code",
   "execution_count": 10,
   "metadata": {},
   "outputs": [
    {
     "name": "stdout",
     "output_type": "stream",
     "text": [
      "    Hour  Avg. # of Rents for Casuals  Avg. # of Rents for Registereds\n",
      "0      0                         10.2                             43.7\n",
      "1      1                          6.5                             26.9\n",
      "2      2                          4.8                             18.1\n",
      "3      3                          2.7                              9.0\n",
      "4      4                          1.3                              5.1\n",
      "5      5                          1.4                             18.5\n",
      "6      6                          4.2                             71.9\n",
      "7      7                         11.1                            201.0\n",
      "8      8                         21.7                            337.3\n",
      "9      9                         30.9                            188.4\n",
      "10    10                         46.5                            127.2\n",
      "11    11                         59.5                            148.6\n",
      "12    12                         68.3                            185.0\n",
      "13    13                         72.3                            181.4\n",
      "14    14                         75.6                            165.4\n",
      "15    15                         74.9                            176.3\n",
      "16    16                         73.7                            238.2\n",
      "17    17                         74.3                            387.2\n",
      "18    18                         61.1                            364.4\n",
      "19    19                         48.8                            262.8\n",
      "20    20                         36.2                            189.8\n",
      "21    21                         28.3                            144.1\n",
      "22    22                         22.3                            109.1\n",
      "23    23                         15.2                             72.6\n"
     ]
    },
    {
     "data": {
      "image/png": "[encoded data removed]",
      "text/plain": [
       "<Figure size 1152x360 with 1 Axes>"
      ]
     },
     "metadata": {
      "needs_background": "light"
     },
     "output_type": "display_data"
    }
   ],
   "source": [
    "#Average number of bike rentals in accordance with hour\n",
    "hour_effect = bike.groupby(by='hour', as_index=False).agg({'casual_user': 'mean', 'registered_user':'mean'})\n",
    "hour_effect.columns = ['Hour', 'Avg. # of Rents for Casuals', \n",
    "                         'Avg. # of Rents for Registereds']\n",
    "hour_effect = hour_effect.sort_values(['Hour'], ascending=True)\n",
    "hour_effect = hour_effect.reset_index(drop=True)\n",
    "\n",
    "ax = hour_effect.plot(x=\"Hour\", y=[\"Avg. # of Rents for Casuals\",\n",
    "                                       \"Avg. # of Rents for Registereds\"], kind=\"bar\",\n",
    "                                        figsize=(16,5), color=[\"darkslateblue\",\"lightsalmon\"])\n",
    "\n",
    "print(round(hour_effect,1))"
   ]
  },
  {
   "cell_type": "markdown",
   "metadata": {},
   "source": [
    "***\n",
    "***\n",
    "<span style='background :yellow' >The graph shows that;\n",
    "\n",
    "<span style='background :yellow' >- During the nights very few rentings take place especially from midnight to 5 am.\n",
    "    \n",
    "<span style='background :yellow' >- The registered users' rentings make peak on rush hours and average other hours of the day.\n",
    "    \n",
    "<span style='background :yellow' >- However, casual users' rentings make peak on noon hours. This means, casual users are usually not working people.\n",
    "\n",
    "***\n",
    "***"
   ]
  },
  {
   "cell_type": "markdown",
   "metadata": {},
   "source": [
    "##### 1.3.d - Effect of \"holiday\" on number of bike rental "
   ]
  },
  {
   "cell_type": "code",
   "execution_count": 11,
   "metadata": {},
   "outputs": [
    {
     "name": "stdout",
     "output_type": "stream",
     "text": [
      "  Holiday  Avg. # of Rents for Casuals  Avg. # of Rents for Registereds\n",
      "0     Yes                         44.7                            112.2\n",
      "1      No                         35.4                            155.0\n"
     ]
    },
    {
     "data": {
      "image/png": "[encoded data removed]",
      "text/plain": [
       "<Figure size 576x360 with 1 Axes>"
      ]
     },
     "metadata": {
      "needs_background": "light"
     },
     "output_type": "display_data"
    }
   ],
   "source": [
    "#Average number of bike rentals in accordance with holiday\n",
    "holiday_effect = bike.groupby(by='holiday', as_index=False).agg({'casual_user': 'mean', 'registered_user':'mean'})\n",
    "holiday_effect.columns = ['Holiday', 'Avg. # of Rents for Casuals', \n",
    "                         'Avg. # of Rents for Registereds']\n",
    "holiday_effect = holiday_effect.sort_values(['Holiday'], ascending=False)\n",
    "holiday_effect = holiday_effect.reset_index(drop=True)\n",
    "\n",
    "ax = holiday_effect.plot(x=\"Holiday\", y=[\"Avg. # of Rents for Casuals\",\n",
    "                                       \"Avg. # of Rents for Registereds\"], kind=\"bar\",\n",
    "                                        figsize=(8,5), color=[\"darkslateblue\",\"lightsalmon\"])\n",
    "\n",
    "print(round(holiday_effect,1))"
   ]
  },
  {
   "cell_type": "markdown",
   "metadata": {},
   "source": [
    "***\n",
    "***\n",
    "<span style='background :yellow' >The graph shows that;\n",
    "\n",
    "<span style='background :yellow' >- Casual users' rentings do not be affected as much as registered users' from holidays. This means, usually working people use these bikes as registered because on holidays the usage number decreases meaningly. \n",
    "    \n",
    "***\n",
    "***"
   ]
  },
  {
   "cell_type": "markdown",
   "metadata": {},
   "source": [
    "##### 1.3.e - Effect of \"weekday\" on number of bike rental "
   ]
  },
  {
   "cell_type": "code",
   "execution_count": 12,
   "metadata": {},
   "outputs": [
    {
     "name": "stdout",
     "output_type": "stream",
     "text": [
      "         Day  Avg. # of Rents for Casuals  Avg. # of Rents for Registereds\n",
      "0     Monday                         28.6                            155.2\n",
      "1    Tuesday                         23.6                            167.7\n",
      "2  Wednesday                         23.2                            168.0\n",
      "3   Thursday                         24.9                            171.6\n",
      "4     Friday                         31.5                            164.7\n",
      "5   Saturday                         61.2                            129.0\n",
      "6     Sunday                         56.2                            121.3\n"
     ]
    },
    {
     "data": {
      "image/png": "[encoded data removed]",
      "text/plain": [
       "<Figure size 864x432 with 1 Axes>"
      ]
     },
     "metadata": {
      "needs_background": "light"
     },
     "output_type": "display_data"
    }
   ],
   "source": [
    "#Average number of bike rentals in accordance with week days\n",
    "weekday_effect = bike.groupby(by='weekday', as_index=False).agg({'casual_user': 'mean', 'registered_user':'mean'})\n",
    "weekday_effect.columns = ['Day', 'Avg. # of Rents for Casuals', \n",
    "                         'Avg. # of Rents for Registereds']\n",
    "\n",
    "index = pd.DataFrame([5, 1, 6, 7, 4, 2, 3], columns=[\"idx\"])\n",
    "weekday_effect = pd.concat([index, weekday_effect], axis=1)\n",
    "\n",
    "weekday_effect = weekday_effect.sort_values(['idx'], ascending=True)\n",
    "weekday_effect = weekday_effect.reset_index(drop=True)\n",
    "\n",
    "weekday_effect = weekday_effect.drop(['idx'], axis=1)\n",
    "\n",
    "ax = weekday_effect.plot(x=\"Day\", y=[\"Avg. # of Rents for Casuals\",\n",
    "                                       \"Avg. # of Rents for Registereds\"], kind=\"bar\",\n",
    "                                        figsize=(12,6), color=[\"darkslateblue\",\"lightsalmon\"])\n",
    "\n",
    "print(round(weekday_effect,1))"
   ]
  },
  {
   "cell_type": "markdown",
   "metadata": {},
   "source": [
    "***\n",
    "***\n",
    "<span style='background :yellow' >The graph shows that;\n",
    "\n",
    "<span style='background :yellow' >- Casual users' rentings peak on weekends while registered users' rentings drop on weekends. This means again, registered users are working people and casual users not.\n",
    "    \n",
    "***\n",
    "***"
   ]
  },
  {
   "cell_type": "markdown",
   "metadata": {},
   "source": [
    "##### 1.3.f - Effect of \"workingday\" on number of bike rental "
   ]
  },
  {
   "cell_type": "code",
   "execution_count": 13,
   "metadata": {},
   "outputs": [
    {
     "name": "stdout",
     "output_type": "stream",
     "text": [
      "  Workingday  Avg. # of Rents for Casuals  Avg. # of Rents for Registereds\n",
      "0        Yes                         25.6                            167.6\n",
      "1         No                         57.4                            124.0\n"
     ]
    },
    {
     "data": {
      "image/png": "[encoded data removed]",
      "text/plain": [
       "<Figure size 432x288 with 1 Axes>"
      ]
     },
     "metadata": {
      "needs_background": "light"
     },
     "output_type": "display_data"
    }
   ],
   "source": [
    "#Average number of bike rentals in accordance with working days\n",
    "workingday_effect = bike.groupby(by='workingday', as_index=False).agg({'casual_user': 'mean', 'registered_user':'mean'})\n",
    "workingday_effect.columns = ['Workingday', 'Avg. # of Rents for Casuals', \n",
    "                         'Avg. # of Rents for Registereds']\n",
    "workingday_effect = workingday_effect.sort_values(['Workingday'], ascending=False)\n",
    "workingday_effect = workingday_effect.reset_index(drop=True)\n",
    "\n",
    "ax = workingday_effect.plot(x=\"Workingday\", y=[\"Avg. # of Rents for Casuals\",\n",
    "                                       \"Avg. # of Rents for Registereds\"], kind=\"bar\",\n",
    "                                        figsize=(6,4), color=[\"darkslateblue\",\"lightsalmon\"])\n",
    "\n",
    "print(round(workingday_effect,1))"
   ]
  },
  {
   "cell_type": "markdown",
   "metadata": {},
   "source": [
    "##### 1.3.g - Effect of \"weather\" on number of bike rental "
   ]
  },
  {
   "cell_type": "code",
   "execution_count": 14,
   "metadata": {},
   "outputs": [
    {
     "name": "stdout",
     "output_type": "stream",
     "text": [
      "                         Weather  Avg. # of Rents for Casuals  \\\n",
      "0                   Mist, Cloudy                         29.6   \n",
      "1         Light rain, Light snow                         16.1   \n",
      "2  Heavy rain, Snow, Thundestorm                          2.7   \n",
      "3           Clear, Partly cloudy                         40.5   \n",
      "\n",
      "   Avg. # of Rents for Registereds  \n",
      "0                            145.6  \n",
      "1                             95.5  \n",
      "2                             71.7  \n",
      "3                            164.3  \n"
     ]
    },
    {
     "data": {
      "image/png": "[encoded data removed]",
      "text/plain": [
       "<Figure size 576x288 with 1 Axes>"
      ]
     },
     "metadata": {
      "needs_background": "light"
     },
     "output_type": "display_data"
    }
   ],
   "source": [
    "#Average number of bike rentals in accordance with working days\n",
    "weather_effect = bike.groupby(by='weather', as_index=False).agg({'casual_user': 'mean', 'registered_user':'mean'})\n",
    "weather_effect.columns = ['Weather', 'Avg. # of Rents for Casuals', \n",
    "                         'Avg. # of Rents for Registereds']\n",
    "weather_effect = weather_effect.sort_values(['Weather'], ascending=False)\n",
    "weather_effect = weather_effect.reset_index(drop=True)\n",
    "\n",
    "ax = weather_effect.plot(x=\"Weather\", y=[\"Avg. # of Rents for Casuals\",\n",
    "                                       \"Avg. # of Rents for Registereds\"], kind=\"bar\",\n",
    "                                        figsize=(8,4), color=[\"darkslateblue\",\"lightsalmon\"])\n",
    "\n",
    "print(round(weather_effect,1))"
   ]
  },
  {
   "cell_type": "markdown",
   "metadata": {},
   "source": [
    "##### 1.3.h - Effect of \"temp\" and \"apparent_temp\" on number of bike rental "
   ]
  },
  {
   "cell_type": "code",
   "execution_count": 15,
   "metadata": {},
   "outputs": [
    {
     "data": {
      "image/png": "[encoded data removed]",
      "text/plain": [
       "<Figure size 1152x432 with 2 Axes>"
      ]
     },
     "metadata": {
      "needs_background": "light"
     },
     "output_type": "display_data"
    }
   ],
   "source": [
    "#Distribution of bike rentals according to temperature and apparent temperature\n",
    "fig, ax = plt.subplots(1,2)\n",
    "fig.set_size_inches(16, 6)        \n",
    "\n",
    "sns.scatterplot(y=\"total_user\", x=\"temp\", data= bike, legend=False, ax = ax[0])\n",
    "ax[0].set_xlabel(\"Temperature\")\n",
    "ax[0].set_ylabel(\"Total Users\")\n",
    "      \n",
    "ax[0].spines['right'].set_visible(False)\n",
    "ax[0].spines['top'].set_visible(False)\n",
    "\n",
    "\n",
    "sns.scatterplot(y=\"total_user\", x=\"apparent_temp\", data= bike, legend=False, ax = ax[1])\n",
    "ax[1].set_xlabel(\"Apparent Temperature\")\n",
    "ax[1].set_ylabel(\"Total Users\")\n",
    "      \n",
    "ax[1].spines['right'].set_visible(False)\n",
    "ax[1].spines['top'].set_visible(False)"
   ]
  },
  {
   "cell_type": "markdown",
   "metadata": {},
   "source": [
    "***\n",
    "***\n",
    "<span style='background :yellow' >The graphs show that;\n",
    "\n",
    "<span style='background :yellow' >- The most preferred weather temperature is between 20 - 30 degrees, while the most preferred apparent temperature is around 30 degrees. \n",
    "    \n",
    "<span style='background :yellow' >- Distribution of rentals in accordance with temperature makes a funnel shape.\n",
    "    \n",
    "<span style='background :yellow' >- Average temperatures are preferred mostly by people for renting, neither low nor high temperatures preferred.\n",
    "    \n",
    "***\n",
    "***"
   ]
  },
  {
   "cell_type": "markdown",
   "metadata": {},
   "source": [
    "##### 1.3.i - Effect of \"humidity\" on number of bike rental "
   ]
  },
  {
   "cell_type": "code",
   "execution_count": 16,
   "metadata": {},
   "outputs": [
    {
     "data": {
      "image/png": "[encoded data removed]",
      "text/plain": [
       "<Figure size 1008x432 with 1 Axes>"
      ]
     },
     "metadata": {
      "needs_background": "light"
     },
     "output_type": "display_data"
    }
   ],
   "source": [
    "#Distribution of bike rentals according to humidity\n",
    "fig, ax = plt.subplots()\n",
    "fig.set_size_inches(14, 6)        \n",
    "\n",
    "sns.scatterplot(y=\"total_user\", x=\"humidity\", data= bike, legend=False)\n",
    "plt.xlabel(\"Humidity\")\n",
    "plt.ylabel(\"Total Users\")\n",
    "      \n",
    "ax.spines['right'].set_visible(False)\n",
    "ax.spines['top'].set_visible(False)"
   ]
  },
  {
   "cell_type": "markdown",
   "metadata": {},
   "source": [
    "***\n",
    "***\n",
    "<span style='background :yellow' >- It seems that; humidity does not have a significant effect on rentals, but high humidity levels decreases a little bit the number of rentals.\n",
    "    \n",
    "***\n",
    "***"
   ]
  },
  {
   "cell_type": "markdown",
   "metadata": {},
   "source": [
    "##### 1.3.j - Effect of \"windspeed\" on number of bike rental "
   ]
  },
  {
   "cell_type": "code",
   "execution_count": 17,
   "metadata": {},
   "outputs": [
    {
     "data": {
      "image/png": "[encoded data removed]",
      "text/plain": [
       "<Figure size 1008x432 with 1 Axes>"
      ]
     },
     "metadata": {
      "needs_background": "light"
     },
     "output_type": "display_data"
    }
   ],
   "source": [
    "#Distribution of bike rentals according to wind speed\n",
    "fig, ax = plt.subplots()\n",
    "fig.set_size_inches(14, 6)        \n",
    "\n",
    "sns.scatterplot(y=\"total_user\", x=\"windspeed\", data= bike, legend=False)\n",
    "plt.xlabel(\"Wind Speed\")\n",
    "plt.ylabel(\"Total Users\")\n",
    "      \n",
    "ax.spines['right'].set_visible(False)\n",
    "ax.spines['top'].set_visible(False)"
   ]
  },
  {
   "cell_type": "markdown",
   "metadata": {},
   "source": [
    "***\n",
    "***\n",
    "<span style='background :yellow' >- It seems that; wind speed does not have a significant effect on rentals, but high wind speeds, over than 40, decreases the number of rentals.\n",
    "    \n",
    "***\n",
    "***"
   ]
  },
  {
   "cell_type": "markdown",
   "metadata": {},
   "source": [
    "***"
   ]
  },
  {
   "cell_type": "markdown",
   "metadata": {},
   "source": [
    "# 2 - DATA PREPROCESSING"
   ]
  },
  {
   "cell_type": "markdown",
   "metadata": {},
   "source": [
    "***"
   ]
  },
  {
   "cell_type": "markdown",
   "metadata": {},
   "source": [
    "### 2.1 - Data Cleaning"
   ]
  },
  {
   "cell_type": "markdown",
   "metadata": {},
   "source": [
    "##### 2.1.a - Removing duplicated entries"
   ]
  },
  {
   "cell_type": "code",
   "execution_count": 18,
   "metadata": {},
   "outputs": [
    {
     "name": "stdout",
     "output_type": "stream",
     "text": [
      "False    17379\n",
      "dtype: int64\n"
     ]
    }
   ],
   "source": [
    "print(bike.duplicated().value_counts())\n",
    "\n",
    "bike = bike.drop_duplicates()"
   ]
  },
  {
   "cell_type": "markdown",
   "metadata": {},
   "source": [
    "***\n",
    "***\n",
    "<span style='background :yellow' >- There is no duplicated entries in the dataset.\n",
    "    \n",
    "***    \n",
    "***"
   ]
  },
  {
   "cell_type": "markdown",
   "metadata": {},
   "source": [
    "##### 2.1.b - Missing data handling"
   ]
  },
  {
   "cell_type": "code",
   "execution_count": 19,
   "metadata": {},
   "outputs": [
    {
     "data": {
      "text/html": [
       "<div>\n",
       "<style scoped>\n",
       "    .dataframe tbody tr th:only-of-type {\n",
       "        vertical-align: middle;\n",
       "    }\n",
       "\n",
       "    .dataframe tbody tr th {\n",
       "        vertical-align: top;\n",
       "    }\n",
       "\n",
       "    .dataframe thead th {\n",
       "        text-align: right;\n",
       "    }\n",
       "</style>\n",
       "<table border=\"1\" class=\"dataframe\">\n",
       "  <thead>\n",
       "    <tr style=\"text-align: right;\">\n",
       "      <th></th>\n",
       "      <th># of missing values</th>\n",
       "      <th>% of missing part</th>\n",
       "    </tr>\n",
       "  </thead>\n",
       "  <tbody>\n",
       "    <tr>\n",
       "      <td>total_user</td>\n",
       "      <td>0</td>\n",
       "      <td>0.0</td>\n",
       "    </tr>\n",
       "    <tr>\n",
       "      <td>weekday</td>\n",
       "      <td>0</td>\n",
       "      <td>0.0</td>\n",
       "    </tr>\n",
       "    <tr>\n",
       "      <td>date</td>\n",
       "      <td>0</td>\n",
       "      <td>0.0</td>\n",
       "    </tr>\n",
       "    <tr>\n",
       "      <td>season</td>\n",
       "      <td>0</td>\n",
       "      <td>0.0</td>\n",
       "    </tr>\n",
       "    <tr>\n",
       "      <td>year</td>\n",
       "      <td>0</td>\n",
       "      <td>0.0</td>\n",
       "    </tr>\n",
       "    <tr>\n",
       "      <td>month</td>\n",
       "      <td>0</td>\n",
       "      <td>0.0</td>\n",
       "    </tr>\n",
       "    <tr>\n",
       "      <td>hour</td>\n",
       "      <td>0</td>\n",
       "      <td>0.0</td>\n",
       "    </tr>\n",
       "    <tr>\n",
       "      <td>holiday</td>\n",
       "      <td>0</td>\n",
       "      <td>0.0</td>\n",
       "    </tr>\n",
       "    <tr>\n",
       "      <td>workingday</td>\n",
       "      <td>0</td>\n",
       "      <td>0.0</td>\n",
       "    </tr>\n",
       "    <tr>\n",
       "      <td>registered_user</td>\n",
       "      <td>0</td>\n",
       "      <td>0.0</td>\n",
       "    </tr>\n",
       "    <tr>\n",
       "      <td>weather</td>\n",
       "      <td>0</td>\n",
       "      <td>0.0</td>\n",
       "    </tr>\n",
       "    <tr>\n",
       "      <td>temp</td>\n",
       "      <td>0</td>\n",
       "      <td>0.0</td>\n",
       "    </tr>\n",
       "    <tr>\n",
       "      <td>apparent_temp</td>\n",
       "      <td>0</td>\n",
       "      <td>0.0</td>\n",
       "    </tr>\n",
       "    <tr>\n",
       "      <td>humidity</td>\n",
       "      <td>0</td>\n",
       "      <td>0.0</td>\n",
       "    </tr>\n",
       "    <tr>\n",
       "      <td>windspeed</td>\n",
       "      <td>0</td>\n",
       "      <td>0.0</td>\n",
       "    </tr>\n",
       "    <tr>\n",
       "      <td>casual_user</td>\n",
       "      <td>0</td>\n",
       "      <td>0.0</td>\n",
       "    </tr>\n",
       "    <tr>\n",
       "      <td>instant</td>\n",
       "      <td>0</td>\n",
       "      <td>0.0</td>\n",
       "    </tr>\n",
       "  </tbody>\n",
       "</table>\n",
       "</div>"
      ],
      "text/plain": [
       "                 # of missing values  % of missing part\n",
       "total_user                         0                0.0\n",
       "weekday                            0                0.0\n",
       "date                               0                0.0\n",
       "season                             0                0.0\n",
       "year                               0                0.0\n",
       "month                              0                0.0\n",
       "hour                               0                0.0\n",
       "holiday                            0                0.0\n",
       "workingday                         0                0.0\n",
       "registered_user                    0                0.0\n",
       "weather                            0                0.0\n",
       "temp                               0                0.0\n",
       "apparent_temp                      0                0.0\n",
       "humidity                           0                0.0\n",
       "windspeed                          0                0.0\n",
       "casual_user                        0                0.0\n",
       "instant                            0                0.0"
      ]
     },
     "execution_count": 19,
     "metadata": {},
     "output_type": "execute_result"
    }
   ],
   "source": [
    "#Missing value search\n",
    "number_of_missing_data = (bike.isnull().sum()).sort_values(ascending=False)\n",
    "number_of_missing_data = pd.DataFrame(number_of_missing_data, columns=['# of missing values'])                                                                    \n",
    "percentage_of_missing_data = (bike.isnull().sum()/bike.shape[0]*100).sort_values(ascending=False)\n",
    "percentage_of_missing_data = pd.DataFrame(percentage_of_missing_data, columns=['% of missing part'])\n",
    "missing = pd.concat([number_of_missing_data,percentage_of_missing_data], axis=1) \n",
    "\n",
    "missing"
   ]
  },
  {
   "cell_type": "markdown",
   "metadata": {},
   "source": [
    "***\n",
    "***\n",
    "<span style='background :yellow' >- There is no missing entries in the dataset.\n",
    "    \n",
    "***    \n",
    "***"
   ]
  },
  {
   "cell_type": "markdown",
   "metadata": {},
   "source": [
    "##### 2.1.c - Removing outliers"
   ]
  },
  {
   "cell_type": "code",
   "execution_count": 20,
   "metadata": {},
   "outputs": [],
   "source": [
    "#For 'temp' attribute\n",
    "\n",
    "Q1 = bike.temp.quantile(q=0.25)\n",
    "Q3 = bike.temp.quantile(q=0.75)\n",
    "IQR = Q3 - Q1\n",
    "minimum = Q1 - IQR*1.5\n",
    "maximum = Q3 + IQR*1.5\n",
    "bike = bike[(bike['temp'] > minimum) & (bike['temp'] < maximum)]\n",
    "\n",
    "\n",
    "#For 'apparent_temp' attribute\n",
    "\n",
    "Q1 = bike.apparent_temp.quantile(q=0.25)\n",
    "Q3 = bike.apparent_temp.quantile(q=0.75)\n",
    "IQR = Q3 - Q1\n",
    "minimum = Q1 - IQR*1.5\n",
    "maximum = Q3 + IQR*1.5\n",
    "bike = bike[(bike['apparent_temp'] > minimum) & (bike['apparent_temp'] < maximum)]\n",
    "\n",
    "\n",
    "#For 'humidity' attribute\n",
    "\n",
    "Q1 = bike.humidity.quantile(q=0.25)\n",
    "Q3 = bike.humidity.quantile(q=0.75)\n",
    "IQR = Q3 - Q1\n",
    "minimum = Q1 - IQR*1.5\n",
    "maximum = Q3 + IQR*1.5\n",
    "bike = bike[(bike['humidity'] > minimum) & (bike['humidity'] < maximum)]\n",
    "\n",
    "\n",
    "#For 'windspeed' attribute\n",
    "\n",
    "Q1 = bike.windspeed.quantile(q=0.25)\n",
    "Q3 = bike.windspeed.quantile(q=0.75)\n",
    "IQR = Q3 - Q1\n",
    "minimum = Q1 - IQR*1.5\n",
    "maximum = Q3 + IQR*1.5\n",
    "bike = bike[(bike['windspeed'] > minimum) & (bike['windspeed'] < maximum)]\n",
    "\n",
    "\n",
    "#For 'total_user' attribute\n",
    "\n",
    "Q1 = bike.total_user.quantile(q=0.25)\n",
    "Q3 = bike.total_user.quantile(q=0.75)\n",
    "IQR = Q3 - Q1\n",
    "minimum = Q1 - IQR*1.5\n",
    "maximum = Q3 + IQR*1.5\n",
    "bike = bike[(bike['total_user'] > minimum) & (bike['total_user'] < maximum)]\n",
    "\n",
    "\n",
    "bike = bike.reset_index(drop=True)"
   ]
  },
  {
   "cell_type": "markdown",
   "metadata": {},
   "source": [
    "***\n",
    "***\n",
    "<span style='background :yellow' >- After removing the outliers from the dataset; there are 16.533 rows instead of 17.379 remainig.\n",
    "    \n",
    "***    \n",
    "***"
   ]
  },
  {
   "cell_type": "markdown",
   "metadata": {},
   "source": [
    "### 2.2 - Data Reduction"
   ]
  },
  {
   "cell_type": "markdown",
   "metadata": {},
   "source": [
    "##### 2.2.a - Removing redundant columns"
   ]
  },
  {
   "cell_type": "markdown",
   "metadata": {},
   "source": [
    "<span style='background :yellow' >- The \"instant\" column carry no information for modelling. It just shows the number of instances of rentals and it is unnecessary for modelling."
   ]
  },
  {
   "cell_type": "code",
   "execution_count": 21,
   "metadata": {},
   "outputs": [],
   "source": [
    "bike = bike.drop(['instant'], axis=1)"
   ]
  },
  {
   "cell_type": "markdown",
   "metadata": {},
   "source": [
    "### 2.3 - Data Discretization"
   ]
  },
  {
   "cell_type": "markdown",
   "metadata": {},
   "source": [
    "##### 2.3.a - Discretization of \"temp\" attribute"
   ]
  },
  {
   "cell_type": "code",
   "execution_count": 22,
   "metadata": {
    "scrolled": false
   },
   "outputs": [
    {
     "name": "stdout",
     "output_type": "stream",
     "text": [
      "count    16533.000000\n",
      "mean        15.217480\n",
      "std          9.057601\n",
      "min         -7.100000\n",
      "25%          8.000000\n",
      "50%         15.500000\n",
      "75%         22.100000\n",
      "max         39.000000\n",
      "Name: temp, dtype: float64\n"
     ]
    },
    {
     "data": {
      "text/plain": [
       "<matplotlib.axes._subplots.AxesSubplot at 0x1c6db99f648>"
      ]
     },
     "execution_count": 22,
     "metadata": {},
     "output_type": "execute_result"
    },
    {
     "data": {
      "image/png": "[encoded data removed]",
      "text/plain": [
       "<Figure size 432x288 with 1 Axes>"
      ]
     },
     "metadata": {
      "needs_background": "light"
     },
     "output_type": "display_data"
    }
   ],
   "source": [
    "print(bike.temp.describe())\n",
    "\n",
    "sns.distplot(bike.temp)"
   ]
  },
  {
   "cell_type": "markdown",
   "metadata": {},
   "source": [
    "<span style='background :yellow' >- Discretization was applied according to histogram graph by dividing parts"
   ]
  },
  {
   "cell_type": "code",
   "execution_count": 23,
   "metadata": {},
   "outputs": [],
   "source": [
    "#Apply discretization\n",
    "mean = bike.temp.mean()\n",
    "std = np.std(bike.temp)\n",
    "minimum = bike.temp.min()\n",
    "maximum = bike.temp.max()\n",
    "\n",
    "temp = bike.temp\n",
    "bike = bike.drop(['temp'], axis=1)\n",
    "\n",
    "for i in range(bike.shape[0]):\n",
    "    if minimum <= temp[i] < (mean - std):\n",
    "        temp[i] = 'very cold weather'\n",
    "        continue\n",
    "    if (mean - std) <= temp[i] < mean:\n",
    "        temp[i] = 'cold weather'\n",
    "        continue\n",
    "    if mean <= temp[i] < (mean + std):\n",
    "        temp[i] = 'normal weather'\n",
    "        continue\n",
    "    if (mean + std) <= temp[i] <= maximum:\n",
    "        temp[i] = 'hot weather'\n",
    "        continue\n",
    "          \n",
    "bike = pd.concat([bike,temp], axis=1)\n",
    "\n",
    "bike['temp'] = bike['temp'].astype(str)\n"
   ]
  },
  {
   "cell_type": "markdown",
   "metadata": {},
   "source": [
    "##### 2.3.b - Discretization of \"apparent_temp\" attribute"
   ]
  },
  {
   "cell_type": "code",
   "execution_count": 24,
   "metadata": {},
   "outputs": [
    {
     "name": "stdout",
     "output_type": "stream",
     "text": [
      "count    16533.000000\n",
      "mean        15.255429\n",
      "std         11.326758\n",
      "min        -16.000000\n",
      "25%          6.000000\n",
      "50%         16.000000\n",
      "75%         25.000000\n",
      "max         50.000000\n",
      "Name: apparent_temp, dtype: float64\n"
     ]
    },
    {
     "data": {
      "text/plain": [
       "<matplotlib.axes._subplots.AxesSubplot at 0x1c6dbc11688>"
      ]
     },
     "execution_count": 24,
     "metadata": {},
     "output_type": "execute_result"
    },
    {
     "data": {
      "image/png": "[encoded data removed]",
      "text/plain": [
       "<Figure size 432x288 with 1 Axes>"
      ]
     },
     "metadata": {
      "needs_background": "light"
     },
     "output_type": "display_data"
    }
   ],
   "source": [
    "print(bike.apparent_temp.describe())\n",
    "\n",
    "sns.distplot(bike.apparent_temp)"
   ]
  },
  {
   "cell_type": "code",
   "execution_count": 25,
   "metadata": {},
   "outputs": [],
   "source": [
    "#Apply discretization\n",
    "mean = bike.apparent_temp.mean()\n",
    "std = np.std(bike.apparent_temp)\n",
    "minimum = bike.apparent_temp.min()\n",
    "maximum = bike.apparent_temp.max()\n",
    "percent25 = 6\n",
    "percent50 = 16\n",
    "percent75 = 25\n",
    "\n",
    "apparent_temp = bike.apparent_temp\n",
    "bike = bike.drop(['apparent_temp'], axis=1)\n",
    "\n",
    "for i in range(bike.shape[0]):\n",
    "    if minimum <= apparent_temp[i] < (percent25 - std):\n",
    "        apparent_temp[i] = 'very cold weather'\n",
    "        continue\n",
    "    if (percent25 - std) <= apparent_temp[i] < 10:\n",
    "        apparent_temp[i] = 'cold weather'\n",
    "        continue\n",
    "    if 10 <= apparent_temp[i] < 20:\n",
    "        apparent_temp[i] = 'normal weather'\n",
    "        continue\n",
    "    if 20 <= apparent_temp[i] < 30:\n",
    "        apparent_temp[i] = 'hot weather'\n",
    "        continue\n",
    "    if 30 <= apparent_temp[i] <= maximum:\n",
    "        apparent_temp[i] = 'very hot weather'\n",
    "        continue\n",
    "          \n",
    "bike = pd.concat([bike,apparent_temp], axis=1)\n",
    "\n",
    "bike['apparent_temp'] = bike['apparent_temp'].astype(str)\n"
   ]
  },
  {
   "cell_type": "markdown",
   "metadata": {},
   "source": [
    "##### 2.3.c - Discretization of \"humidity\" attribute"
   ]
  },
  {
   "cell_type": "code",
   "execution_count": 26,
   "metadata": {},
   "outputs": [
    {
     "name": "stdout",
     "output_type": "stream",
     "text": [
      "count    16533.000000\n",
      "mean        63.410875\n",
      "std         19.009707\n",
      "min          8.000000\n",
      "25%         49.000000\n",
      "50%         64.000000\n",
      "75%         79.000000\n",
      "max        100.000000\n",
      "Name: humidity, dtype: float64\n"
     ]
    },
    {
     "data": {
      "text/plain": [
       "<matplotlib.axes._subplots.AxesSubplot at 0x1c6dbcdfb08>"
      ]
     },
     "execution_count": 26,
     "metadata": {},
     "output_type": "execute_result"
    },
    {
     "data": {
      "image/png": "[encoded data removed]",
      "text/plain": [
       "<Figure size 432x288 with 1 Axes>"
      ]
     },
     "metadata": {
      "needs_background": "light"
     },
     "output_type": "display_data"
    }
   ],
   "source": [
    "print(bike.humidity.describe())\n",
    "\n",
    "sns.distplot(bike.humidity)"
   ]
  },
  {
   "cell_type": "code",
   "execution_count": 27,
   "metadata": {},
   "outputs": [],
   "source": [
    "#Apply discretization\n",
    "mean = bike.humidity.mean()\n",
    "std = np.std(bike.humidity)\n",
    "minimum = bike.humidity.min()\n",
    "maximum = bike.humidity.max()\n",
    "\n",
    "humidity = bike.humidity\n",
    "bike = bike.drop(['humidity'], axis=1)\n",
    "\n",
    "for i in range(bike.shape[0]):\n",
    "    if minimum <= humidity[i] < 40:\n",
    "        humidity[i] = 'low humidity'\n",
    "        continue\n",
    "    if 40 <= humidity[i] < 85:\n",
    "        humidity[i] = 'normal humidity'\n",
    "        continue\n",
    "    if 85 <= humidity[i] < maximum:\n",
    "        humidity[i] = 'high humidity'\n",
    "        continue\n",
    "              \n",
    "bike = pd.concat([bike,humidity], axis=1)\n",
    "\n",
    "bike['humidity'] = bike['humidity'].astype(str)"
   ]
  },
  {
   "cell_type": "markdown",
   "metadata": {},
   "source": [
    "##### 2.3.d - Discretization of \"windspeed\" attribute"
   ]
  },
  {
   "cell_type": "code",
   "execution_count": 28,
   "metadata": {},
   "outputs": [
    {
     "name": "stdout",
     "output_type": "stream",
     "text": [
      "count    16533.000000\n",
      "mean        12.217202\n",
      "std          7.511178\n",
      "min          0.000000\n",
      "25%          7.000000\n",
      "50%         11.000000\n",
      "75%         17.000000\n",
      "max         31.000000\n",
      "Name: windspeed, dtype: float64\n"
     ]
    },
    {
     "data": {
      "text/plain": [
       "<matplotlib.axes._subplots.AxesSubplot at 0x1c6dbd7ff08>"
      ]
     },
     "execution_count": 28,
     "metadata": {},
     "output_type": "execute_result"
    },
    {
     "data": {
      "image/png": "[encoded data removed]",
      "text/plain": [
       "<Figure size 432x288 with 1 Axes>"
      ]
     },
     "metadata": {
      "needs_background": "light"
     },
     "output_type": "display_data"
    }
   ],
   "source": [
    "print(bike.windspeed.describe())\n",
    "\n",
    "sns.distplot(bike.windspeed)"
   ]
  },
  {
   "cell_type": "code",
   "execution_count": 29,
   "metadata": {},
   "outputs": [],
   "source": [
    "#Apply discretization\n",
    "mean = bike.windspeed.mean()\n",
    "std = np.std(bike.windspeed)\n",
    "minimum = bike.windspeed.min()\n",
    "maximum = bike.windspeed.max()\n",
    "percent25 = 7\n",
    "percent50 = 13\n",
    "percent75 = 17\n",
    "\n",
    "windspeed = bike.windspeed\n",
    "bike = bike.drop(['windspeed'], axis=1)\n",
    "\n",
    "for i in range(bike.shape[0]):\n",
    "    if minimum <= windspeed[i] < percent25:\n",
    "        windspeed[i] = 'low wind speed'\n",
    "        continue\n",
    "    if percent25 <= windspeed[i] < percent75:\n",
    "        windspeed[i] = 'normal wind speed'\n",
    "        continue\n",
    "    if percent75 <= windspeed[i] < maximum:\n",
    "        windspeed[i] = 'high wind speed'\n",
    "        continue\n",
    "              \n",
    "bike = pd.concat([bike,windspeed], axis=1)\n",
    "\n",
    "bike['windspeed'] = bike['windspeed'].astype(str)\n"
   ]
  },
  {
   "cell_type": "markdown",
   "metadata": {},
   "source": [
    "### 2.4 - Feature Selection"
   ]
  },
  {
   "cell_type": "markdown",
   "metadata": {},
   "source": [
    "##### 2.4.a - Chi2 correlation search for registered users"
   ]
  },
  {
   "cell_type": "code",
   "execution_count": 30,
   "metadata": {},
   "outputs": [
    {
     "data": {
      "text/html": [
       "<div>\n",
       "<style scoped>\n",
       "    .dataframe tbody tr th:only-of-type {\n",
       "        vertical-align: middle;\n",
       "    }\n",
       "\n",
       "    .dataframe tbody tr th {\n",
       "        vertical-align: top;\n",
       "    }\n",
       "\n",
       "    .dataframe thead th {\n",
       "        text-align: right;\n",
       "    }\n",
       "</style>\n",
       "<table border=\"1\" class=\"dataframe\">\n",
       "  <thead>\n",
       "    <tr style=\"text-align: right;\">\n",
       "      <th></th>\n",
       "      <th>features</th>\n",
       "      <th>values</th>\n",
       "      <th>p-values</th>\n",
       "    </tr>\n",
       "  </thead>\n",
       "  <tbody>\n",
       "    <tr>\n",
       "      <td>0</td>\n",
       "      <td>apparent_temp</td>\n",
       "      <td>1712.255762</td>\n",
       "      <td>3.220440e-108</td>\n",
       "    </tr>\n",
       "    <tr>\n",
       "      <td>1</td>\n",
       "      <td>month</td>\n",
       "      <td>1515.174723</td>\n",
       "      <td>3.431550e-81</td>\n",
       "    </tr>\n",
       "    <tr>\n",
       "      <td>2</td>\n",
       "      <td>weather</td>\n",
       "      <td>1354.097899</td>\n",
       "      <td>1.060698e-60</td>\n",
       "    </tr>\n",
       "    <tr>\n",
       "      <td>3</td>\n",
       "      <td>weekday</td>\n",
       "      <td>933.263606</td>\n",
       "      <td>3.198302e-17</td>\n",
       "    </tr>\n",
       "    <tr>\n",
       "      <td>4</td>\n",
       "      <td>season</td>\n",
       "      <td>887.461159</td>\n",
       "      <td>9.746644e-14</td>\n",
       "    </tr>\n",
       "    <tr>\n",
       "      <td>5</td>\n",
       "      <td>temp</td>\n",
       "      <td>871.179830</td>\n",
       "      <td>1.406386e-12</td>\n",
       "    </tr>\n",
       "    <tr>\n",
       "      <td>6</td>\n",
       "      <td>holiday</td>\n",
       "      <td>486.820385</td>\n",
       "      <td>9.996498e-01</td>\n",
       "    </tr>\n",
       "    <tr>\n",
       "      <td>7</td>\n",
       "      <td>workingday</td>\n",
       "      <td>379.428705</td>\n",
       "      <td>1.000000e+00</td>\n",
       "    </tr>\n",
       "    <tr>\n",
       "      <td>8</td>\n",
       "      <td>windspeed</td>\n",
       "      <td>231.805747</td>\n",
       "      <td>1.000000e+00</td>\n",
       "    </tr>\n",
       "    <tr>\n",
       "      <td>9</td>\n",
       "      <td>humidity</td>\n",
       "      <td>205.269537</td>\n",
       "      <td>1.000000e+00</td>\n",
       "    </tr>\n",
       "  </tbody>\n",
       "</table>\n",
       "</div>"
      ],
      "text/plain": [
       "        features       values       p-values\n",
       "0  apparent_temp  1712.255762  3.220440e-108\n",
       "1          month  1515.174723   3.431550e-81\n",
       "2        weather  1354.097899   1.060698e-60\n",
       "3        weekday   933.263606   3.198302e-17\n",
       "4         season   887.461159   9.746644e-14\n",
       "5           temp   871.179830   1.406386e-12\n",
       "6        holiday   486.820385   9.996498e-01\n",
       "7     workingday   379.428705   1.000000e+00\n",
       "8      windspeed   231.805747   1.000000e+00\n",
       "9       humidity   205.269537   1.000000e+00"
      ]
     },
     "execution_count": 30,
     "metadata": {},
     "output_type": "execute_result"
    }
   ],
   "source": [
    "le = LabelEncoder()\n",
    "X = bike.loc[:,'date':'windspeed']\n",
    "X = X.select_dtypes(include=np.object) # select string columns\n",
    "X = X.apply(LabelEncoder().fit_transform)\n",
    "y = le.fit_transform(bike.loc[:,'registered_user'])\n",
    "chi2, pval=feature_selection.chi2(X, y)\n",
    "sorted_idx = np.argsort(chi2)[::-1]\n",
    "sorted_vals = np.sort(chi2)[::-1]\n",
    "\n",
    "\n",
    "d = {\"features\":X.columns[sorted_idx], \"values\":sorted_vals, \"p-values\":pval[sorted_idx]}\n",
    "df = pd.DataFrame(d)\n",
    "df"
   ]
  },
  {
   "cell_type": "markdown",
   "metadata": {},
   "source": [
    "##### 2.4.b - Chi2 correlation search for casual users"
   ]
  },
  {
   "cell_type": "code",
   "execution_count": 31,
   "metadata": {},
   "outputs": [
    {
     "data": {
      "text/html": [
       "<div>\n",
       "<style scoped>\n",
       "    .dataframe tbody tr th:only-of-type {\n",
       "        vertical-align: middle;\n",
       "    }\n",
       "\n",
       "    .dataframe tbody tr th {\n",
       "        vertical-align: top;\n",
       "    }\n",
       "\n",
       "    .dataframe thead th {\n",
       "        text-align: right;\n",
       "    }\n",
       "</style>\n",
       "<table border=\"1\" class=\"dataframe\">\n",
       "  <thead>\n",
       "    <tr style=\"text-align: right;\">\n",
       "      <th></th>\n",
       "      <th>features</th>\n",
       "      <th>values</th>\n",
       "      <th>p-values</th>\n",
       "    </tr>\n",
       "  </thead>\n",
       "  <tbody>\n",
       "    <tr>\n",
       "      <td>0</td>\n",
       "      <td>apparent_temp</td>\n",
       "      <td>2743.707792</td>\n",
       "      <td>0.000000e+00</td>\n",
       "    </tr>\n",
       "    <tr>\n",
       "      <td>1</td>\n",
       "      <td>month</td>\n",
       "      <td>1113.875465</td>\n",
       "      <td>1.186880e-95</td>\n",
       "    </tr>\n",
       "    <tr>\n",
       "      <td>2</td>\n",
       "      <td>weather</td>\n",
       "      <td>933.795059</td>\n",
       "      <td>1.065462e-67</td>\n",
       "    </tr>\n",
       "    <tr>\n",
       "      <td>3</td>\n",
       "      <td>temp</td>\n",
       "      <td>906.208717</td>\n",
       "      <td>1.325655e-63</td>\n",
       "    </tr>\n",
       "    <tr>\n",
       "      <td>4</td>\n",
       "      <td>workingday</td>\n",
       "      <td>744.066510</td>\n",
       "      <td>7.552632e-41</td>\n",
       "    </tr>\n",
       "    <tr>\n",
       "      <td>5</td>\n",
       "      <td>weekday</td>\n",
       "      <td>576.242633</td>\n",
       "      <td>1.593473e-20</td>\n",
       "    </tr>\n",
       "    <tr>\n",
       "      <td>6</td>\n",
       "      <td>holiday</td>\n",
       "      <td>477.796996</td>\n",
       "      <td>6.311055e-11</td>\n",
       "    </tr>\n",
       "    <tr>\n",
       "      <td>7</td>\n",
       "      <td>season</td>\n",
       "      <td>460.805156</td>\n",
       "      <td>1.653354e-09</td>\n",
       "    </tr>\n",
       "    <tr>\n",
       "      <td>8</td>\n",
       "      <td>humidity</td>\n",
       "      <td>186.535760</td>\n",
       "      <td>9.999998e-01</td>\n",
       "    </tr>\n",
       "    <tr>\n",
       "      <td>9</td>\n",
       "      <td>windspeed</td>\n",
       "      <td>128.481025</td>\n",
       "      <td>1.000000e+00</td>\n",
       "    </tr>\n",
       "  </tbody>\n",
       "</table>\n",
       "</div>"
      ],
      "text/plain": [
       "        features       values      p-values\n",
       "0  apparent_temp  2743.707792  0.000000e+00\n",
       "1          month  1113.875465  1.186880e-95\n",
       "2        weather   933.795059  1.065462e-67\n",
       "3           temp   906.208717  1.325655e-63\n",
       "4     workingday   744.066510  7.552632e-41\n",
       "5        weekday   576.242633  1.593473e-20\n",
       "6        holiday   477.796996  6.311055e-11\n",
       "7         season   460.805156  1.653354e-09\n",
       "8       humidity   186.535760  9.999998e-01\n",
       "9      windspeed   128.481025  1.000000e+00"
      ]
     },
     "execution_count": 31,
     "metadata": {},
     "output_type": "execute_result"
    }
   ],
   "source": [
    "le = LabelEncoder()\n",
    "X = bike.loc[:,'date':'windspeed']\n",
    "X = X.select_dtypes(include=np.object) # select string columns\n",
    "X = X.apply(LabelEncoder().fit_transform)\n",
    "y = le.fit_transform(bike.loc[:,'casual_user'])\n",
    "chi2, pval=feature_selection.chi2(X, y)\n",
    "sorted_idx = np.argsort(chi2)[::-1]\n",
    "sorted_vals = np.sort(chi2)[::-1]\n",
    "\n",
    "\n",
    "d = {\"features\":X.columns[sorted_idx], \"values\":sorted_vals, \"p-values\":pval[sorted_idx]}\n",
    "df = pd.DataFrame(d)\n",
    "df"
   ]
  },
  {
   "cell_type": "markdown",
   "metadata": {},
   "source": [
    "##### 2.4.c - Chi2 correlation search for total users"
   ]
  },
  {
   "cell_type": "code",
   "execution_count": 32,
   "metadata": {},
   "outputs": [
    {
     "data": {
      "text/html": [
       "<div>\n",
       "<style scoped>\n",
       "    .dataframe tbody tr th:only-of-type {\n",
       "        vertical-align: middle;\n",
       "    }\n",
       "\n",
       "    .dataframe tbody tr th {\n",
       "        vertical-align: top;\n",
       "    }\n",
       "\n",
       "    .dataframe thead th {\n",
       "        text-align: right;\n",
       "    }\n",
       "</style>\n",
       "<table border=\"1\" class=\"dataframe\">\n",
       "  <thead>\n",
       "    <tr style=\"text-align: right;\">\n",
       "      <th></th>\n",
       "      <th>features</th>\n",
       "      <th>values</th>\n",
       "      <th>p-values</th>\n",
       "    </tr>\n",
       "  </thead>\n",
       "  <tbody>\n",
       "    <tr>\n",
       "      <td>0</td>\n",
       "      <td>apparent_temp</td>\n",
       "      <td>2024.131704</td>\n",
       "      <td>5.263264e-143</td>\n",
       "    </tr>\n",
       "    <tr>\n",
       "      <td>1</td>\n",
       "      <td>month</td>\n",
       "      <td>1857.221356</td>\n",
       "      <td>1.102398e-118</td>\n",
       "    </tr>\n",
       "    <tr>\n",
       "      <td>2</td>\n",
       "      <td>weather</td>\n",
       "      <td>1351.358347</td>\n",
       "      <td>7.287229e-53</td>\n",
       "    </tr>\n",
       "    <tr>\n",
       "      <td>3</td>\n",
       "      <td>temp</td>\n",
       "      <td>978.604810</td>\n",
       "      <td>1.587944e-16</td>\n",
       "    </tr>\n",
       "    <tr>\n",
       "      <td>4</td>\n",
       "      <td>weekday</td>\n",
       "      <td>912.290276</td>\n",
       "      <td>8.429078e-12</td>\n",
       "    </tr>\n",
       "    <tr>\n",
       "      <td>5</td>\n",
       "      <td>season</td>\n",
       "      <td>890.932884</td>\n",
       "      <td>1.996702e-10</td>\n",
       "    </tr>\n",
       "    <tr>\n",
       "      <td>6</td>\n",
       "      <td>holiday</td>\n",
       "      <td>581.550740</td>\n",
       "      <td>9.550468e-01</td>\n",
       "    </tr>\n",
       "    <tr>\n",
       "      <td>7</td>\n",
       "      <td>workingday</td>\n",
       "      <td>319.846663</td>\n",
       "      <td>1.000000e+00</td>\n",
       "    </tr>\n",
       "    <tr>\n",
       "      <td>8</td>\n",
       "      <td>windspeed</td>\n",
       "      <td>266.062844</td>\n",
       "      <td>1.000000e+00</td>\n",
       "    </tr>\n",
       "    <tr>\n",
       "      <td>9</td>\n",
       "      <td>humidity</td>\n",
       "      <td>216.555784</td>\n",
       "      <td>1.000000e+00</td>\n",
       "    </tr>\n",
       "  </tbody>\n",
       "</table>\n",
       "</div>"
      ],
      "text/plain": [
       "        features       values       p-values\n",
       "0  apparent_temp  2024.131704  5.263264e-143\n",
       "1          month  1857.221356  1.102398e-118\n",
       "2        weather  1351.358347   7.287229e-53\n",
       "3           temp   978.604810   1.587944e-16\n",
       "4        weekday   912.290276   8.429078e-12\n",
       "5         season   890.932884   1.996702e-10\n",
       "6        holiday   581.550740   9.550468e-01\n",
       "7     workingday   319.846663   1.000000e+00\n",
       "8      windspeed   266.062844   1.000000e+00\n",
       "9       humidity   216.555784   1.000000e+00"
      ]
     },
     "execution_count": 32,
     "metadata": {},
     "output_type": "execute_result"
    }
   ],
   "source": [
    "le = LabelEncoder()\n",
    "X = bike.loc[:,'date':'windspeed']\n",
    "X = X.select_dtypes(include=np.object) # select string columns\n",
    "X = X.apply(LabelEncoder().fit_transform)\n",
    "y = le.fit_transform(bike.loc[:,'total_user'])\n",
    "chi2, pval=feature_selection.chi2(X, y)\n",
    "sorted_idx = np.argsort(chi2)[::-1]\n",
    "sorted_vals = np.sort(chi2)[::-1]\n",
    "\n",
    "\n",
    "d = {\"features\":X.columns[sorted_idx], \"values\":sorted_vals, \"p-values\":pval[sorted_idx]}\n",
    "df = pd.DataFrame(d)\n",
    "df"
   ]
  },
  {
   "cell_type": "markdown",
   "metadata": {},
   "source": [
    "##### 2.4.d - Kendall-tau correlation search"
   ]
  },
  {
   "cell_type": "code",
   "execution_count": 33,
   "metadata": {},
   "outputs": [
    {
     "data": {
      "text/html": [
       "<div>\n",
       "<style scoped>\n",
       "    .dataframe tbody tr th:only-of-type {\n",
       "        vertical-align: middle;\n",
       "    }\n",
       "\n",
       "    .dataframe tbody tr th {\n",
       "        vertical-align: top;\n",
       "    }\n",
       "\n",
       "    .dataframe thead th {\n",
       "        text-align: right;\n",
       "    }\n",
       "</style>\n",
       "<table border=\"1\" class=\"dataframe\">\n",
       "  <thead>\n",
       "    <tr style=\"text-align: right;\">\n",
       "      <th></th>\n",
       "      <th>Attributes</th>\n",
       "      <th>Kendall Tau Corr.</th>\n",
       "      <th>P-Values</th>\n",
       "    </tr>\n",
       "  </thead>\n",
       "  <tbody>\n",
       "    <tr>\n",
       "      <td>0</td>\n",
       "      <td>total_user</td>\n",
       "      <td>1.000000</td>\n",
       "      <td>0.000000e+00</td>\n",
       "    </tr>\n",
       "    <tr>\n",
       "      <td>1</td>\n",
       "      <td>registered_user</td>\n",
       "      <td>0.917647</td>\n",
       "      <td>0.000000e+00</td>\n",
       "    </tr>\n",
       "    <tr>\n",
       "      <td>2</td>\n",
       "      <td>casual_user</td>\n",
       "      <td>0.668889</td>\n",
       "      <td>0.000000e+00</td>\n",
       "    </tr>\n",
       "    <tr>\n",
       "      <td>3</td>\n",
       "      <td>hour</td>\n",
       "      <td>0.344086</td>\n",
       "      <td>0.000000e+00</td>\n",
       "    </tr>\n",
       "    <tr>\n",
       "      <td>4</td>\n",
       "      <td>apparent_temp</td>\n",
       "      <td>0.177194</td>\n",
       "      <td>7.956319e-203</td>\n",
       "    </tr>\n",
       "    <tr>\n",
       "      <td>5</td>\n",
       "      <td>temp</td>\n",
       "      <td>0.139168</td>\n",
       "      <td>3.845870e-126</td>\n",
       "    </tr>\n",
       "    <tr>\n",
       "      <td>6</td>\n",
       "      <td>year</td>\n",
       "      <td>0.135966</td>\n",
       "      <td>2.355981e-101</td>\n",
       "    </tr>\n",
       "    <tr>\n",
       "      <td>7</td>\n",
       "      <td>season</td>\n",
       "      <td>0.103985</td>\n",
       "      <td>1.063874e-71</td>\n",
       "    </tr>\n",
       "    <tr>\n",
       "      <td>8</td>\n",
       "      <td>humidity</td>\n",
       "      <td>0.072146</td>\n",
       "      <td>6.250527e-32</td>\n",
       "    </tr>\n",
       "    <tr>\n",
       "      <td>9</td>\n",
       "      <td>weather</td>\n",
       "      <td>0.063812</td>\n",
       "      <td>5.240025e-25</td>\n",
       "    </tr>\n",
       "    <tr>\n",
       "      <td>10</td>\n",
       "      <td>month</td>\n",
       "      <td>0.054398</td>\n",
       "      <td>8.161388e-24</td>\n",
       "    </tr>\n",
       "    <tr>\n",
       "      <td>11</td>\n",
       "      <td>windspeed</td>\n",
       "      <td>0.030637</td>\n",
       "      <td>3.602644e-07</td>\n",
       "    </tr>\n",
       "    <tr>\n",
       "      <td>12</td>\n",
       "      <td>holiday</td>\n",
       "      <td>0.019766</td>\n",
       "      <td>1.889045e-03</td>\n",
       "    </tr>\n",
       "    <tr>\n",
       "      <td>13</td>\n",
       "      <td>weekday</td>\n",
       "      <td>0.015822</td>\n",
       "      <td>4.381605e-03</td>\n",
       "    </tr>\n",
       "    <tr>\n",
       "      <td>14</td>\n",
       "      <td>date</td>\n",
       "      <td>0.006625</td>\n",
       "      <td>2.093605e-01</td>\n",
       "    </tr>\n",
       "    <tr>\n",
       "      <td>15</td>\n",
       "      <td>workingday</td>\n",
       "      <td>0.003892</td>\n",
       "      <td>5.406860e-01</td>\n",
       "    </tr>\n",
       "  </tbody>\n",
       "</table>\n",
       "</div>"
      ],
      "text/plain": [
       "         Attributes  Kendall Tau Corr.       P-Values\n",
       "0        total_user           1.000000   0.000000e+00\n",
       "1   registered_user           0.917647   0.000000e+00\n",
       "2       casual_user           0.668889   0.000000e+00\n",
       "3              hour           0.344086   0.000000e+00\n",
       "4     apparent_temp           0.177194  7.956319e-203\n",
       "5              temp           0.139168  3.845870e-126\n",
       "6              year           0.135966  2.355981e-101\n",
       "7            season           0.103985   1.063874e-71\n",
       "8          humidity           0.072146   6.250527e-32\n",
       "9           weather           0.063812   5.240025e-25\n",
       "10            month           0.054398   8.161388e-24\n",
       "11        windspeed           0.030637   3.602644e-07\n",
       "12          holiday           0.019766   1.889045e-03\n",
       "13          weekday           0.015822   4.381605e-03\n",
       "14             date           0.006625   2.093605e-01\n",
       "15       workingday           0.003892   5.406860e-01"
      ]
     },
     "execution_count": 33,
     "metadata": {},
     "output_type": "execute_result"
    }
   ],
   "source": [
    "bike_cat = bike.select_dtypes(include=object)\n",
    "\n",
    "attributes = []\n",
    "cor_values = []\n",
    "p_values = []\n",
    "\n",
    "for i in range(len(bike.columns)):\n",
    "    attributes.append(bike.columns[i])\n",
    "    cor_val, p_val = stats.kendalltau(bike.iloc[:,i], bike.loc[:,'total_user'])\n",
    "    cor_values.append(cor_val)\n",
    "    p_values.append(p_val)\n",
    "\n",
    "df1 = pd.DataFrame(attributes, columns = [\"Attributes\"])\n",
    "df2 = pd.DataFrame(cor_values, columns = [\"Kendall Tau Corr.\"])\n",
    "df3 = pd.DataFrame(p_values, columns = [\"P-Values\"])\n",
    "\n",
    "df2 = df2.abs()\n",
    "\n",
    "df  = pd.concat([df1,df2,df3], axis=1)\n",
    "df  = df.sort_values([\"Kendall Tau Corr.\"], ascending = False)\n",
    "df  = df.reset_index(drop=True)\n",
    "\n",
    "df"
   ]
  },
  {
   "cell_type": "markdown",
   "metadata": {},
   "source": [
    "***\n",
    "***\n",
    "<span style='background :yellow' >-It seems; \"date\", \"humidity\" and \"windspeed\" attributes have no correlation with rental numbers of bikes because they have larger p-values than 5%. \n",
    "    \n",
    "<span style='background :yellow' >-On the other hand, \"holiday\", \"temp\" and \"workingday\" attributes have large p-values for registered and total user targeted correlation search but not for casual user targeted one. So, they should not be removed from the beginning but can be removed if their removal increases the model performace.\n",
    "    \n",
    "***    \n",
    "***"
   ]
  },
  {
   "cell_type": "markdown",
   "metadata": {},
   "source": [
    "***"
   ]
  },
  {
   "cell_type": "markdown",
   "metadata": {},
   "source": [
    "# 3 - DATA MODELLING "
   ]
  },
  {
   "cell_type": "markdown",
   "metadata": {},
   "source": [
    "***"
   ]
  },
  {
   "cell_type": "markdown",
   "metadata": {},
   "source": [
    "### 3.1 - Removing Uncorrelated Attributes"
   ]
  },
  {
   "cell_type": "markdown",
   "metadata": {},
   "source": [
    "<span style='background :yellow' >-Removing uncorrelated attributes with the target variable from the dataset, improves the model results. So, determined uncorrelated attributes removed from the dataset. "
   ]
  },
  {
   "cell_type": "code",
   "execution_count": 34,
   "metadata": {},
   "outputs": [],
   "source": [
    "bike = bike.drop(['date', 'humidity', 'windspeed'], axis=1)"
   ]
  },
  {
   "cell_type": "markdown",
   "metadata": {},
   "source": [
    "### 3.2 - Preperation of the Attributes"
   ]
  },
  {
   "cell_type": "markdown",
   "metadata": {},
   "source": [
    "<span style='background :yellow' >-Encoding the not continuous attributes with dummy variables. "
   ]
  },
  {
   "cell_type": "code",
   "execution_count": 35,
   "metadata": {},
   "outputs": [],
   "source": [
    "#Assign dummy variables to \"season\" attribute\n",
    "dummy_name = pd.get_dummies(bike['season'])\n",
    "bike = bike.drop(['season'], axis=1)\n",
    "bike = pd.concat([bike,dummy_name], axis=1)\n",
    "\n",
    "#Assign dummy variables to \"year\" attribute\n",
    "dummy_name = pd.get_dummies(bike['year'])\n",
    "bike = bike.drop(['year'], axis=1)\n",
    "bike = pd.concat([bike,dummy_name], axis=1)\n",
    "\n",
    "#Assign dummy variables to \"month\" attribute\n",
    "dummy_name = pd.get_dummies(bike['month'])\n",
    "bike = bike.drop(['month'], axis=1)\n",
    "bike = pd.concat([bike,dummy_name], axis=1)\n",
    "\n",
    "#Assign dummy variables to \"holiday\" attribute\n",
    "dummy_name = pd.get_dummies(bike['holiday'])\n",
    "bike = bike.drop(['holiday'], axis=1)\n",
    "bike = pd.concat([bike,dummy_name], axis=1)\n",
    "\n",
    "#Assign dummy variables to \"weekday\" attribute\n",
    "dummy_name = pd.get_dummies(bike['weekday'])\n",
    "bike = bike.drop(['weekday'], axis=1)\n",
    "bike = pd.concat([bike,dummy_name], axis=1)\n",
    "\n",
    "#Assign dummy variables to \"workingday\" attribute\n",
    "dummy_name = pd.get_dummies(bike['workingday'])\n",
    "bike = bike.drop(['workingday'], axis=1)\n",
    "bike = pd.concat([bike,dummy_name], axis=1)\n",
    "\n",
    "#Assign dummy variables to \"weather\" attribute\n",
    "dummy_name = pd.get_dummies(bike['weather'])\n",
    "bike = bike.drop(['weather'], axis=1)\n",
    "bike = pd.concat([bike,dummy_name], axis=1)\n",
    "\n",
    "#Assign dummy variables to \"temp\" attribute\n",
    "dummy_name = pd.get_dummies(bike['temp'])\n",
    "bike = bike.drop(['temp'], axis=1)\n",
    "bike = pd.concat([bike,dummy_name], axis=1)\n",
    "\n",
    "#Assign dummy variables to \"apparent_temp\" attribute\n",
    "dummy_name = pd.get_dummies(bike['apparent_temp'])\n",
    "bike = bike.drop(['apparent_temp'], axis=1)\n",
    "bike = pd.concat([bike,dummy_name], axis=1)"
   ]
  },
  {
   "cell_type": "markdown",
   "metadata": {},
   "source": [
    "### 3.3 - Split Dependent Variables and Target Variable"
   ]
  },
  {
   "cell_type": "markdown",
   "metadata": {},
   "source": [
    "<span style='background :yellow' >-Assigning \"total_user\" attribute as target variable.\n",
    "    \n",
    "<span style='background :yellow' >- Removing \"registered_user\" and \"casual_user\" attributes from the dependent variable set because their sum equals to target variable and model may cheat while predicting by using only these attributes."
   ]
  },
  {
   "cell_type": "code",
   "execution_count": 36,
   "metadata": {},
   "outputs": [],
   "source": [
    "bike_y = bike.loc[:,'total_user']\n",
    "bike_x = bike.drop(['total_user', 'registered_user', 'casual_user'], axis=1)"
   ]
  },
  {
   "cell_type": "markdown",
   "metadata": {},
   "source": [
    "### 3.4 - Hyperparameter Tuning"
   ]
  },
  {
   "cell_type": "markdown",
   "metadata": {},
   "source": [
    "##### 3.4.a - Defining random search result reporting code - shows top 3"
   ]
  },
  {
   "cell_type": "code",
   "execution_count": 37,
   "metadata": {},
   "outputs": [],
   "source": [
    "def report(results, n_top=3): #print all results\n",
    "    for i in range(1, n_top + 1):\n",
    "        candidates = np.flatnonzero(results['rank_test_score'] == i)\n",
    "        for candidate in candidates:\n",
    "            print(\"Model with rank: {0}\".format(i))\n",
    "            print(\"Mean validation score: {0:.3f} (std: {1:.3f})\".format(\n",
    "                  results['mean_test_score'][candidate],\n",
    "                  results['std_test_score'][candidate]))\n",
    "            print(\"Parameters: {0}\".format(results['params'][candidate]))\n",
    "            print(\"\")"
   ]
  },
  {
   "cell_type": "markdown",
   "metadata": {},
   "source": [
    "##### 3.4.b - Linear regression algorithm's parameters search"
   ]
  },
  {
   "cell_type": "code",
   "execution_count": 38,
   "metadata": {},
   "outputs": [
    {
     "name": "stdout",
     "output_type": "stream",
     "text": [
      "RandomizedSearchCV took 0.57 seconds for 10 candidates parameter settings.\n",
      "Model with rank: 1\n",
      "Mean validation score: 0.297 (std: 0.039)\n",
      "Parameters: {'n_jobs': None}\n",
      "\n",
      "Model with rank: 1\n",
      "Mean validation score: 0.297 (std: 0.039)\n",
      "Parameters: {'n_jobs': 5}\n",
      "\n",
      "Model with rank: 1\n",
      "Mean validation score: 0.297 (std: 0.039)\n",
      "Parameters: {'n_jobs': 10}\n",
      "\n",
      "Model with rank: 1\n",
      "Mean validation score: 0.297 (std: 0.039)\n",
      "Parameters: {'n_jobs': -1}\n",
      "\n"
     ]
    }
   ],
   "source": [
    "#Linear Regression random search\n",
    "clf = LinearRegression()\n",
    "param_grid = {\"n_jobs\": [None, 5, 10, -1]\n",
    "             }\n",
    "\n",
    "n_iter_search = 10\n",
    "random_search = RandomizedSearchCV(clf, param_distributions=param_grid, n_iter=n_iter_search, cv=5)\n",
    "\n",
    "simplefilter('ignore')\n",
    "\n",
    "start = time.time()\n",
    "random_search.fit(bike_x, bike_y)\n",
    "print(\"RandomizedSearchCV took %.2f seconds for %d candidates\"\n",
    "      \" parameter settings.\" % ((time.time() - start), n_iter_search))\n",
    "report(random_search.cv_results_)"
   ]
  },
  {
   "cell_type": "markdown",
   "metadata": {},
   "source": [
    "##### 3.4.c - Decision tree algorithm's parameters search"
   ]
  },
  {
   "cell_type": "code",
   "execution_count": 39,
   "metadata": {},
   "outputs": [
    {
     "name": "stdout",
     "output_type": "stream",
     "text": [
      "RandomizedSearchCV took 280.64 seconds for 10 candidates parameter settings.\n",
      "Model with rank: 1\n",
      "Mean validation score: 0.670 (std: 0.196)\n",
      "Parameters: {'splitter': 'best', 'min_samples_split': 50, 'max_features': 'auto', 'max_depth': 50, 'criterion': 'mae'}\n",
      "\n",
      "Model with rank: 2\n",
      "Mean validation score: 0.663 (std: 0.140)\n",
      "Parameters: {'splitter': 'random', 'min_samples_split': 10, 'max_features': 'auto', 'max_depth': 20, 'criterion': 'mae'}\n",
      "\n",
      "Model with rank: 3\n",
      "Mean validation score: 0.345 (std: 0.187)\n",
      "Parameters: {'splitter': 'best', 'min_samples_split': 2, 'max_features': 'sqrt', 'max_depth': 20, 'criterion': 'friedman_mse'}\n",
      "\n"
     ]
    }
   ],
   "source": [
    "#Decision Tree random search\n",
    "clf = tree.DecisionTreeRegressor()\n",
    "\n",
    "param_grid = {\"criterion\": [\"mse\", \"friedman_mse\", \"mae\"],\n",
    "              \"splitter\": [\"best\",\"random\"],\n",
    "              \"min_samples_split\": [2, 5, 10, 20, 50],\n",
    "              \"max_depth\": [None, 2, 5, 10, 20, 50, 100],\n",
    "              \"max_features\": [None, \"auto\", \"sqrt\", \"log2\"]\n",
    "             }\n",
    "\n",
    "n_iter_search = 10\n",
    "\n",
    "random_search = RandomizedSearchCV(clf, param_distributions=param_grid, n_iter=n_iter_search, cv=5)\n",
    "\n",
    "simplefilter('ignore')\n",
    "\n",
    "start = time.time()\n",
    "random_search.fit(bike_x, bike_y)\n",
    "print(\"RandomizedSearchCV took %.2f seconds for %d candidates\"\n",
    "      \" parameter settings.\" % ((time.time() - start), n_iter_search))\n",
    "report(random_search.cv_results_)"
   ]
  },
  {
   "cell_type": "markdown",
   "metadata": {},
   "source": [
    "##### 3.4.d - Random forest algorithm's parameters search"
   ]
  },
  {
   "cell_type": "code",
   "execution_count": 40,
   "metadata": {},
   "outputs": [
    {
     "name": "stdout",
     "output_type": "stream",
     "text": [
      "RandomizedSearchCV took 1144.63 seconds for 10 candidates parameter settings.\n",
      "Model with rank: 1\n",
      "Mean validation score: 0.780 (std: 0.106)\n",
      "Parameters: {'n_estimators': 200, 'min_samples_split': 2, 'max_features': 'auto', 'max_depth': None, 'criterion': 'mse'}\n",
      "\n",
      "Model with rank: 2\n",
      "Mean validation score: 0.771 (std: 0.114)\n",
      "Parameters: {'n_estimators': 10, 'min_samples_split': 2, 'max_features': None, 'max_depth': 20, 'criterion': 'mae'}\n",
      "\n",
      "Model with rank: 3\n",
      "Mean validation score: 0.759 (std: 0.124)\n",
      "Parameters: {'n_estimators': 20, 'min_samples_split': 5, 'max_features': None, 'max_depth': None, 'criterion': 'mse'}\n",
      "\n"
     ]
    }
   ],
   "source": [
    "#Random Forest random search\n",
    "clf = RandomForestRegressor()\n",
    "\n",
    "param_grid = {\"criterion\": [\"mse\", \"mae\"],\n",
    "              \"n_estimators\": [10, 20, 50, 100, 200],\n",
    "              \"min_samples_split\": [2, 5, 10, 20],\n",
    "              \"max_depth\": [None, 2, 5, 10, 20, 50],\n",
    "              \"max_features\": [None, \"auto\", \"sqrt\", \"log2\"]\n",
    "             }\n",
    "\n",
    "n_iter_search = 10\n",
    "\n",
    "random_search = RandomizedSearchCV(clf, param_distributions=param_grid, n_iter=n_iter_search, cv=5)\n",
    "\n",
    "simplefilter('ignore')\n",
    "\n",
    "start = time.time()\n",
    "random_search.fit(bike_x, bike_y)\n",
    "print(\"RandomizedSearchCV took %.2f seconds for %d candidates\"\n",
    "      \" parameter settings.\" % ((time.time() - start), n_iter_search))\n",
    "report(random_search.cv_results_)"
   ]
  },
  {
   "cell_type": "markdown",
   "metadata": {},
   "source": [
    "##### 3.4.e - KNN algorithm's parameters search"
   ]
  },
  {
   "cell_type": "code",
   "execution_count": 41,
   "metadata": {},
   "outputs": [
    {
     "name": "stdout",
     "output_type": "stream",
     "text": [
      "RandomizedSearchCV took 45.51 seconds for 10 candidates parameter settings.\n",
      "Model with rank: 1\n",
      "Mean validation score: 0.674 (std: 0.121)\n",
      "Parameters: {'weights': 'distance', 'n_neighbors': 100, 'metric': 'minkowski', 'algorithm': 'brute'}\n",
      "\n",
      "Model with rank: 2\n",
      "Mean validation score: 0.668 (std: 0.092)\n",
      "Parameters: {'weights': 'distance', 'n_neighbors': 50, 'metric': 'manhattan', 'algorithm': 'ball_tree'}\n",
      "\n",
      "Model with rank: 3\n",
      "Mean validation score: 0.665 (std: 0.093)\n",
      "Parameters: {'weights': 'uniform', 'n_neighbors': 50, 'metric': 'manhattan', 'algorithm': 'auto'}\n",
      "\n"
     ]
    }
   ],
   "source": [
    "#kNN random search\n",
    "clf = KNeighborsRegressor()\n",
    "\n",
    "param_grid = {\"n_neighbors\": [2, 5, 10, 50, 100],\n",
    "              \"weights\": [\"uniform\", \"distance\"],\n",
    "              \"algorithm\": [\"auto\", \"ball_tree\", \"kd_tree\", \"brute\"],\n",
    "              \"metric\": [\"euclidean\", \"manhattan\", \"chebyshev\", \"minkowski\"]\n",
    "              }\n",
    "\n",
    "n_iter_search = 10\n",
    "\n",
    "random_search = RandomizedSearchCV(clf, param_distributions=param_grid, n_iter=n_iter_search, cv=5)\n",
    "\n",
    "simplefilter('ignore')\n",
    "\n",
    "start = time.time()\n",
    "random_search.fit(bike_x, bike_y)\n",
    "print(\"RandomizedSearchCV took %.2f seconds for %d candidates\"\n",
    "      \" parameter settings.\" % ((time.time() - start), n_iter_search))\n",
    "report(random_search.cv_results_)"
   ]
  },
  {
   "cell_type": "markdown",
   "metadata": {},
   "source": [
    "##### 3.4.f - Support vector machine algorithm's parameters search"
   ]
  },
  {
   "cell_type": "code",
   "execution_count": 42,
   "metadata": {},
   "outputs": [
    {
     "name": "stdout",
     "output_type": "stream",
     "text": [
      "RandomizedSearchCV took 223.86 seconds for 10 candidates parameter settings.\n",
      "Model with rank: 1\n",
      "Mean validation score: 0.455 (std: 0.021)\n",
      "Parameters: {'tol': 0.001, 'max_iter': -1, 'kernel': 'poly', 'gamma': 'auto'}\n",
      "\n",
      "Model with rank: 2\n",
      "Mean validation score: 0.448 (std: 0.053)\n",
      "Parameters: {'tol': 0.01, 'max_iter': -1, 'kernel': 'rbf', 'gamma': 'auto'}\n",
      "\n",
      "Model with rank: 3\n",
      "Mean validation score: 0.263 (std: 0.048)\n",
      "Parameters: {'tol': 0.001, 'max_iter': -1, 'kernel': 'linear', 'gamma': 'auto'}\n",
      "\n"
     ]
    }
   ],
   "source": [
    "#Support Vector Machine random search\n",
    "clf = SVR()\n",
    "\n",
    "param_grid = {\"kernel\": ['linear', 'poly', 'rbf', 'sigmoid'],\n",
    "              \"gamma\": ['scale', 'auto'],\n",
    "              \"tol\": [0.001, 0.01],\n",
    "              \"max_iter\": [-1, 10, 20, 50, 100, 200]\n",
    "              }\n",
    "\n",
    "n_iter_search = 10\n",
    "\n",
    "random_search = RandomizedSearchCV(clf, param_distributions=param_grid, n_iter=n_iter_search, cv=5)\n",
    "\n",
    "simplefilter('ignore')\n",
    "\n",
    "start = time.time()\n",
    "random_search.fit(bike_x, bike_y)\n",
    "print(\"RandomizedSearchCV took %.2f seconds for %d candidates\"\n",
    "      \" parameter settings.\" % ((time.time() - start), n_iter_search))\n",
    "report(random_search.cv_results_)"
   ]
  },
  {
   "cell_type": "markdown",
   "metadata": {},
   "source": [
    "### 3.5 - Model Running"
   ]
  },
  {
   "cell_type": "markdown",
   "metadata": {},
   "source": [
    "<span style='background :yellow' >- 5-fold cross validation was applied to the algorithms for more reliable results."
   ]
  },
  {
   "cell_type": "code",
   "execution_count": 43,
   "metadata": {},
   "outputs": [],
   "source": [
    "#Defining adjusted-R2 formula\n",
    "def adjustedr2(r2,p,n):\n",
    "    return 1 - (1-r2)*(n-1)/(n-p-1)"
   ]
  },
  {
   "cell_type": "markdown",
   "metadata": {},
   "source": [
    "##### 3.5.a - Linear regression algorithm running"
   ]
  },
  {
   "cell_type": "code",
   "execution_count": 44,
   "metadata": {},
   "outputs": [
    {
     "name": "stdout",
     "output_type": "stream",
     "text": [
      "RMSE (Train set): 122.223\n",
      "R2 (Train set): 0.385\n",
      "Adjusted-R2 (Train set): 0.383\n",
      "Time spent (Train set): 0.017\n",
      "RMSE (Test set): 122.526\n",
      "R2 (Test set): 0.382\n",
      "Adjusted-R2 (Test set): 0.373\n",
      "Time spent (Test set): 0.014\n"
     ]
    }
   ],
   "source": [
    "rmse_lin_reg_train_tot = 0\n",
    "r2_lin_reg_train_tot = 0\n",
    "adjr2_lin_reg_train_tot = 0\n",
    "time_lin_reg_train_tot = 0\n",
    "\n",
    "rmse_lin_reg_test_tot = 0\n",
    "r2_lin_reg_test_tot = 0\n",
    "adjr2_lin_reg_test_tot = 0\n",
    "time_lin_reg_test_tot = 0\n",
    "\n",
    "n_splits = 5\n",
    "\n",
    "#Splitting train and test datasets by cross validation, 80% of dataset is used for training and 20% for testing\n",
    "\n",
    "for train_index, test_index in KFold(n_splits=n_splits, random_state=1, shuffle=True).split(bike_x):\n",
    "\n",
    "    bike_x_train = bike_x.iloc[train_index,:]; bike_x_train = bike_x_train.reset_index(drop=True);\n",
    "    bike_y_train = bike_y.iloc[train_index]  ; bike_y_train = bike_y_train.reset_index(drop=True);\n",
    "    bike_x_test = bike_x.iloc[test_index,:]  ; bike_x_test = bike_x_test.reset_index(drop=True);\n",
    "    bike_y_test = bike_y.iloc[test_index]    ; bike_y_test = bike_y_test.reset_index(drop=True);\n",
    "    \n",
    "\n",
    "### TRAIN SET ###\n",
    "\n",
    "#Linear regression algorithm application\n",
    "\n",
    "    tic_lin_reg_train = time.time()\n",
    "\n",
    "    lin_reg = LinearRegression()\n",
    "    model_lin_reg = lin_reg.fit(bike_x_train, bike_y_train)\n",
    "    lin_reg_predictions_train = model_lin_reg.predict(bike_x_train)\n",
    "    \n",
    "    simplefilter(action='ignore', category=FutureWarning)\n",
    "    \n",
    "    toc_lin_reg_train = time.time()\n",
    "    time_lin_reg_train = toc_lin_reg_train-tic_lin_reg_train\n",
    "    \n",
    "#Linear regression algorithm's regression report\n",
    "\n",
    "    rmse_lin_reg_train = float(format(np.sqrt(metrics.mean_squared_error(bike_y_train,lin_reg_predictions_train)),'.4f'))\n",
    "    r2_lin_reg_train = float(format(model_lin_reg.score(bike_x_train, bike_y_train),'.4f'))\n",
    "    adjr2_lin_reg_train = float(format(adjustedr2(r2_lin_reg_train,bike_x_train.shape[1],bike_x_train.shape[0]),'.4f'))\n",
    "\n",
    "#Adding the results\n",
    "        \n",
    "    rmse_lin_reg_train_tot += rmse_lin_reg_train\n",
    "    r2_lin_reg_train_tot += r2_lin_reg_train\n",
    "    adjr2_lin_reg_train_tot += adjr2_lin_reg_train\n",
    "    time_lin_reg_train_tot += time_lin_reg_train\n",
    "    \n",
    "    simplefilter(action='ignore', category=FutureWarning)  \n",
    "    \n",
    "    \n",
    "### TEST SET ###\n",
    "\n",
    "#Linear regression algorithm application    \n",
    "\n",
    "    tic_lin_reg_test = time.time()\n",
    "\n",
    "    lin_reg_test = LinearRegression()\n",
    "    model_lin_reg = lin_reg_test.fit(bike_x_train, bike_y_train)\n",
    "    lin_reg_predictions_test = model_lin_reg.predict(bike_x_test)\n",
    "    \n",
    "    simplefilter(action='ignore', category=FutureWarning)\n",
    "    \n",
    "    toc_lin_reg_test = time.time()\n",
    "    time_lin_reg_test = toc_lin_reg_test-tic_lin_reg_test\n",
    "    \n",
    "#Linear regression algorithm's regression report \n",
    "    \n",
    "    rmse_lin_reg_test = float(format(np.sqrt(metrics.mean_squared_error(bike_y_test,lin_reg_predictions_test)),'.4f'))\n",
    "    r2_lin_reg_test = float(format(model_lin_reg.score(bike_x_test,bike_y_test),'.4f'))\n",
    "    adjr2_lin_reg_test = float(format(adjustedr2(r2_lin_reg_test,bike_x_test.shape[1],bike_x_test.shape[0]),'.4f'))\n",
    "\n",
    "#Adding the results\n",
    "        \n",
    "    rmse_lin_reg_test_tot += rmse_lin_reg_test\n",
    "    r2_lin_reg_test_tot += r2_lin_reg_test\n",
    "    adjr2_lin_reg_test_tot += adjr2_lin_reg_test\n",
    "    time_lin_reg_test_tot += time_lin_reg_test\n",
    "    \n",
    "    simplefilter(action='ignore', category=FutureWarning)\n",
    "\n",
    "#Taking average of the values\n",
    "\n",
    "rmse_lin_reg_train = rmse_lin_reg_train_tot/n_splits\n",
    "r2_lin_reg_train = r2_lin_reg_train_tot/n_splits\n",
    "adjr2_lin_reg_train = adjr2_lin_reg_train_tot/n_splits\n",
    "time_lin_reg_train = time_lin_reg_train_tot/n_splits\n",
    "    \n",
    "rmse_lin_reg_test = rmse_lin_reg_test_tot/n_splits\n",
    "r2_lin_reg_test = r2_lin_reg_test_tot/n_splits\n",
    "adjr2_lin_reg_test = adjr2_lin_reg_test_tot/n_splits\n",
    "time_lin_reg_test = time_lin_reg_test_tot/n_splits\n",
    "\n",
    "\n",
    "\n",
    "print(\"RMSE (Train set): {0:.3f}\".format(rmse_lin_reg_train))\n",
    "print(\"R2 (Train set): {0:.3f}\".format(r2_lin_reg_train))\n",
    "print(\"Adjusted-R2 (Train set): {0:.3f}\".format(adjr2_lin_reg_train))\n",
    "print(\"Time spent (Train set): {0:.3f}\".format(time_lin_reg_train)) \n",
    "print(\"RMSE (Test set): {0:.3f}\".format(rmse_lin_reg_test))\n",
    "print(\"R2 (Test set): {0:.3f}\".format(r2_lin_reg_test))\n",
    "print(\"Adjusted-R2 (Test set): {0:.3f}\".format(adjr2_lin_reg_test))\n",
    "print(\"Time spent (Test set): {0:.3f}\".format(time_lin_reg_test))"
   ]
  },
  {
   "cell_type": "markdown",
   "metadata": {},
   "source": [
    "##### 3.5.b - Decision tree algorithm running"
   ]
  },
  {
   "cell_type": "code",
   "execution_count": 45,
   "metadata": {},
   "outputs": [
    {
     "name": "stdout",
     "output_type": "stream",
     "text": [
      "RMSE (Train set): 48.001\n",
      "R2 (Train set): 0.905\n",
      "Adjusted-R2 (Train set): 0.905\n",
      "Time spent (Train set): 9.560\n",
      "RMSE (Test set): 52.880\n",
      "R2 (Test set): 0.885\n",
      "Adjusted-R2 (Test set): 0.883\n",
      "Time spent (Test set): 9.632\n"
     ]
    }
   ],
   "source": [
    "rmse_dec_tree_train_tot = 0\n",
    "r2_dec_tree_train_tot = 0\n",
    "adjr2_dec_tree_train_tot = 0\n",
    "time_dec_tree_train_tot = 0\n",
    "\n",
    "rmse_dec_tree_test_tot = 0\n",
    "r2_dec_tree_test_tot = 0\n",
    "adjr2_dec_tree_test_tot = 0\n",
    "time_dec_tree_test_tot = 0\n",
    "\n",
    "n_splits = 5\n",
    "\n",
    "#Splitting train and test datasets by cross validation, 80% of dataset is used for training and 20% for testing\n",
    "\n",
    "for train_index, test_index in KFold(n_splits=n_splits, random_state=1, shuffle=True).split(bike_x):\n",
    "\n",
    "    bike_x_train = bike_x.iloc[train_index,:]; bike_x_train = bike_x_train.reset_index(drop=True);\n",
    "    bike_y_train = bike_y.iloc[train_index]  ; bike_y_train = bike_y_train.reset_index(drop=True);\n",
    "    bike_x_test = bike_x.iloc[test_index,:]  ; bike_x_test = bike_x_test.reset_index(drop=True);\n",
    "    bike_y_test = bike_y.iloc[test_index]    ; bike_y_test = bike_y_test.reset_index(drop=True);\n",
    "    \n",
    "\n",
    "### TRAIN SET ###\n",
    "\n",
    "#Decision tree algorithm application\n",
    "\n",
    "    tic_dec_tree_train = time.time()\n",
    "\n",
    "    dec_tree = tree.DecisionTreeRegressor(splitter='best', min_samples_split=50, max_features='auto', max_depth=50, \n",
    "                                           criterion='mae')\n",
    "    model_dec_tree = dec_tree.fit(bike_x_train, bike_y_train)\n",
    "    dec_tree_predictions_train = model_dec_tree.predict(bike_x_train)\n",
    "    \n",
    "    simplefilter(action='ignore', category=FutureWarning)\n",
    "    \n",
    "    toc_dec_tree_train = time.time()\n",
    "    time_dec_tree_train = toc_dec_tree_train-tic_dec_tree_train\n",
    "    \n",
    "#Decision tree algorithm's regression report\n",
    "\n",
    "    rmse_dec_tree_train = float(format(np.sqrt(metrics.mean_squared_error(bike_y_train,dec_tree_predictions_train)),'.4f'))\n",
    "    r2_dec_tree_train = float(format(model_dec_tree.score(bike_x_train, bike_y_train),'.4f'))\n",
    "    adjr2_dec_tree_train = float(format(adjustedr2(r2_dec_tree_train,bike_x_train.shape[1],bike_x_train.shape[0]),'.4f'))\n",
    "\n",
    "#Adding the results\n",
    "        \n",
    "    rmse_dec_tree_train_tot += rmse_dec_tree_train\n",
    "    r2_dec_tree_train_tot += r2_dec_tree_train\n",
    "    adjr2_dec_tree_train_tot += adjr2_dec_tree_train\n",
    "    time_dec_tree_train_tot += time_dec_tree_train\n",
    "    \n",
    "    simplefilter(action='ignore', category=FutureWarning)  \n",
    "    \n",
    "    \n",
    "### TEST SET ###\n",
    "\n",
    "#Decision tree algorithm application    \n",
    "\n",
    "    tic_dec_tree_test = time.time()\n",
    "\n",
    "    dec_tree_test = tree.DecisionTreeRegressor(splitter='best', min_samples_split=50, max_features='auto', max_depth=50, \n",
    "                                           criterion='mae')\n",
    "    model_dec_tree = dec_tree_test.fit(bike_x_train, bike_y_train)\n",
    "    dec_tree_predictions_test = model_dec_tree.predict(bike_x_test)\n",
    "    \n",
    "    simplefilter(action='ignore', category=FutureWarning)\n",
    "    \n",
    "    toc_dec_tree_test = time.time()\n",
    "    time_dec_tree_test = toc_dec_tree_test-tic_dec_tree_test\n",
    "    \n",
    "#Decision tree algorithm's regression report \n",
    "    \n",
    "    rmse_dec_tree_test = float(format(np.sqrt(metrics.mean_squared_error(bike_y_test,dec_tree_predictions_test)),'.4f'))\n",
    "    r2_dec_tree_test = float(format(model_dec_tree.score(bike_x_test,bike_y_test),'.4f'))\n",
    "    adjr2_dec_tree_test = float(format(adjustedr2(r2_dec_tree_test,bike_x_test.shape[1],bike_x_test.shape[0]),'.4f'))\n",
    "\n",
    "#Adding the results\n",
    "        \n",
    "    rmse_dec_tree_test_tot += rmse_dec_tree_test\n",
    "    r2_dec_tree_test_tot += r2_dec_tree_test\n",
    "    adjr2_dec_tree_test_tot += adjr2_dec_tree_test\n",
    "    time_dec_tree_test_tot += time_dec_tree_test\n",
    "    \n",
    "    simplefilter(action='ignore', category=FutureWarning)\n",
    "    \n",
    "    \n",
    "#Taking average of the values\n",
    "\n",
    "rmse_dec_tree_train = rmse_dec_tree_train_tot/n_splits\n",
    "r2_dec_tree_train = r2_dec_tree_train_tot/n_splits\n",
    "adjr2_dec_tree_train = adjr2_dec_tree_train_tot/n_splits\n",
    "time_dec_tree_train = time_dec_tree_train_tot/n_splits\n",
    "    \n",
    "rmse_dec_tree_test = rmse_dec_tree_test_tot/n_splits\n",
    "r2_dec_tree_test = r2_dec_tree_test_tot/n_splits\n",
    "adjr2_dec_tree_test = adjr2_dec_tree_test_tot/n_splits\n",
    "time_dec_tree_test = time_dec_tree_test_tot/n_splits\n",
    "\n",
    "\n",
    "\n",
    "print(\"RMSE (Train set): {0:.3f}\".format(rmse_dec_tree_train))\n",
    "print(\"R2 (Train set): {0:.3f}\".format(r2_dec_tree_train))\n",
    "print(\"Adjusted-R2 (Train set): {0:.3f}\".format(adjr2_dec_tree_train))\n",
    "print(\"Time spent (Train set): {0:.3f}\".format(time_dec_tree_train)) \n",
    "print(\"RMSE (Test set): {0:.3f}\".format(rmse_dec_tree_test))\n",
    "print(\"R2 (Test set): {0:.3f}\".format(r2_dec_tree_test))\n",
    "print(\"Adjusted-R2 (Test set): {0:.3f}\".format(adjr2_dec_tree_test))\n",
    "print(\"Time spent (Test set): {0:.3f}\".format(time_dec_tree_test))"
   ]
  },
  {
   "cell_type": "markdown",
   "metadata": {},
   "source": [
    "##### 3.5.c - Random forest algorithm running"
   ]
  },
  {
   "cell_type": "code",
   "execution_count": 46,
   "metadata": {},
   "outputs": [
    {
     "name": "stdout",
     "output_type": "stream",
     "text": [
      "RMSE (Train set): 20.318\n",
      "R2 (Train set): 0.983\n",
      "Adjusted-R2 (Train set): 0.983\n",
      "Time spent (Train set): 9.476\n",
      "RMSE (Test set): 43.372\n",
      "R2 (Test set): 0.923\n",
      "Adjusted-R2 (Test set): 0.921\n",
      "Time spent (Test set): 9.183\n"
     ]
    }
   ],
   "source": [
    "rmse_rand_forest_train_tot = 0\n",
    "r2_rand_forest_train_tot = 0\n",
    "adjr2_rand_forest_train_tot = 0\n",
    "time_rand_forest_train_tot = 0\n",
    "\n",
    "rmse_rand_forest_test_tot = 0\n",
    "r2_rand_forest_test_tot = 0\n",
    "adjr2_rand_forest_test_tot = 0\n",
    "time_rand_forest_test_tot = 0\n",
    "\n",
    "n_splits = 5\n",
    "\n",
    "#Splitting train and test datasets by cross validation, 80% of dataset is used for training and 20% for testing\n",
    "\n",
    "for train_index, test_index in KFold(n_splits=n_splits, random_state=1, shuffle=True).split(bike_x):\n",
    "\n",
    "    bike_x_train = bike_x.iloc[train_index,:]; bike_x_train = bike_x_train.reset_index(drop=True);\n",
    "    bike_y_train = bike_y.iloc[train_index]  ; bike_y_train = bike_y_train.reset_index(drop=True);\n",
    "    bike_x_test = bike_x.iloc[test_index,:]  ; bike_x_test = bike_x_test.reset_index(drop=True);\n",
    "    bike_y_test = bike_y.iloc[test_index]    ; bike_y_test = bike_y_test.reset_index(drop=True);\n",
    "    \n",
    "\n",
    "### TRAIN SET ###\n",
    "\n",
    "#Random forest algorithm application\n",
    "\n",
    "    tic_rand_forest_train = time.time()\n",
    "\n",
    "    rand_forest = RandomForestRegressor(n_estimators=200, min_samples_split=2, max_features='auto', \n",
    "                                        max_depth=None, criterion='mse')\n",
    "    model_rand_forest = rand_forest.fit(bike_x_train, bike_y_train)\n",
    "    rand_forest_predictions_train = model_rand_forest.predict(bike_x_train)\n",
    "    \n",
    "    simplefilter(action='ignore', category=FutureWarning)\n",
    "    \n",
    "    toc_rand_forest_train = time.time()\n",
    "    time_rand_forest_train = toc_rand_forest_train-tic_rand_forest_train\n",
    "    \n",
    "#Random forest algorithm's regression report\n",
    "\n",
    "    rmse_rand_forest_train= float(format(np.sqrt(metrics.mean_squared_error(bike_y_train,rand_forest_predictions_train)),'.4f'))\n",
    "    r2_rand_forest_train = float(format(model_rand_forest.score(bike_x_train, bike_y_train),'.4f'))\n",
    "    adjr2_rand_forest_train = float(format(adjustedr2(r2_rand_forest_train,bike_x_train.shape[1],bike_x_train.shape[0]),'.4f'))\n",
    "\n",
    "#Adding the results\n",
    "        \n",
    "    rmse_rand_forest_train_tot += rmse_rand_forest_train\n",
    "    r2_rand_forest_train_tot += r2_rand_forest_train\n",
    "    adjr2_rand_forest_train_tot += adjr2_rand_forest_train\n",
    "    time_rand_forest_train_tot += time_rand_forest_train\n",
    "    \n",
    "    simplefilter(action='ignore', category=FutureWarning)  \n",
    "    \n",
    "    \n",
    "### TEST SET ###\n",
    "\n",
    "#Random forest algorithm application    \n",
    "\n",
    "    tic_rand_forest_test = time.time()\n",
    "\n",
    "    rand_forest_test = RandomForestRegressor(n_estimators=200, min_samples_split=2, max_features='auto', \n",
    "                                        max_depth=None, criterion='mse')\n",
    "    model_rand_forest = rand_forest_test.fit(bike_x_train, bike_y_train)\n",
    "    rand_forest_predictions_test = model_rand_forest.predict(bike_x_test)\n",
    "    \n",
    "    simplefilter(action='ignore', category=FutureWarning)\n",
    "    \n",
    "    toc_rand_forest_test = time.time()\n",
    "    time_rand_forest_test = toc_rand_forest_test-tic_rand_forest_test\n",
    "    \n",
    "#Random forest algorithm's regression report \n",
    "    \n",
    "    rmse_rand_forest_test = float(format(np.sqrt(metrics.mean_squared_error(bike_y_test,rand_forest_predictions_test)),'.4f'))\n",
    "    r2_rand_forest_test = float(format(model_rand_forest.score(bike_x_test,bike_y_test),'.4f'))\n",
    "    adjr2_rand_forest_test = float(format(adjustedr2(r2_rand_forest_test,bike_x_test.shape[1],bike_x_test.shape[0]),'.4f'))\n",
    "\n",
    "#Adding the results\n",
    "        \n",
    "    rmse_rand_forest_test_tot += rmse_rand_forest_test\n",
    "    r2_rand_forest_test_tot += r2_rand_forest_test\n",
    "    adjr2_rand_forest_test_tot += adjr2_rand_forest_test\n",
    "    time_rand_forest_test_tot += time_rand_forest_test\n",
    "    \n",
    "    simplefilter(action='ignore', category=FutureWarning)\n",
    "    \n",
    "    \n",
    "#Taking average of the values\n",
    "\n",
    "rmse_rand_forest_train = rmse_rand_forest_train_tot/n_splits\n",
    "r2_rand_forest_train = r2_rand_forest_train_tot/n_splits\n",
    "adjr2_rand_forest_train = adjr2_rand_forest_train_tot/n_splits\n",
    "time_rand_forest_train = time_rand_forest_train_tot/n_splits\n",
    "    \n",
    "rmse_rand_forest_test = rmse_rand_forest_test_tot/n_splits\n",
    "r2_rand_forest_test = r2_rand_forest_test_tot/n_splits\n",
    "adjr2_rand_forest_test = adjr2_rand_forest_test_tot/n_splits\n",
    "time_rand_forest_test = time_rand_forest_test_tot/n_splits\n",
    "\n",
    "\n",
    "\n",
    "print(\"RMSE (Train set): {0:.3f}\".format(rmse_rand_forest_train))\n",
    "print(\"R2 (Train set): {0:.3f}\".format(r2_rand_forest_train))\n",
    "print(\"Adjusted-R2 (Train set): {0:.3f}\".format(adjr2_rand_forest_train))\n",
    "print(\"Time spent (Train set): {0:.3f}\".format(time_rand_forest_train)) \n",
    "print(\"RMSE (Test set): {0:.3f}\".format(rmse_rand_forest_test))\n",
    "print(\"R2 (Test set): {0:.3f}\".format(r2_rand_forest_test))\n",
    "print(\"Adjusted-R2 (Test set): {0:.3f}\".format(adjr2_rand_forest_test))\n",
    "print(\"Time spent (Test set): {0:.3f}\".format(time_rand_forest_test))"
   ]
  },
  {
   "cell_type": "markdown",
   "metadata": {},
   "source": [
    "##### 3.5.d - K-nearest neighbours algorithm running"
   ]
  },
  {
   "cell_type": "code",
   "execution_count": 47,
   "metadata": {},
   "outputs": [
    {
     "name": "stdout",
     "output_type": "stream",
     "text": [
      "RMSE (Train set): 15.092\n",
      "R2 (Train set): 0.991\n",
      "Adjusted-R2 (Train set): 0.991\n",
      "Time spent (Train set): 3.415\n",
      "RMSE (Test set): 62.177\n",
      "R2 (Test set): 0.841\n",
      "Adjusted-R2 (Test set): 0.839\n",
      "Time spent (Test set): 0.826\n"
     ]
    }
   ],
   "source": [
    "rmse_knn_train_tot = 0\n",
    "r2_knn_train_tot = 0\n",
    "adjr2_knn_train_tot = 0\n",
    "time_knn_train_tot = 0\n",
    "\n",
    "rmse_knn_test_tot = 0\n",
    "r2_knn_test_tot = 0\n",
    "adjr2_knn_test_tot = 0\n",
    "time_knn_test_tot = 0\n",
    "\n",
    "n_splits = 5\n",
    "\n",
    "#Splitting train and test datasets by cross validation, 80% of dataset is used for training and 20% for testing\n",
    "\n",
    "for train_index, test_index in KFold(n_splits=n_splits, random_state=1, shuffle=True).split(bike_x):\n",
    "\n",
    "    bike_x_train = bike_x.iloc[train_index,:]; bike_x_train = bike_x_train.reset_index(drop=True);\n",
    "    bike_y_train = bike_y.iloc[train_index]  ; bike_y_train = bike_y_train.reset_index(drop=True);\n",
    "    bike_x_test = bike_x.iloc[test_index,:]  ; bike_x_test = bike_x_test.reset_index(drop=True);\n",
    "    bike_y_test = bike_y.iloc[test_index]    ; bike_y_test = bike_y_test.reset_index(drop=True);\n",
    "    \n",
    "\n",
    "### TRAIN SET ###\n",
    "\n",
    "#KNN algorithm application\n",
    "\n",
    "    tic_knn_train = time.time()\n",
    "\n",
    "    knn = KNeighborsRegressor(weights='distance', n_neighbors=100, metric='minkowski', algorithm='brute')\n",
    "    model_knn = knn.fit(bike_x_train, bike_y_train)\n",
    "    knn_predictions_train = model_knn.predict(bike_x_train)\n",
    "    \n",
    "    simplefilter(action='ignore', category=FutureWarning)\n",
    "    \n",
    "    toc_knn_train = time.time()\n",
    "    time_knn_train = toc_knn_train-tic_knn_train\n",
    "    \n",
    "#KNN algorithm's regression report\n",
    "\n",
    "    rmse_knn_train = float(format(np.sqrt(metrics.mean_squared_error(bike_y_train,knn_predictions_train)),'.4f'))\n",
    "    r2_knn_train = float(format(model_knn.score(bike_x_train, bike_y_train),'.4f'))\n",
    "    adjr2_knn_train = float(format(adjustedr2(r2_knn_train,bike_x_train.shape[1],bike_x_train.shape[0]),'.4f'))\n",
    "\n",
    "#Adding the results\n",
    "        \n",
    "    rmse_knn_train_tot += rmse_knn_train\n",
    "    r2_knn_train_tot += r2_knn_train\n",
    "    adjr2_knn_train_tot += adjr2_knn_train\n",
    "    time_knn_train_tot += time_knn_train\n",
    "    \n",
    "    simplefilter(action='ignore', category=FutureWarning)  \n",
    "    \n",
    "    \n",
    "### TEST SET ###\n",
    "\n",
    "#KNN algorithm application    \n",
    "\n",
    "    tic_knn_test = time.time()\n",
    "\n",
    "    knn_test = KNeighborsRegressor(weights='distance', n_neighbors=100, metric='minkowski', algorithm='brute')\n",
    "    model_knn = knn_test.fit(bike_x_train, bike_y_train)\n",
    "    knn_predictions_test = model_knn.predict(bike_x_test)\n",
    "    \n",
    "    simplefilter(action='ignore', category=FutureWarning)\n",
    "    \n",
    "    toc_knn_test = time.time()\n",
    "    time_knn_test = toc_knn_test-tic_knn_test\n",
    "    \n",
    "#KNN algorithm's regression report \n",
    "    \n",
    "    rmse_knn_test = float(format(np.sqrt(metrics.mean_squared_error(bike_y_test,knn_predictions_test)),'.4f'))\n",
    "    r2_knn_test = float(format(model_knn.score(bike_x_test,bike_y_test),'.4f'))\n",
    "    adjr2_knn_test = float(format(adjustedr2(r2_knn_test,bike_x_test.shape[1],bike_x_test.shape[0]),'.4f'))\n",
    "\n",
    "#Adding the results\n",
    "        \n",
    "    rmse_knn_test_tot += rmse_knn_test\n",
    "    r2_knn_test_tot += r2_knn_test\n",
    "    adjr2_knn_test_tot += adjr2_knn_test\n",
    "    time_knn_test_tot += time_knn_test\n",
    "    \n",
    "    simplefilter(action='ignore', category=FutureWarning)\n",
    "    \n",
    "    \n",
    "#Taking average of the values\n",
    "\n",
    "rmse_knn_train = rmse_knn_train_tot/n_splits\n",
    "r2_knn_train = r2_knn_train_tot/n_splits\n",
    "adjr2_knn_train = adjr2_knn_train_tot/n_splits\n",
    "time_knn_train = time_knn_train_tot/n_splits\n",
    "    \n",
    "rmse_knn_test = rmse_knn_test_tot/n_splits\n",
    "r2_knn_test = r2_knn_test_tot/n_splits\n",
    "adjr2_knn_test = adjr2_knn_test_tot/n_splits\n",
    "time_knn_test = time_knn_test_tot/n_splits\n",
    "\n",
    "\n",
    "\n",
    "print(\"RMSE (Train set): {0:.3f}\".format(rmse_knn_train))\n",
    "print(\"R2 (Train set): {0:.3f}\".format(r2_knn_train))\n",
    "print(\"Adjusted-R2 (Train set): {0:.3f}\".format(adjr2_knn_train))\n",
    "print(\"Time spent (Train set): {0:.3f}\".format(time_knn_train)) \n",
    "print(\"RMSE (Test set): {0:.3f}\".format(rmse_knn_test))\n",
    "print(\"R2 (Test set): {0:.3f}\".format(r2_knn_test))\n",
    "print(\"Adjusted-R2 (Test set): {0:.3f}\".format(adjr2_knn_test))\n",
    "print(\"Time spent (Test set): {0:.3f}\".format(time_knn_test))"
   ]
  },
  {
   "cell_type": "markdown",
   "metadata": {},
   "source": [
    "##### 3.5.e- Support vector machine algorithm running"
   ]
  },
  {
   "cell_type": "code",
   "execution_count": 48,
   "metadata": {},
   "outputs": [
    {
     "name": "stdout",
     "output_type": "stream",
     "text": [
      "RMSE (Train set): 106.546\n",
      "R2 (Train set): 0.533\n",
      "Adjusted-R2 (Train set): 0.531\n",
      "Time spent (Train set): 18.035\n",
      "RMSE (Test set): 106.829\n",
      "R2 (Test set): 0.530\n",
      "Adjusted-R2 (Test set): 0.524\n",
      "Time spent (Test set): 13.246\n"
     ]
    }
   ],
   "source": [
    "rmse_svr_train_tot = 0\n",
    "r2_svr_train_tot = 0\n",
    "adjr2_svr_train_tot = 0\n",
    "time_svr_train_tot = 0\n",
    "\n",
    "rmse_svr_test_tot = 0\n",
    "r2_svr_test_tot = 0\n",
    "adjr2_svr_test_tot = 0\n",
    "time_svr_test_tot = 0\n",
    "\n",
    "n_splits = 5\n",
    "\n",
    "#Splitting train and test datasets by cross validation, 80% of dataset is used for training and 20% for testing\n",
    "\n",
    "for train_index, test_index in KFold(n_splits=n_splits, random_state=1, shuffle=True).split(bike_x):\n",
    "\n",
    "    bike_x_train = bike_x.iloc[train_index,:]; bike_x_train = bike_x_train.reset_index(drop=True);\n",
    "    bike_y_train = bike_y.iloc[train_index]  ; bike_y_train = bike_y_train.reset_index(drop=True);\n",
    "    bike_x_test = bike_x.iloc[test_index,:]  ; bike_x_test = bike_x_test.reset_index(drop=True);\n",
    "    bike_y_test = bike_y.iloc[test_index]    ; bike_y_test = bike_y_test.reset_index(drop=True);\n",
    "    \n",
    "\n",
    "### TRAIN SET ###\n",
    "\n",
    "#SVR algorithm application\n",
    "\n",
    "    tic_svr_train = time.time()\n",
    "\n",
    "    svr = SVR(tol=0.001, max_iter=-1, kernel='poly', gamma='auto')\n",
    "    model_svr = svr.fit(bike_x_train, bike_y_train)\n",
    "    svr_predictions_train = model_svr.predict(bike_x_train)\n",
    "    \n",
    "    simplefilter(action='ignore', category=FutureWarning)\n",
    "    \n",
    "    toc_svr_train = time.time()\n",
    "    time_svr_train = toc_svr_train-tic_svr_train\n",
    "    \n",
    "#SVR algorithm's regression report\n",
    "\n",
    "    rmse_svr_train = float(format(np.sqrt(metrics.mean_squared_error(bike_y_train,svr_predictions_train)),'.4f'))\n",
    "    r2_svr_train = float(format(model_svr.score(bike_x_train, bike_y_train),'.4f'))\n",
    "    adjr2_svr_train = float(format(adjustedr2(r2_svr_train,bike_x_train.shape[1],bike_x_train.shape[0]),'.4f'))\n",
    "\n",
    "#Adding the results\n",
    "        \n",
    "    rmse_svr_train_tot += rmse_svr_train\n",
    "    r2_svr_train_tot += r2_svr_train\n",
    "    adjr2_svr_train_tot += adjr2_svr_train\n",
    "    time_svr_train_tot += time_svr_train\n",
    "    \n",
    "    simplefilter(action='ignore', category=FutureWarning)  \n",
    "    \n",
    "    \n",
    "### TEST SET ###\n",
    "\n",
    "#SVR algorithm application    \n",
    "\n",
    "    tic_svr_test = time.time()\n",
    "\n",
    "    svr_test = SVR(tol=0.001, max_iter=-1, kernel='poly', gamma='auto')\n",
    "    model_svr = svr_test.fit(bike_x_train, bike_y_train)\n",
    "    svr_predictions_test = model_svr.predict(bike_x_test)\n",
    "    \n",
    "    simplefilter(action='ignore', category=FutureWarning)\n",
    "    \n",
    "    toc_svr_test = time.time()\n",
    "    time_svr_test = toc_svr_test-tic_svr_test\n",
    "    \n",
    "#SVR algorithm's regression report \n",
    "    \n",
    "    rmse_svr_test = float(format(np.sqrt(metrics.mean_squared_error(bike_y_test,svr_predictions_test)),'.4f'))\n",
    "    r2_svr_test = float(format(model_svr.score(bike_x_test,bike_y_test),'.4f'))\n",
    "    adjr2_svr_test = float(format(adjustedr2(r2_svr_test,bike_x_test.shape[1],bike_x_test.shape[0]),'.4f'))\n",
    "\n",
    "#Adding the results\n",
    "        \n",
    "    rmse_svr_test_tot += rmse_svr_test\n",
    "    r2_svr_test_tot += r2_svr_test\n",
    "    adjr2_svr_test_tot += adjr2_svr_test\n",
    "    time_svr_test_tot += time_svr_test\n",
    "    \n",
    "    simplefilter(action='ignore', category=FutureWarning)\n",
    "    \n",
    "    \n",
    "#Taking average of the values\n",
    "\n",
    "rmse_svr_train = rmse_svr_train_tot/n_splits\n",
    "r2_svr_train = r2_svr_train_tot/n_splits\n",
    "adjr2_svr_train = adjr2_svr_train_tot/n_splits\n",
    "time_svr_train = time_svr_train_tot/n_splits\n",
    "    \n",
    "rmse_svr_test = rmse_svr_test_tot/n_splits\n",
    "r2_svr_test = r2_svr_test_tot/n_splits\n",
    "adjr2_svr_test = adjr2_svr_test_tot/n_splits\n",
    "time_svr_test = time_svr_test_tot/n_splits\n",
    "\n",
    "\n",
    "\n",
    "print(\"RMSE (Train set): {0:.3f}\".format(rmse_svr_train))\n",
    "print(\"R2 (Train set): {0:.3f}\".format(r2_svr_train))\n",
    "print(\"Adjusted-R2 (Train set): {0:.3f}\".format(adjr2_svr_train))\n",
    "print(\"Time spent (Train set): {0:.3f}\".format(time_svr_train)) \n",
    "print(\"RMSE (Test set): {0:.3f}\".format(rmse_svr_test))\n",
    "print(\"R2 (Test set): {0:.3f}\".format(r2_svr_test))\n",
    "print(\"Adjusted-R2 (Test set): {0:.3f}\".format(adjr2_svr_test))\n",
    "print(\"Time spent (Test set): {0:.3f}\".format(time_svr_test))"
   ]
  },
  {
   "cell_type": "markdown",
   "metadata": {},
   "source": [
    "### 3.6 - Comparison of the Applied Models"
   ]
  },
  {
   "cell_type": "code",
   "execution_count": 52,
   "metadata": {},
   "outputs": [
    {
     "data": {
      "text/html": [
       "<div>\n",
       "<style scoped>\n",
       "    .dataframe tbody tr th:only-of-type {\n",
       "        vertical-align: middle;\n",
       "    }\n",
       "\n",
       "    .dataframe tbody tr th {\n",
       "        vertical-align: top;\n",
       "    }\n",
       "\n",
       "    .dataframe thead th {\n",
       "        text-align: right;\n",
       "    }\n",
       "</style>\n",
       "<table border=\"1\" class=\"dataframe\">\n",
       "  <thead>\n",
       "    <tr style=\"text-align: right;\">\n",
       "      <th></th>\n",
       "      <th>Model</th>\n",
       "      <th>RMSE (Train set)</th>\n",
       "      <th>R2 (Train set)</th>\n",
       "      <th>Adj-R2 (Train set)</th>\n",
       "      <th>Time spent (Train set)</th>\n",
       "      <th>RMSE (Test set)</th>\n",
       "      <th>R2 (Test set)</th>\n",
       "      <th>Adj-R2 (Test set)</th>\n",
       "      <th>Time spent (Test set)</th>\n",
       "    </tr>\n",
       "  </thead>\n",
       "  <tbody>\n",
       "    <tr>\n",
       "      <td>0</td>\n",
       "      <td>Random Forest</td>\n",
       "      <td>20.32</td>\n",
       "      <td>0.983</td>\n",
       "      <td>0.983</td>\n",
       "      <td>9.48</td>\n",
       "      <td>43.37</td>\n",
       "      <td>0.923</td>\n",
       "      <td>0.921</td>\n",
       "      <td>9.18</td>\n",
       "    </tr>\n",
       "    <tr>\n",
       "      <td>1</td>\n",
       "      <td>Decision Tree</td>\n",
       "      <td>48.00</td>\n",
       "      <td>0.905</td>\n",
       "      <td>0.905</td>\n",
       "      <td>9.56</td>\n",
       "      <td>52.88</td>\n",
       "      <td>0.885</td>\n",
       "      <td>0.883</td>\n",
       "      <td>9.63</td>\n",
       "    </tr>\n",
       "    <tr>\n",
       "      <td>2</td>\n",
       "      <td>KNN</td>\n",
       "      <td>15.09</td>\n",
       "      <td>0.991</td>\n",
       "      <td>0.991</td>\n",
       "      <td>3.42</td>\n",
       "      <td>62.18</td>\n",
       "      <td>0.841</td>\n",
       "      <td>0.839</td>\n",
       "      <td>0.83</td>\n",
       "    </tr>\n",
       "    <tr>\n",
       "      <td>3</td>\n",
       "      <td>SVM</td>\n",
       "      <td>106.55</td>\n",
       "      <td>0.533</td>\n",
       "      <td>0.531</td>\n",
       "      <td>18.04</td>\n",
       "      <td>106.83</td>\n",
       "      <td>0.530</td>\n",
       "      <td>0.524</td>\n",
       "      <td>13.25</td>\n",
       "    </tr>\n",
       "    <tr>\n",
       "      <td>4</td>\n",
       "      <td>Linear Regression</td>\n",
       "      <td>122.22</td>\n",
       "      <td>0.385</td>\n",
       "      <td>0.383</td>\n",
       "      <td>0.02</td>\n",
       "      <td>122.53</td>\n",
       "      <td>0.382</td>\n",
       "      <td>0.373</td>\n",
       "      <td>0.01</td>\n",
       "    </tr>\n",
       "  </tbody>\n",
       "</table>\n",
       "</div>"
      ],
      "text/plain": [
       "               Model  RMSE (Train set)  R2 (Train set)  Adj-R2 (Train set)  \\\n",
       "0      Random Forest             20.32           0.983               0.983   \n",
       "1      Decision Tree             48.00           0.905               0.905   \n",
       "2                KNN             15.09           0.991               0.991   \n",
       "3                SVM            106.55           0.533               0.531   \n",
       "4  Linear Regression            122.22           0.385               0.383   \n",
       "\n",
       "   Time spent (Train set)  RMSE (Test set)  R2 (Test set)  Adj-R2 (Test set)  \\\n",
       "0                    9.48            43.37          0.923              0.921   \n",
       "1                    9.56            52.88          0.885              0.883   \n",
       "2                    3.42            62.18          0.841              0.839   \n",
       "3                   18.04           106.83          0.530              0.524   \n",
       "4                    0.02           122.53          0.382              0.373   \n",
       "\n",
       "   Time spent (Test set)  \n",
       "0                   9.18  \n",
       "1                   9.63  \n",
       "2                   0.83  \n",
       "3                  13.25  \n",
       "4                   0.01  "
      ]
     },
     "execution_count": 52,
     "metadata": {},
     "output_type": "execute_result"
    }
   ],
   "source": [
    "models = pd.DataFrame([\"Linear Regression\",\"Decision Tree\",\"Random Forest\",\"KNN\",\"SVM\"], columns =[\"Model\"])\n",
    "\n",
    "#RMSE\n",
    "rmse_train = pd.DataFrame([round(rmse_lin_reg_train,2), round(rmse_dec_tree_train,2), round(rmse_rand_forest_train,2), \n",
    "                           round(rmse_knn_train,2), round(rmse_svr_train,2)], columns=[\"RMSE (Train set)\"])\n",
    "rmse_test = pd.DataFrame([round(rmse_lin_reg_test,2), round(rmse_dec_tree_test,2), round(rmse_rand_forest_test,2), \n",
    "                          round(rmse_knn_test,2), round(rmse_svr_test,2)], columns=[\"RMSE (Test set)\"])\n",
    "\n",
    "#R2\n",
    "r2_train = pd.DataFrame([round(r2_lin_reg_train,3), round(r2_dec_tree_train,3), round(r2_rand_forest_train,3), \n",
    "                         round(r2_knn_train,3), round(r2_svr_train,3)], columns=[\"R2 (Train set)\"])\n",
    "r2_test = pd.DataFrame([round(r2_lin_reg_test,3), round(r2_dec_tree_test,3), round(r2_rand_forest_test,3), \n",
    "                        round(r2_knn_test,3), round(r2_svr_test,3)], columns=[\"R2 (Test set)\"])\n",
    "\n",
    "#Adj-R2\n",
    "adjr2_train = pd.DataFrame([round(adjr2_lin_reg_train,3), round(adjr2_dec_tree_train,3), round(adjr2_rand_forest_train,3), \n",
    "                            round(adjr2_knn_train,3), round(adjr2_svr_train,3)], columns=[\"Adj-R2 (Train set)\"])\n",
    "adjr2_test = pd.DataFrame([round(adjr2_lin_reg_test,3), round(adjr2_dec_tree_test,3), round(adjr2_rand_forest_test,3), \n",
    "                           round(adjr2_knn_test,3), round(adjr2_svr_test,3)], columns=[\"Adj-R2 (Test set)\"])\n",
    "\n",
    "#Time\n",
    "time_train = pd.DataFrame([round(time_lin_reg_train,2), round(time_dec_tree_train,2), round(time_rand_forest_train,2), \n",
    "                           round(time_knn_train,2), round(time_svr_train,2)], columns=[\"Time spent (Train set)\"])\n",
    "time_test = pd.DataFrame([round(time_lin_reg_test,2), round(time_dec_tree_test,2), round(time_rand_forest_test,2), \n",
    "                          round(time_knn_test,2), round(time_svr_test,2)], columns=[\"Time spent (Test set)\"])\n",
    "\n",
    "#Concatenate\n",
    "comparison = pd.concat([models,rmse_train,r2_train,adjr2_train,time_train,rmse_test,r2_test,adjr2_test,time_test], axis=1)\n",
    "comparison  = comparison.sort_values([\"R2 (Test set)\"], ascending = False)\n",
    "comparison  = comparison.reset_index(drop=True)\n",
    "\n",
    "comparison"
   ]
  },
  {
   "cell_type": "code",
   "execution_count": null,
   "metadata": {},
   "outputs": [],
   "source": []
  },
  {
   "cell_type": "code",
   "execution_count": null,
   "metadata": {},
   "outputs": [],
   "source": []
  }
 ],
 "metadata": {
  "kernelspec": {
   "display_name": "Python 3",
   "language": "python",
   "name": "python3"
  },
  "language_info": {
   "codemirror_mode": {
    "name": "ipython",
    "version": 3
   },
   "file_extension": ".py",
   "mimetype": "text/x-python",
   "name": "python",
   "nbconvert_exporter": "python",
   "pygments_lexer": "ipython3",
   "version": "3.7.4"
  }
 },
 "nbformat": 4,
 "nbformat_minor": 4
}
