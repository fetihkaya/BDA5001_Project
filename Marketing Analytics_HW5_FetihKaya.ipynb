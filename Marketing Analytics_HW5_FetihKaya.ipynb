{
 "cells": [
  {
   "cell_type": "code",
   "execution_count": 1,
   "metadata": {},
   "outputs": [],
   "source": [
    "import numpy as np\n",
    "import pandas as pd\n",
    "import matplotlib\n",
    "import matplotlib.pyplot as plt\n",
    "import seaborn as sns\n",
    "import datetime\n",
    "\n",
    "pd.set_option('mode.chained_assignment', None) #dealing with copy warnings\n",
    "\n",
    "pd.set_option('display.max_rows', None)\n",
    "pd.set_option('display.max_columns', None)"
   ]
  },
  {
   "cell_type": "markdown",
   "metadata": {},
   "source": [
    "##### Data Loading"
   ]
  },
  {
   "cell_type": "code",
   "execution_count": 2,
   "metadata": {},
   "outputs": [
    {
     "data": {
      "text/html": [
       "<div>\n",
       "<style scoped>\n",
       "    .dataframe tbody tr th:only-of-type {\n",
       "        vertical-align: middle;\n",
       "    }\n",
       "\n",
       "    .dataframe tbody tr th {\n",
       "        vertical-align: top;\n",
       "    }\n",
       "\n",
       "    .dataframe thead th {\n",
       "        text-align: right;\n",
       "    }\n",
       "</style>\n",
       "<table border=\"1\" class=\"dataframe\">\n",
       "  <thead>\n",
       "    <tr style=\"text-align: right;\">\n",
       "      <th></th>\n",
       "      <th>Date bought</th>\n",
       "      <th>Customer</th>\n",
       "      <th>Bought</th>\n",
       "      <th>Amount</th>\n",
       "    </tr>\n",
       "  </thead>\n",
       "  <tbody>\n",
       "    <tr>\n",
       "      <td>0</td>\n",
       "      <td>8/15/1990</td>\n",
       "      <td>113</td>\n",
       "      <td>other</td>\n",
       "      <td>27.29</td>\n",
       "    </tr>\n",
       "    <tr>\n",
       "      <td>1</td>\n",
       "      <td>8/16/1990</td>\n",
       "      <td>64</td>\n",
       "      <td>other</td>\n",
       "      <td>24.48</td>\n",
       "    </tr>\n",
       "    <tr>\n",
       "      <td>2</td>\n",
       "      <td>8/18/1990</td>\n",
       "      <td>49</td>\n",
       "      <td>ford</td>\n",
       "      <td>37.21</td>\n",
       "    </tr>\n",
       "    <tr>\n",
       "      <td>3</td>\n",
       "      <td>8/18/1990</td>\n",
       "      <td>54</td>\n",
       "      <td>ford</td>\n",
       "      <td>40.95</td>\n",
       "    </tr>\n",
       "    <tr>\n",
       "      <td>4</td>\n",
       "      <td>8/18/1990</td>\n",
       "      <td>83</td>\n",
       "      <td>other</td>\n",
       "      <td>9.02</td>\n",
       "    </tr>\n",
       "    <tr>\n",
       "      <td>5</td>\n",
       "      <td>8/20/1990</td>\n",
       "      <td>42</td>\n",
       "      <td>other</td>\n",
       "      <td>12.67</td>\n",
       "    </tr>\n",
       "    <tr>\n",
       "      <td>6</td>\n",
       "      <td>8/20/1990</td>\n",
       "      <td>79</td>\n",
       "      <td>other</td>\n",
       "      <td>29.61</td>\n",
       "    </tr>\n",
       "    <tr>\n",
       "      <td>7</td>\n",
       "      <td>8/21/1990</td>\n",
       "      <td>51</td>\n",
       "      <td>other</td>\n",
       "      <td>26.68</td>\n",
       "    </tr>\n",
       "    <tr>\n",
       "      <td>8</td>\n",
       "      <td>8/23/1990</td>\n",
       "      <td>4</td>\n",
       "      <td>ford</td>\n",
       "      <td>23.56</td>\n",
       "    </tr>\n",
       "    <tr>\n",
       "      <td>9</td>\n",
       "      <td>8/23/1990</td>\n",
       "      <td>116</td>\n",
       "      <td>other</td>\n",
       "      <td>19.18</td>\n",
       "    </tr>\n",
       "  </tbody>\n",
       "</table>\n",
       "</div>"
      ],
      "text/plain": [
       "  Date bought  Customer Bought  Amount\n",
       "0   8/15/1990       113  other   27.29\n",
       "1   8/16/1990        64  other   24.48\n",
       "2   8/18/1990        49   ford   37.21\n",
       "3   8/18/1990        54   ford   40.95\n",
       "4   8/18/1990        83  other    9.02\n",
       "5   8/20/1990        42  other   12.67\n",
       "6   8/20/1990        79  other   29.61\n",
       "7   8/21/1990        51  other   26.68\n",
       "8   8/23/1990         4   ford   23.56\n",
       "9   8/23/1990       116  other   19.18"
      ]
     },
     "execution_count": 2,
     "metadata": {},
     "output_type": "execute_result"
    }
   ],
   "source": [
    "#Loading the dataset\n",
    "\n",
    "original_dataset = pd.read_csv(\"C:/Users/fetih.kaya/Desktop/Forddata.csv\")\n",
    "dataset = original_dataset.copy()\n",
    "\n",
    "dataset.head(10)"
   ]
  },
  {
   "cell_type": "markdown",
   "metadata": {},
   "source": [
    "***"
   ]
  },
  {
   "cell_type": "markdown",
   "metadata": {},
   "source": [
    "# 1 - Calculation of Recency, Frequency and Monetary Values  "
   ]
  },
  {
   "cell_type": "markdown",
   "metadata": {},
   "source": [
    "***"
   ]
  },
  {
   "cell_type": "code",
   "execution_count": 3,
   "metadata": {},
   "outputs": [
    {
     "name": "stdout",
     "output_type": "stream",
     "text": [
      "<class 'pandas.core.frame.DataFrame'>\n",
      "RangeIndex: 635 entries, 0 to 634\n",
      "Data columns (total 4 columns):\n",
      "Date bought    635 non-null object\n",
      "Customer       635 non-null int64\n",
      "Bought         635 non-null object\n",
      "Amount         635 non-null float64\n",
      "dtypes: float64(1), int64(1), object(2)\n",
      "memory usage: 20.0+ KB\n"
     ]
    }
   ],
   "source": [
    "#General information about the dataset\n",
    "\n",
    "dataset.info()"
   ]
  },
  {
   "cell_type": "markdown",
   "metadata": {},
   "source": [
    "***\n",
    "<font color='red'>\n",
    "    \n",
    "**The dataset has;**\n",
    "\n",
    "-2 numerical and 2 categorical attributes, in total 4 columns\n",
    "\n",
    "-635 rows\n",
    "\n",
    "-no null values in entries\n",
    "\n",
    "***"
   ]
  },
  {
   "cell_type": "markdown",
   "metadata": {},
   "source": [
    "#### 1.1 - Removing \"Bought\" column which is not needed for RFM analysis"
   ]
  },
  {
   "cell_type": "code",
   "execution_count": 4,
   "metadata": {
    "scrolled": true
   },
   "outputs": [
    {
     "data": {
      "text/plain": [
       "(635, 3)"
      ]
     },
     "execution_count": 4,
     "metadata": {},
     "output_type": "execute_result"
    }
   ],
   "source": [
    "dataset = dataset.drop([\"Bought\"], axis=1)\n",
    "dataset.shape"
   ]
  },
  {
   "cell_type": "markdown",
   "metadata": {},
   "source": [
    "<font color='red'> - There are now 635 rows and 3 columns which are \"Date bought\", \"Customer\" and \"Amount\""
   ]
  },
  {
   "cell_type": "markdown",
   "metadata": {},
   "source": [
    "#### 1.2 - Searching for how many unique customer are there"
   ]
  },
  {
   "cell_type": "code",
   "execution_count": 5,
   "metadata": {},
   "outputs": [
    {
     "data": {
      "text/plain": [
       "(117, 3)"
      ]
     },
     "execution_count": 5,
     "metadata": {},
     "output_type": "execute_result"
    }
   ],
   "source": [
    "reduced_dataset = dataset.copy()\n",
    "\n",
    "reduced_dataset = reduced_dataset.drop_duplicates(subset=['Customer'])\n",
    "reduced_dataset.shape"
   ]
  },
  {
   "cell_type": "markdown",
   "metadata": {},
   "source": [
    "<font color='red'> - There are 117 unique customer in the dataset"
   ]
  },
  {
   "cell_type": "markdown",
   "metadata": {},
   "source": [
    "#### 1.3 - Determination of start and end dates"
   ]
  },
  {
   "cell_type": "markdown",
   "metadata": {},
   "source": [
    "<font color='red'> - It is preferred to search last 10 years data of the given dataset which is 2000-2010 (2011 and 2012 not included because of there are very few entries)"
   ]
  },
  {
   "cell_type": "code",
   "execution_count": 6,
   "metadata": {},
   "outputs": [],
   "source": [
    "startDate = datetime.datetime(2000, 1, 1)\n",
    "endDate = datetime.datetime(2010, 12, 31)"
   ]
  },
  {
   "cell_type": "markdown",
   "metadata": {},
   "source": [
    "#### 1.4 - Ranking the rows in accordance with customer ids "
   ]
  },
  {
   "cell_type": "code",
   "execution_count": 7,
   "metadata": {},
   "outputs": [],
   "source": [
    "dataset['Date bought'] = pd.to_datetime(dataset['Date bought']) \n",
    "ranked_dataset = dataset.sort_values(['Date bought'], ascending=False)"
   ]
  },
  {
   "cell_type": "markdown",
   "metadata": {},
   "source": [
    "#### 1.5 - Remove the records before startDate and after endDate"
   ]
  },
  {
   "cell_type": "code",
   "execution_count": 8,
   "metadata": {},
   "outputs": [],
   "source": [
    "ranked_dataset = ranked_dataset[(ranked_dataset['Date bought'] >= startDate) & (ranked_dataset['Date bought'] <= endDate)]"
   ]
  },
  {
   "cell_type": "markdown",
   "metadata": {},
   "source": [
    "#### 1.6 - Add recency column"
   ]
  },
  {
   "cell_type": "code",
   "execution_count": 9,
   "metadata": {},
   "outputs": [],
   "source": [
    "new_dataset = ranked_dataset.drop_duplicates(subset=['Customer'])\n",
    "\n",
    "new_dataset[\"Recency\"] = \"\"\n",
    "\n",
    "for i in range(new_dataset.shape[0]):\n",
    "    new_dataset.iloc[i, 3] = (endDate - new_dataset.iloc[i, 0]).days"
   ]
  },
  {
   "cell_type": "markdown",
   "metadata": {},
   "source": [
    "#### 1.7 - Add frequency column"
   ]
  },
  {
   "cell_type": "code",
   "execution_count": 10,
   "metadata": {},
   "outputs": [],
   "source": [
    "freq = ranked_dataset.groupby(by='Customer', as_index=False).agg({'Amount': 'count'})\n",
    "\n",
    "new_dataset = new_dataset.sort_values(['Customer'], ascending=True)\n",
    "\n",
    "new_dataset[\"Frequency\"] = \"\"\n",
    "\n",
    "for i in range(new_dataset.shape[0]):\n",
    "    new_dataset.iloc[i, 4] = freq.iloc[i,1]"
   ]
  },
  {
   "cell_type": "markdown",
   "metadata": {},
   "source": [
    "#### 1.8 - Add monetary column"
   ]
  },
  {
   "cell_type": "code",
   "execution_count": 11,
   "metadata": {},
   "outputs": [],
   "source": [
    "monetary = ranked_dataset.groupby(by='Customer', as_index=False).agg({'Date bought': 'count', 'Amount':'sum'})\n",
    "\n",
    "new_dataset[\"Monetary\"] = \"\"\n",
    "\n",
    "for i in range(new_dataset.shape[0]):\n",
    "    new_dataset.iloc[i, 5] = monetary.iloc[i,2] / monetary.iloc[i,1]"
   ]
  },
  {
   "cell_type": "markdown",
   "metadata": {},
   "source": [
    "***"
   ]
  },
  {
   "cell_type": "markdown",
   "metadata": {},
   "source": [
    "# 2 - Determination of Sub-groups for Score Assigning "
   ]
  },
  {
   "cell_type": "markdown",
   "metadata": {},
   "source": [
    "***"
   ]
  },
  {
   "cell_type": "markdown",
   "metadata": {},
   "source": [
    "#### 2.1 - Determination of intervals for \"Recency\" "
   ]
  },
  {
   "cell_type": "code",
   "execution_count": 12,
   "metadata": {},
   "outputs": [
    {
     "data": {
      "text/plain": [
       "<matplotlib.axes._subplots.AxesSubplot at 0x1bf72591588>"
      ]
     },
     "execution_count": 12,
     "metadata": {},
     "output_type": "execute_result"
    },
    {
     "data": {
      "image/png": "[encoded data removed]",
      "text/plain": [
       "<Figure size 432x288 with 1 Axes>"
      ]
     },
     "metadata": {
      "needs_background": "light"
     },
     "output_type": "display_data"
    }
   ],
   "source": [
    "sns.distplot(new_dataset.Recency.sort_values())"
   ]
  },
  {
   "cell_type": "code",
   "execution_count": 13,
   "metadata": {},
   "outputs": [],
   "source": [
    "diff = (new_dataset.Recency.max() - new_dataset.Recency.min())/5\n",
    "\n",
    "new_dataset[\"RecencyScore\"] = \"\"\n",
    "\n",
    "for i in range(new_dataset.shape[0]):\n",
    "    if new_dataset.Recency.min() <= new_dataset.iloc[i, 3] <= diff:\n",
    "        new_dataset.iloc[i, 6] = 5\n",
    "        continue\n",
    "    elif diff < new_dataset.iloc[i, 3] <= 2*diff:\n",
    "        new_dataset.iloc[i, 6] = 4\n",
    "        continue\n",
    "    elif 2*diff < new_dataset.iloc[i, 3] <= 3*diff:\n",
    "        new_dataset.iloc[i, 6] = 3\n",
    "        continue\n",
    "    elif 3*diff < new_dataset.iloc[i, 3] <= 4*diff:\n",
    "        new_dataset.iloc[i, 6] = 2\n",
    "        continue\n",
    "    elif 4*diff < new_dataset.iloc[i, 3] <= new_dataset.Recency.max():\n",
    "        new_dataset.iloc[i, 6] = 1\n",
    "        continue        "
   ]
  },
  {
   "cell_type": "markdown",
   "metadata": {},
   "source": [
    "#### 2.2 - Determination of intervals for \"Frequency\" "
   ]
  },
  {
   "cell_type": "code",
   "execution_count": 14,
   "metadata": {},
   "outputs": [
    {
     "data": {
      "text/plain": [
       "<matplotlib.axes._subplots.AxesSubplot at 0x1bf728badc8>"
      ]
     },
     "execution_count": 14,
     "metadata": {},
     "output_type": "execute_result"
    },
    {
     "data": {
      "image/png": "[encoded data removed]",
      "text/plain": [
       "<Figure size 432x288 with 1 Axes>"
      ]
     },
     "metadata": {
      "needs_background": "light"
     },
     "output_type": "display_data"
    }
   ],
   "source": [
    "sns.distplot(new_dataset.Frequency.sort_values())"
   ]
  },
  {
   "cell_type": "code",
   "execution_count": 15,
   "metadata": {},
   "outputs": [],
   "source": [
    "new_dataset[\"FrequencyScore\"] = \"\"\n",
    "\n",
    "for i in range(new_dataset.shape[0]):\n",
    "    if new_dataset.iloc[i, 4] == 4:\n",
    "        new_dataset.iloc[i, 7] = 4\n",
    "        continue\n",
    "    elif new_dataset.iloc[i, 4] == 3:\n",
    "        new_dataset.iloc[i, 7] = 3\n",
    "        continue\n",
    "    elif new_dataset.iloc[i, 4] == 2:\n",
    "        new_dataset.iloc[i, 7] = 2\n",
    "        continue\n",
    "    elif new_dataset.iloc[i, 4] == 1:\n",
    "        new_dataset.iloc[i, 7] = 1\n",
    "        continue        "
   ]
  },
  {
   "cell_type": "markdown",
   "metadata": {},
   "source": [
    "#### 2.3 - Determination of intervals for \"Monetary\" "
   ]
  },
  {
   "cell_type": "code",
   "execution_count": 16,
   "metadata": {},
   "outputs": [
    {
     "data": {
      "text/plain": [
       "<matplotlib.axes._subplots.AxesSubplot at 0x1bf72927508>"
      ]
     },
     "execution_count": 16,
     "metadata": {},
     "output_type": "execute_result"
    },
    {
     "data": {
      "image/png": "[encoded data removed]",
      "text/plain": [
       "<Figure size 432x288 with 1 Axes>"
      ]
     },
     "metadata": {
      "needs_background": "light"
     },
     "output_type": "display_data"
    }
   ],
   "source": [
    "sns.distplot(new_dataset.Monetary.sort_values())"
   ]
  },
  {
   "cell_type": "code",
   "execution_count": 17,
   "metadata": {},
   "outputs": [],
   "source": [
    "diff = (new_dataset.Monetary.max() - new_dataset.Monetary.min())/5\n",
    "\n",
    "new_dataset[\"MonetaryScore\"] = \"\"\n",
    "\n",
    "for i in range(new_dataset.shape[0]):\n",
    "    if new_dataset.Monetary.min() <= new_dataset.iloc[i, 5] <= diff:\n",
    "        new_dataset.iloc[i, 8] = 1\n",
    "        continue\n",
    "    elif diff < new_dataset.iloc[i, 5] <= 2*diff:\n",
    "        new_dataset.iloc[i, 8] = 2\n",
    "        continue\n",
    "    elif 2*diff < new_dataset.iloc[i, 5] <= 3*diff:\n",
    "        new_dataset.iloc[i, 8] = 3\n",
    "        continue\n",
    "    elif 3*diff < new_dataset.iloc[i, 5] <= 4*diff:\n",
    "        new_dataset.iloc[i, 8] = 4\n",
    "        continue\n",
    "    elif 4*diff < new_dataset.iloc[i, 5] <= new_dataset.Monetary.max():\n",
    "        new_dataset.iloc[i, 8] = 5\n",
    "        continue        "
   ]
  },
  {
   "cell_type": "markdown",
   "metadata": {},
   "source": [
    "***"
   ]
  },
  {
   "cell_type": "markdown",
   "metadata": {},
   "source": [
    "# 3 - Calculation of Total Score for Each Customer "
   ]
  },
  {
   "cell_type": "markdown",
   "metadata": {},
   "source": [
    "***"
   ]
  },
  {
   "cell_type": "markdown",
   "metadata": {},
   "source": [
    "#### 3.1 - Using total score weights as recency=25%, frequency=50% and monetary=25%"
   ]
  },
  {
   "cell_type": "markdown",
   "metadata": {},
   "source": [
    "<font color='red'> - For total score; the given weights of the recency, frequency and monetary are 25%, 50% and 25% respectively. Frequency has the highest weight because it shows the liability of the customers and the others recency and monetary have equal weights because they do not show certain characteristics of customers"
   ]
  },
  {
   "cell_type": "code",
   "execution_count": 18,
   "metadata": {},
   "outputs": [],
   "source": [
    "trial1 = new_dataset.copy()\n",
    "\n",
    "trial1[\"TotalScore\"] = \"\"\n",
    "\n",
    "for i in range(trial1.shape[0]):\n",
    "    trial1.iloc[i,9] = 0.25*trial1.iloc[i,6] + 0.5*trial1.iloc[i,7] + 0.25*trial1.iloc[i,8]"
   ]
  },
  {
   "cell_type": "code",
   "execution_count": 19,
   "metadata": {},
   "outputs": [
    {
     "data": {
      "text/html": [
       "<div>\n",
       "<style scoped>\n",
       "    .dataframe tbody tr th:only-of-type {\n",
       "        vertical-align: middle;\n",
       "    }\n",
       "\n",
       "    .dataframe tbody tr th {\n",
       "        vertical-align: top;\n",
       "    }\n",
       "\n",
       "    .dataframe thead th {\n",
       "        text-align: right;\n",
       "    }\n",
       "</style>\n",
       "<table border=\"1\" class=\"dataframe\">\n",
       "  <thead>\n",
       "    <tr style=\"text-align: right;\">\n",
       "      <th></th>\n",
       "      <th>Date bought</th>\n",
       "      <th>Customer</th>\n",
       "      <th>Amount</th>\n",
       "      <th>Recency</th>\n",
       "      <th>Frequency</th>\n",
       "      <th>Monetary</th>\n",
       "      <th>RecencyScore</th>\n",
       "      <th>FrequencyScore</th>\n",
       "      <th>MonetaryScore</th>\n",
       "      <th>TotalScore</th>\n",
       "    </tr>\n",
       "  </thead>\n",
       "  <tbody>\n",
       "    <tr>\n",
       "      <td>627</td>\n",
       "      <td>2009-10-21</td>\n",
       "      <td>68</td>\n",
       "      <td>26.14</td>\n",
       "      <td>436</td>\n",
       "      <td>4</td>\n",
       "      <td>18.005</td>\n",
       "      <td>5</td>\n",
       "      <td>4</td>\n",
       "      <td>3</td>\n",
       "      <td>4</td>\n",
       "    </tr>\n",
       "    <tr>\n",
       "      <td>628</td>\n",
       "      <td>2009-11-20</td>\n",
       "      <td>40</td>\n",
       "      <td>0.89</td>\n",
       "      <td>406</td>\n",
       "      <td>4</td>\n",
       "      <td>22.14</td>\n",
       "      <td>5</td>\n",
       "      <td>4</td>\n",
       "      <td>3</td>\n",
       "      <td>4</td>\n",
       "    </tr>\n",
       "    <tr>\n",
       "      <td>631</td>\n",
       "      <td>2010-09-29</td>\n",
       "      <td>104</td>\n",
       "      <td>11.94</td>\n",
       "      <td>93</td>\n",
       "      <td>4</td>\n",
       "      <td>22.355</td>\n",
       "      <td>5</td>\n",
       "      <td>4</td>\n",
       "      <td>3</td>\n",
       "      <td>4</td>\n",
       "    </tr>\n",
       "    <tr>\n",
       "      <td>623</td>\n",
       "      <td>2009-05-21</td>\n",
       "      <td>38</td>\n",
       "      <td>22.51</td>\n",
       "      <td>589</td>\n",
       "      <td>4</td>\n",
       "      <td>20.6475</td>\n",
       "      <td>5</td>\n",
       "      <td>4</td>\n",
       "      <td>3</td>\n",
       "      <td>4</td>\n",
       "    </tr>\n",
       "    <tr>\n",
       "      <td>629</td>\n",
       "      <td>2010-06-07</td>\n",
       "      <td>54</td>\n",
       "      <td>26.56</td>\n",
       "      <td>207</td>\n",
       "      <td>4</td>\n",
       "      <td>19.765</td>\n",
       "      <td>5</td>\n",
       "      <td>4</td>\n",
       "      <td>3</td>\n",
       "      <td>4</td>\n",
       "    </tr>\n",
       "  </tbody>\n",
       "</table>\n",
       "</div>"
      ],
      "text/plain": [
       "    Date bought  Customer  Amount  Recency  Frequency Monetary  RecencyScore  \\\n",
       "627  2009-10-21        68   26.14      436          4   18.005             5   \n",
       "628  2009-11-20        40    0.89      406          4    22.14             5   \n",
       "631  2010-09-29       104   11.94       93          4   22.355             5   \n",
       "623  2009-05-21        38   22.51      589          4  20.6475             5   \n",
       "629  2010-06-07        54   26.56      207          4   19.765             5   \n",
       "\n",
       "     FrequencyScore  MonetaryScore TotalScore  \n",
       "627               4              3          4  \n",
       "628               4              3          4  \n",
       "631               4              3          4  \n",
       "623               4              3          4  \n",
       "629               4              3          4  "
      ]
     },
     "execution_count": 19,
     "metadata": {},
     "output_type": "execute_result"
    }
   ],
   "source": [
    "rank1 = trial1.sort_values(['TotalScore'], ascending=False)\n",
    "rank1.head()"
   ]
  },
  {
   "cell_type": "code",
   "execution_count": 20,
   "metadata": {},
   "outputs": [
    {
     "name": "stdout",
     "output_type": "stream",
     "text": [
      "(32, 10)\n"
     ]
    },
    {
     "data": {
      "text/html": [
       "<div>\n",
       "<style scoped>\n",
       "    .dataframe tbody tr th:only-of-type {\n",
       "        vertical-align: middle;\n",
       "    }\n",
       "\n",
       "    .dataframe tbody tr th {\n",
       "        vertical-align: top;\n",
       "    }\n",
       "\n",
       "    .dataframe thead th {\n",
       "        text-align: right;\n",
       "    }\n",
       "</style>\n",
       "<table border=\"1\" class=\"dataframe\">\n",
       "  <thead>\n",
       "    <tr style=\"text-align: right;\">\n",
       "      <th></th>\n",
       "      <th>Date bought</th>\n",
       "      <th>Customer</th>\n",
       "      <th>Amount</th>\n",
       "      <th>Recency</th>\n",
       "      <th>Frequency</th>\n",
       "      <th>Monetary</th>\n",
       "      <th>RecencyScore</th>\n",
       "      <th>FrequencyScore</th>\n",
       "      <th>MonetaryScore</th>\n",
       "      <th>TotalScore</th>\n",
       "    </tr>\n",
       "  </thead>\n",
       "  <tbody>\n",
       "    <tr>\n",
       "      <td>627</td>\n",
       "      <td>2009-10-21</td>\n",
       "      <td>68</td>\n",
       "      <td>26.14</td>\n",
       "      <td>436</td>\n",
       "      <td>4</td>\n",
       "      <td>18.005</td>\n",
       "      <td>5</td>\n",
       "      <td>4</td>\n",
       "      <td>3</td>\n",
       "      <td>4</td>\n",
       "    </tr>\n",
       "    <tr>\n",
       "      <td>628</td>\n",
       "      <td>2009-11-20</td>\n",
       "      <td>40</td>\n",
       "      <td>0.89</td>\n",
       "      <td>406</td>\n",
       "      <td>4</td>\n",
       "      <td>22.14</td>\n",
       "      <td>5</td>\n",
       "      <td>4</td>\n",
       "      <td>3</td>\n",
       "      <td>4</td>\n",
       "    </tr>\n",
       "    <tr>\n",
       "      <td>631</td>\n",
       "      <td>2010-09-29</td>\n",
       "      <td>104</td>\n",
       "      <td>11.94</td>\n",
       "      <td>93</td>\n",
       "      <td>4</td>\n",
       "      <td>22.355</td>\n",
       "      <td>5</td>\n",
       "      <td>4</td>\n",
       "      <td>3</td>\n",
       "      <td>4</td>\n",
       "    </tr>\n",
       "    <tr>\n",
       "      <td>623</td>\n",
       "      <td>2009-05-21</td>\n",
       "      <td>38</td>\n",
       "      <td>22.51</td>\n",
       "      <td>589</td>\n",
       "      <td>4</td>\n",
       "      <td>20.6475</td>\n",
       "      <td>5</td>\n",
       "      <td>4</td>\n",
       "      <td>3</td>\n",
       "      <td>4</td>\n",
       "    </tr>\n",
       "    <tr>\n",
       "      <td>629</td>\n",
       "      <td>2010-06-07</td>\n",
       "      <td>54</td>\n",
       "      <td>26.56</td>\n",
       "      <td>207</td>\n",
       "      <td>4</td>\n",
       "      <td>19.765</td>\n",
       "      <td>5</td>\n",
       "      <td>4</td>\n",
       "      <td>3</td>\n",
       "      <td>4</td>\n",
       "    </tr>\n",
       "    <tr>\n",
       "      <td>625</td>\n",
       "      <td>2009-07-28</td>\n",
       "      <td>107</td>\n",
       "      <td>13.29</td>\n",
       "      <td>521</td>\n",
       "      <td>4</td>\n",
       "      <td>17.425</td>\n",
       "      <td>5</td>\n",
       "      <td>4</td>\n",
       "      <td>3</td>\n",
       "      <td>4</td>\n",
       "    </tr>\n",
       "    <tr>\n",
       "      <td>621</td>\n",
       "      <td>2009-04-25</td>\n",
       "      <td>52</td>\n",
       "      <td>4.62</td>\n",
       "      <td>615</td>\n",
       "      <td>4</td>\n",
       "      <td>16.6375</td>\n",
       "      <td>5</td>\n",
       "      <td>4</td>\n",
       "      <td>2</td>\n",
       "      <td>3.75</td>\n",
       "    </tr>\n",
       "    <tr>\n",
       "      <td>616</td>\n",
       "      <td>2008-08-09</td>\n",
       "      <td>108</td>\n",
       "      <td>9.50</td>\n",
       "      <td>874</td>\n",
       "      <td>4</td>\n",
       "      <td>22.555</td>\n",
       "      <td>4</td>\n",
       "      <td>4</td>\n",
       "      <td>3</td>\n",
       "      <td>3.75</td>\n",
       "    </tr>\n",
       "    <tr>\n",
       "      <td>617</td>\n",
       "      <td>2008-09-04</td>\n",
       "      <td>72</td>\n",
       "      <td>26.82</td>\n",
       "      <td>848</td>\n",
       "      <td>3</td>\n",
       "      <td>38.07</td>\n",
       "      <td>4</td>\n",
       "      <td>3</td>\n",
       "      <td>5</td>\n",
       "      <td>3.75</td>\n",
       "    </tr>\n",
       "    <tr>\n",
       "      <td>626</td>\n",
       "      <td>2009-08-27</td>\n",
       "      <td>106</td>\n",
       "      <td>3.10</td>\n",
       "      <td>491</td>\n",
       "      <td>4</td>\n",
       "      <td>8.3875</td>\n",
       "      <td>5</td>\n",
       "      <td>4</td>\n",
       "      <td>2</td>\n",
       "      <td>3.75</td>\n",
       "    </tr>\n",
       "  </tbody>\n",
       "</table>\n",
       "</div>"
      ],
      "text/plain": [
       "    Date bought  Customer  Amount  Recency  Frequency Monetary  RecencyScore  \\\n",
       "627  2009-10-21        68   26.14      436          4   18.005             5   \n",
       "628  2009-11-20        40    0.89      406          4    22.14             5   \n",
       "631  2010-09-29       104   11.94       93          4   22.355             5   \n",
       "623  2009-05-21        38   22.51      589          4  20.6475             5   \n",
       "629  2010-06-07        54   26.56      207          4   19.765             5   \n",
       "625  2009-07-28       107   13.29      521          4   17.425             5   \n",
       "621  2009-04-25        52    4.62      615          4  16.6375             5   \n",
       "616  2008-08-09       108    9.50      874          4   22.555             4   \n",
       "617  2008-09-04        72   26.82      848          3    38.07             4   \n",
       "626  2009-08-27       106    3.10      491          4   8.3875             5   \n",
       "\n",
       "     FrequencyScore  MonetaryScore TotalScore  \n",
       "627               4              3          4  \n",
       "628               4              3          4  \n",
       "631               4              3          4  \n",
       "623               4              3          4  \n",
       "629               4              3          4  \n",
       "625               4              3          4  \n",
       "621               4              2       3.75  \n",
       "616               4              3       3.75  \n",
       "617               3              5       3.75  \n",
       "626               4              2       3.75  "
      ]
     },
     "execution_count": 20,
     "metadata": {},
     "output_type": "execute_result"
    }
   ],
   "source": [
    "#Selecting the customers whose total score is equal or greater than 3 as target customer group\n",
    "\n",
    "target1 = rank1[rank1['TotalScore'] >= 3]\n",
    "print(target1.shape)\n",
    "target1.head(10)"
   ]
  },
  {
   "cell_type": "markdown",
   "metadata": {},
   "source": [
    "#### 3.2 - Using total score weights as recency=33.3%, frequency=33.3% and monetary=33.3%"
   ]
  },
  {
   "cell_type": "code",
   "execution_count": 21,
   "metadata": {},
   "outputs": [],
   "source": [
    "trial2 = new_dataset.copy()\n",
    "\n",
    "trial2[\"TotalScore\"] = \"\"\n",
    "\n",
    "for i in range(trial2.shape[0]):\n",
    "    trial2.iloc[i,9] = 0.33*trial2.iloc[i,6] + 0.33*trial2.iloc[i,7] + 0.33*trial2.iloc[i,8]"
   ]
  },
  {
   "cell_type": "code",
   "execution_count": 22,
   "metadata": {},
   "outputs": [
    {
     "data": {
      "text/html": [
       "<div>\n",
       "<style scoped>\n",
       "    .dataframe tbody tr th:only-of-type {\n",
       "        vertical-align: middle;\n",
       "    }\n",
       "\n",
       "    .dataframe tbody tr th {\n",
       "        vertical-align: top;\n",
       "    }\n",
       "\n",
       "    .dataframe thead th {\n",
       "        text-align: right;\n",
       "    }\n",
       "</style>\n",
       "<table border=\"1\" class=\"dataframe\">\n",
       "  <thead>\n",
       "    <tr style=\"text-align: right;\">\n",
       "      <th></th>\n",
       "      <th>Date bought</th>\n",
       "      <th>Customer</th>\n",
       "      <th>Amount</th>\n",
       "      <th>Recency</th>\n",
       "      <th>Frequency</th>\n",
       "      <th>Monetary</th>\n",
       "      <th>RecencyScore</th>\n",
       "      <th>FrequencyScore</th>\n",
       "      <th>MonetaryScore</th>\n",
       "      <th>TotalScore</th>\n",
       "    </tr>\n",
       "  </thead>\n",
       "  <tbody>\n",
       "    <tr>\n",
       "      <td>628</td>\n",
       "      <td>2009-11-20</td>\n",
       "      <td>40</td>\n",
       "      <td>0.89</td>\n",
       "      <td>406</td>\n",
       "      <td>4</td>\n",
       "      <td>22.14</td>\n",
       "      <td>5</td>\n",
       "      <td>4</td>\n",
       "      <td>3</td>\n",
       "      <td>3.96</td>\n",
       "    </tr>\n",
       "    <tr>\n",
       "      <td>631</td>\n",
       "      <td>2010-09-29</td>\n",
       "      <td>104</td>\n",
       "      <td>11.94</td>\n",
       "      <td>93</td>\n",
       "      <td>4</td>\n",
       "      <td>22.355</td>\n",
       "      <td>5</td>\n",
       "      <td>4</td>\n",
       "      <td>3</td>\n",
       "      <td>3.96</td>\n",
       "    </tr>\n",
       "    <tr>\n",
       "      <td>623</td>\n",
       "      <td>2009-05-21</td>\n",
       "      <td>38</td>\n",
       "      <td>22.51</td>\n",
       "      <td>589</td>\n",
       "      <td>4</td>\n",
       "      <td>20.6475</td>\n",
       "      <td>5</td>\n",
       "      <td>4</td>\n",
       "      <td>3</td>\n",
       "      <td>3.96</td>\n",
       "    </tr>\n",
       "    <tr>\n",
       "      <td>617</td>\n",
       "      <td>2008-09-04</td>\n",
       "      <td>72</td>\n",
       "      <td>26.82</td>\n",
       "      <td>848</td>\n",
       "      <td>3</td>\n",
       "      <td>38.07</td>\n",
       "      <td>4</td>\n",
       "      <td>3</td>\n",
       "      <td>5</td>\n",
       "      <td>3.96</td>\n",
       "    </tr>\n",
       "    <tr>\n",
       "      <td>625</td>\n",
       "      <td>2009-07-28</td>\n",
       "      <td>107</td>\n",
       "      <td>13.29</td>\n",
       "      <td>521</td>\n",
       "      <td>4</td>\n",
       "      <td>17.425</td>\n",
       "      <td>5</td>\n",
       "      <td>4</td>\n",
       "      <td>3</td>\n",
       "      <td>3.96</td>\n",
       "    </tr>\n",
       "  </tbody>\n",
       "</table>\n",
       "</div>"
      ],
      "text/plain": [
       "    Date bought  Customer  Amount  Recency  Frequency Monetary  RecencyScore  \\\n",
       "628  2009-11-20        40    0.89      406          4    22.14             5   \n",
       "631  2010-09-29       104   11.94       93          4   22.355             5   \n",
       "623  2009-05-21        38   22.51      589          4  20.6475             5   \n",
       "617  2008-09-04        72   26.82      848          3    38.07             4   \n",
       "625  2009-07-28       107   13.29      521          4   17.425             5   \n",
       "\n",
       "     FrequencyScore  MonetaryScore TotalScore  \n",
       "628               4              3       3.96  \n",
       "631               4              3       3.96  \n",
       "623               4              3       3.96  \n",
       "617               3              5       3.96  \n",
       "625               4              3       3.96  "
      ]
     },
     "execution_count": 22,
     "metadata": {},
     "output_type": "execute_result"
    }
   ],
   "source": [
    "rank2 = trial2.sort_values(['TotalScore'], ascending=False)\n",
    "rank2.head()"
   ]
  },
  {
   "cell_type": "code",
   "execution_count": 23,
   "metadata": {},
   "outputs": [
    {
     "name": "stdout",
     "output_type": "stream",
     "text": [
      "(28, 10)\n"
     ]
    },
    {
     "data": {
      "text/html": [
       "<div>\n",
       "<style scoped>\n",
       "    .dataframe tbody tr th:only-of-type {\n",
       "        vertical-align: middle;\n",
       "    }\n",
       "\n",
       "    .dataframe tbody tr th {\n",
       "        vertical-align: top;\n",
       "    }\n",
       "\n",
       "    .dataframe thead th {\n",
       "        text-align: right;\n",
       "    }\n",
       "</style>\n",
       "<table border=\"1\" class=\"dataframe\">\n",
       "  <thead>\n",
       "    <tr style=\"text-align: right;\">\n",
       "      <th></th>\n",
       "      <th>Date bought</th>\n",
       "      <th>Customer</th>\n",
       "      <th>Amount</th>\n",
       "      <th>Recency</th>\n",
       "      <th>Frequency</th>\n",
       "      <th>Monetary</th>\n",
       "      <th>RecencyScore</th>\n",
       "      <th>FrequencyScore</th>\n",
       "      <th>MonetaryScore</th>\n",
       "      <th>TotalScore</th>\n",
       "    </tr>\n",
       "  </thead>\n",
       "  <tbody>\n",
       "    <tr>\n",
       "      <td>628</td>\n",
       "      <td>2009-11-20</td>\n",
       "      <td>40</td>\n",
       "      <td>0.89</td>\n",
       "      <td>406</td>\n",
       "      <td>4</td>\n",
       "      <td>22.14</td>\n",
       "      <td>5</td>\n",
       "      <td>4</td>\n",
       "      <td>3</td>\n",
       "      <td>3.96</td>\n",
       "    </tr>\n",
       "    <tr>\n",
       "      <td>631</td>\n",
       "      <td>2010-09-29</td>\n",
       "      <td>104</td>\n",
       "      <td>11.94</td>\n",
       "      <td>93</td>\n",
       "      <td>4</td>\n",
       "      <td>22.355</td>\n",
       "      <td>5</td>\n",
       "      <td>4</td>\n",
       "      <td>3</td>\n",
       "      <td>3.96</td>\n",
       "    </tr>\n",
       "    <tr>\n",
       "      <td>623</td>\n",
       "      <td>2009-05-21</td>\n",
       "      <td>38</td>\n",
       "      <td>22.51</td>\n",
       "      <td>589</td>\n",
       "      <td>4</td>\n",
       "      <td>20.6475</td>\n",
       "      <td>5</td>\n",
       "      <td>4</td>\n",
       "      <td>3</td>\n",
       "      <td>3.96</td>\n",
       "    </tr>\n",
       "    <tr>\n",
       "      <td>617</td>\n",
       "      <td>2008-09-04</td>\n",
       "      <td>72</td>\n",
       "      <td>26.82</td>\n",
       "      <td>848</td>\n",
       "      <td>3</td>\n",
       "      <td>38.07</td>\n",
       "      <td>4</td>\n",
       "      <td>3</td>\n",
       "      <td>5</td>\n",
       "      <td>3.96</td>\n",
       "    </tr>\n",
       "    <tr>\n",
       "      <td>625</td>\n",
       "      <td>2009-07-28</td>\n",
       "      <td>107</td>\n",
       "      <td>13.29</td>\n",
       "      <td>521</td>\n",
       "      <td>4</td>\n",
       "      <td>17.425</td>\n",
       "      <td>5</td>\n",
       "      <td>4</td>\n",
       "      <td>3</td>\n",
       "      <td>3.96</td>\n",
       "    </tr>\n",
       "    <tr>\n",
       "      <td>627</td>\n",
       "      <td>2009-10-21</td>\n",
       "      <td>68</td>\n",
       "      <td>26.14</td>\n",
       "      <td>436</td>\n",
       "      <td>4</td>\n",
       "      <td>18.005</td>\n",
       "      <td>5</td>\n",
       "      <td>4</td>\n",
       "      <td>3</td>\n",
       "      <td>3.96</td>\n",
       "    </tr>\n",
       "    <tr>\n",
       "      <td>629</td>\n",
       "      <td>2010-06-07</td>\n",
       "      <td>54</td>\n",
       "      <td>26.56</td>\n",
       "      <td>207</td>\n",
       "      <td>4</td>\n",
       "      <td>19.765</td>\n",
       "      <td>5</td>\n",
       "      <td>4</td>\n",
       "      <td>3</td>\n",
       "      <td>3.96</td>\n",
       "    </tr>\n",
       "    <tr>\n",
       "      <td>626</td>\n",
       "      <td>2009-08-27</td>\n",
       "      <td>106</td>\n",
       "      <td>3.10</td>\n",
       "      <td>491</td>\n",
       "      <td>4</td>\n",
       "      <td>8.3875</td>\n",
       "      <td>5</td>\n",
       "      <td>4</td>\n",
       "      <td>2</td>\n",
       "      <td>3.63</td>\n",
       "    </tr>\n",
       "    <tr>\n",
       "      <td>621</td>\n",
       "      <td>2009-04-25</td>\n",
       "      <td>52</td>\n",
       "      <td>4.62</td>\n",
       "      <td>615</td>\n",
       "      <td>4</td>\n",
       "      <td>16.6375</td>\n",
       "      <td>5</td>\n",
       "      <td>4</td>\n",
       "      <td>2</td>\n",
       "      <td>3.63</td>\n",
       "    </tr>\n",
       "    <tr>\n",
       "      <td>607</td>\n",
       "      <td>2007-08-22</td>\n",
       "      <td>97</td>\n",
       "      <td>28.70</td>\n",
       "      <td>1227</td>\n",
       "      <td>3</td>\n",
       "      <td>26.8033</td>\n",
       "      <td>4</td>\n",
       "      <td>3</td>\n",
       "      <td>4</td>\n",
       "      <td>3.63</td>\n",
       "    </tr>\n",
       "  </tbody>\n",
       "</table>\n",
       "</div>"
      ],
      "text/plain": [
       "    Date bought  Customer  Amount  Recency  Frequency Monetary  RecencyScore  \\\n",
       "628  2009-11-20        40    0.89      406          4    22.14             5   \n",
       "631  2010-09-29       104   11.94       93          4   22.355             5   \n",
       "623  2009-05-21        38   22.51      589          4  20.6475             5   \n",
       "617  2008-09-04        72   26.82      848          3    38.07             4   \n",
       "625  2009-07-28       107   13.29      521          4   17.425             5   \n",
       "627  2009-10-21        68   26.14      436          4   18.005             5   \n",
       "629  2010-06-07        54   26.56      207          4   19.765             5   \n",
       "626  2009-08-27       106    3.10      491          4   8.3875             5   \n",
       "621  2009-04-25        52    4.62      615          4  16.6375             5   \n",
       "607  2007-08-22        97   28.70     1227          3  26.8033             4   \n",
       "\n",
       "     FrequencyScore  MonetaryScore TotalScore  \n",
       "628               4              3       3.96  \n",
       "631               4              3       3.96  \n",
       "623               4              3       3.96  \n",
       "617               3              5       3.96  \n",
       "625               4              3       3.96  \n",
       "627               4              3       3.96  \n",
       "629               4              3       3.96  \n",
       "626               4              2       3.63  \n",
       "621               4              2       3.63  \n",
       "607               3              4       3.63  "
      ]
     },
     "execution_count": 23,
     "metadata": {},
     "output_type": "execute_result"
    }
   ],
   "source": [
    "#Selecting the customers whose total score is equal or greater than 3 as target customer group\n",
    "\n",
    "target2 = rank2[rank2['TotalScore'] >= 3]\n",
    "print(target2.shape)\n",
    "target2.head(10)"
   ]
  },
  {
   "cell_type": "markdown",
   "metadata": {},
   "source": [
    "# 4 - Summary"
   ]
  },
  {
   "cell_type": "markdown",
   "metadata": {},
   "source": [
    "\n",
    "**Summary of Modelling Steps**\n",
    "\n",
    "- The \"Bought\" attribute was removed from the dataset because it contains the bought car brand and is not important for RFM analysis. \n",
    "\n",
    "- All the unique customers' recency, frequency and average monetary values were calculated and added to the end of the dataset.\n",
    "\n",
    "- In the second stage; bucketing of the recency, frequency and average monetary values were done.\n",
    "\n",
    "    - Recency and monetary columns were perfectly distributed, their shape was like bell-shaped. So that, they were bucketed evenly by dividing 5 equal intervals.\n",
    "    \n",
    "    - However, frequency column has values from 1 to 4 and so there was no need for bucketing. The frequency values assigned as scoring.\n",
    "\n",
    "- In the third stage; calculation of the total scores of each customer were done with different weights.\n",
    "\n",
    "    - For the first calculation; recency, frequency and monetary took weights like 25%, 50% and 25% respectively.\n",
    "    \n",
    "    - For the second calculation; they are all took equal weights, 33.3%.\n",
    "    \n",
    "     \n",
    "\n",
    "**Interpretation of Results**\n",
    "\n",
    "- Using different weights for recency, frequency and monetary does not change significantly the top10 customer ranking. There is only 1 difference between the top10 rankings of 25-50-25% weighing and 33.3-33.3-33.3% weighing.\n",
    "\n",
    "- It seems weighing does not have a huge effect on the ranking of the customers. \n",
    "\n",
    "\n"
   ]
  },
  {
   "cell_type": "code",
   "execution_count": null,
   "metadata": {},
   "outputs": [],
   "source": []
  },
  {
   "cell_type": "code",
   "execution_count": null,
   "metadata": {},
   "outputs": [],
   "source": []
  }
 ],
 "metadata": {
  "kernelspec": {
   "display_name": "Python 3",
   "language": "python",
   "name": "python3"
  },
  "language_info": {
   "codemirror_mode": {
    "name": "ipython",
    "version": 3
   },
   "file_extension": ".py",
   "mimetype": "text/x-python",
   "name": "python",
   "nbconvert_exporter": "python",
   "pygments_lexer": "ipython3",
   "version": "3.7.4"
  }
 },
 "nbformat": 4,
 "nbformat_minor": 2
}
