{
 "cells": [
  {
   "cell_type": "code",
   "execution_count": 1,
   "metadata": {},
   "outputs": [],
   "source": [
    "import numpy as np\n",
    "import pandas as pd\n",
    "import matplotlib.pyplot as plt\n",
    "import seaborn as sns\n",
    "import scipy.stats as stats\n",
    "import time\n",
    "from sklearn.model_selection import train_test_split\n",
    "from sklearn.linear_model import LogisticRegression\n",
    "from sklearn import tree\n",
    "from sklearn.ensemble import RandomForestClassifier\n",
    "from sklearn.neighbors import KNeighborsClassifier"
   ]
  },
  {
   "cell_type": "markdown",
   "metadata": {},
   "source": [
    "# DATA EXPLORATION AND PREPROCESSING"
   ]
  },
  {
   "cell_type": "code",
   "execution_count": 2,
   "metadata": {},
   "outputs": [],
   "source": [
    "#Loading the Dataset\n",
    "zomato = pd.read_csv(\"C:/Users/Kemal/Desktop/zomato.csv\")"
   ]
  },
  {
   "cell_type": "code",
   "execution_count": 3,
   "metadata": {},
   "outputs": [
    {
     "data": {
      "text/plain": [
       "(51717, 17)"
      ]
     },
     "execution_count": 3,
     "metadata": {},
     "output_type": "execute_result"
    }
   ],
   "source": [
    "#The Dataset's shape\n",
    "zomato.shape"
   ]
  },
  {
   "cell_type": "code",
   "execution_count": 4,
   "metadata": {
    "scrolled": true
   },
   "outputs": [
    {
     "data": {
      "text/plain": [
       "Index(['url', 'address', 'name', 'online_order', 'book_table', 'rate', 'votes',\n",
       "       'phone', 'location', 'rest_type', 'dish_liked', 'cuisines',\n",
       "       'approx_cost(for two people)', 'reviews_list', 'menu_item',\n",
       "       'listed_in(type)', 'listed_in(city)'],\n",
       "      dtype='object')"
      ]
     },
     "execution_count": 4,
     "metadata": {},
     "output_type": "execute_result"
    }
   ],
   "source": [
    "#Columns of the Dataset\n",
    "zomato.columns"
   ]
  },
  {
   "cell_type": "markdown",
   "metadata": {},
   "source": [
    "   ###   Descriptions of column labels;\n",
    "   - url: contains the url of the restaurant in the zomato website\n",
    "   - address: contains the address of the restaurant in Bengaluru\n",
    "   - name: contains the name of the restaurant\n",
    "   - online_order: whether online ordering is available in the restaurant or not\n",
    "   - book_table: table book option available or not\n",
    "   - rate: contains the overall rating of the restaurant out of 5\n",
    "   - votes: contains total number of rating for the restaurant\n",
    "   - phone: contains the phone number of the restaurant\n",
    "   - location: contains the neighborhood in which the restaurant is located\n",
    "   - rest_type: type of the restaurant\n",
    "   - dish_liked: dishes people liked in the restaurant\n",
    "   - cuisines: food styles, separated by comma\n",
    "   - approx_cost(for two people): contains approximate meal cost for two people\n",
    "   - reviews_list: list of tuples containing reviews for the restaurant\n",
    "   - menu_item: contains list of menus available in the restaurant\n",
    "   - listed_in(type): type of meal\n",
    "   - listed_in(city): contains city in which the restaurant is located\n",
    "\n",
    "\n",
    "\n"
   ]
  },
  {
   "cell_type": "code",
   "execution_count": 5,
   "metadata": {},
   "outputs": [],
   "source": [
    "#Changing some columns' names\n",
    "zomato = zomato.rename(columns={\"approx_cost(for two people)\":\"approx_cost\",\"listed_in(type)\":\"meals\",\"listed_in(city)\":\"city\"})"
   ]
  },
  {
   "cell_type": "code",
   "execution_count": 6,
   "metadata": {},
   "outputs": [],
   "source": [
    "#Cleaning redundant columns; \"url\",\"address\" and \"phone\" - keeping \"location\" column for address information\n",
    "zomato = zomato.drop(['url','address','phone'], axis=1)\n",
    "#\"location\" and \"city\" columns contain same information but \"location\" has wider range so drop the \"city\" column\n",
    "zomato = zomato.drop(['city'], axis=1) "
   ]
  },
  {
   "cell_type": "code",
   "execution_count": 7,
   "metadata": {},
   "outputs": [
    {
     "data": {
      "text/plain": [
       "name            object\n",
       "online_order    object\n",
       "book_table      object\n",
       "rate            object\n",
       "votes            int64\n",
       "location        object\n",
       "rest_type       object\n",
       "dish_liked      object\n",
       "cuisines        object\n",
       "approx_cost     object\n",
       "reviews_list    object\n",
       "menu_item       object\n",
       "meals           object\n",
       "dtype: object"
      ]
     },
     "execution_count": 7,
     "metadata": {},
     "output_type": "execute_result"
    }
   ],
   "source": [
    "#Datatypes of attributes\n",
    "zomato.dtypes"
   ]
  },
  {
   "cell_type": "code",
   "execution_count": 8,
   "metadata": {},
   "outputs": [],
   "source": [
    "#Changing datatype of \"approx_cost\" column from object to float\n",
    "zomato['approx_cost'] = zomato['approx_cost'].astype(str).apply(lambda x: x.replace(',',''))\n",
    "zomato['approx_cost'] = zomato['approx_cost'].astype(float)"
   ]
  },
  {
   "cell_type": "code",
   "execution_count": 9,
   "metadata": {},
   "outputs": [],
   "source": [
    "#For \"rate\" column: drop \"/5\" part - change datatype from object to float - fix noisy entries\n",
    "zomato['rate'] = zomato['rate'].astype(str).apply(lambda x: x.split('/')[0])\n",
    "while True:\n",
    "    try:\n",
    "        zomato['rate'] = zomato['rate'].astype(float)\n",
    "        break\n",
    "    except ValueError as e1:\n",
    "        noise_entry = str(e1).split(\":\")[-1].strip().replace(\"'\", \"\")\n",
    "        zomato['rate'] = zomato['rate'].apply(lambda x: x.replace(noise_entry, str(np.nan)))"
   ]
  },
  {
   "cell_type": "code",
   "execution_count": 10,
   "metadata": {},
   "outputs": [],
   "source": [
    "# Correcting the noisy restaurant name entries\n",
    "zomato['name'] = zomato['name'].apply(lambda x: 'Santa Spa Cuisine' if x == 'SantÃ\\x83Â\\x83Ã\\x82Â\\x83Ã\\x83Â\\x82Ã\\x82Â\\x83Ã\\x83Â\\x83Ã\\x82Â\\x82Ã\\x83Â\\x82Ã\\x82Â\\x83Ã\\x83Â\\x83Ã\\x82Â\\x83Ã\\x83Â\\x82Ã\\x82Â\\x82Ã\\x83Â\\x83Ã\\x82Â\\x82Ã\\x83Â\\x82Ã\\x82Â© Spa Cuisine' else x)\n",
    "\n",
    "zomato['name'] = zomato['name'].apply(lambda x: 'Cafe Down The Alley' if x == 'CafÃ\\x83Â\\x83Ã\\x82Â\\x83Ã\\x83Â\\x82Ã\\x82Â\\x83Ã\\x83Â\\x83Ã\\x82Â\\x82Ã\\x83Â\\x82Ã\\x82Â© Down The Alley' else x)\n",
    "\n",
    "zomato['name'] = zomato['name'].apply(lambda x: 'Cafe Shangri-La Hotel' if x == 'b CafÃƒÂƒÃ‚ÂƒÃƒÂ‚Ã‚ÂƒÃƒÂƒÃ‚Â‚ÃƒÂ‚Ã‚ÂƒÃƒÂƒÃ‚ÂƒÃƒÂ‚Ã‚Â‚ÃƒÂƒÃ‚Â‚ÃƒÂ‚Ã‚Â© - Shangri-La Hotel' else x)"
   ]
  },
  {
   "cell_type": "code",
   "execution_count": 11,
   "metadata": {},
   "outputs": [
    {
     "data": {
      "text/html": [
       "<div>\n",
       "<style scoped>\n",
       "    .dataframe tbody tr th:only-of-type {\n",
       "        vertical-align: middle;\n",
       "    }\n",
       "\n",
       "    .dataframe tbody tr th {\n",
       "        vertical-align: top;\n",
       "    }\n",
       "\n",
       "    .dataframe thead th {\n",
       "        text-align: right;\n",
       "    }\n",
       "</style>\n",
       "<table border=\"1\" class=\"dataframe\">\n",
       "  <thead>\n",
       "    <tr style=\"text-align: right;\">\n",
       "      <th></th>\n",
       "      <th># of missing values</th>\n",
       "      <th>% of missing part</th>\n",
       "    </tr>\n",
       "  </thead>\n",
       "  <tbody>\n",
       "    <tr>\n",
       "      <th>dish_liked</th>\n",
       "      <td>28078</td>\n",
       "      <td>54.291626</td>\n",
       "    </tr>\n",
       "    <tr>\n",
       "      <th>rate</th>\n",
       "      <td>10052</td>\n",
       "      <td>19.436549</td>\n",
       "    </tr>\n",
       "    <tr>\n",
       "      <th>approx_cost</th>\n",
       "      <td>346</td>\n",
       "      <td>0.669026</td>\n",
       "    </tr>\n",
       "    <tr>\n",
       "      <th>rest_type</th>\n",
       "      <td>227</td>\n",
       "      <td>0.438927</td>\n",
       "    </tr>\n",
       "    <tr>\n",
       "      <th>cuisines</th>\n",
       "      <td>45</td>\n",
       "      <td>0.087012</td>\n",
       "    </tr>\n",
       "    <tr>\n",
       "      <th>location</th>\n",
       "      <td>21</td>\n",
       "      <td>0.040606</td>\n",
       "    </tr>\n",
       "    <tr>\n",
       "      <th>meals</th>\n",
       "      <td>0</td>\n",
       "      <td>0.000000</td>\n",
       "    </tr>\n",
       "    <tr>\n",
       "      <th>menu_item</th>\n",
       "      <td>0</td>\n",
       "      <td>0.000000</td>\n",
       "    </tr>\n",
       "    <tr>\n",
       "      <th>reviews_list</th>\n",
       "      <td>0</td>\n",
       "      <td>0.000000</td>\n",
       "    </tr>\n",
       "    <tr>\n",
       "      <th>votes</th>\n",
       "      <td>0</td>\n",
       "      <td>0.000000</td>\n",
       "    </tr>\n",
       "    <tr>\n",
       "      <th>book_table</th>\n",
       "      <td>0</td>\n",
       "      <td>0.000000</td>\n",
       "    </tr>\n",
       "    <tr>\n",
       "      <th>online_order</th>\n",
       "      <td>0</td>\n",
       "      <td>0.000000</td>\n",
       "    </tr>\n",
       "    <tr>\n",
       "      <th>name</th>\n",
       "      <td>0</td>\n",
       "      <td>0.000000</td>\n",
       "    </tr>\n",
       "  </tbody>\n",
       "</table>\n",
       "</div>"
      ],
      "text/plain": [
       "              # of missing values  % of missing part\n",
       "dish_liked                  28078          54.291626\n",
       "rate                        10052          19.436549\n",
       "approx_cost                   346           0.669026\n",
       "rest_type                     227           0.438927\n",
       "cuisines                       45           0.087012\n",
       "location                       21           0.040606\n",
       "meals                           0           0.000000\n",
       "menu_item                       0           0.000000\n",
       "reviews_list                    0           0.000000\n",
       "votes                           0           0.000000\n",
       "book_table                      0           0.000000\n",
       "online_order                    0           0.000000\n",
       "name                            0           0.000000"
      ]
     },
     "execution_count": 11,
     "metadata": {},
     "output_type": "execute_result"
    }
   ],
   "source": [
    "#Missing value search\n",
    "number_of_missing_data = (zomato.isnull().sum()).sort_values(ascending=False)\n",
    "number_of_missing_data = pd.DataFrame(number_of_missing_data, columns=['# of missing values'])                                                                    \n",
    "percentage_of_missing_data = (zomato.isnull().sum()/zomato.shape[0]*100).sort_values(ascending=False)\n",
    "percentage_of_missing_data = pd.DataFrame(percentage_of_missing_data, columns=['% of missing part'])\n",
    "missing = pd.concat([number_of_missing_data,percentage_of_missing_data], axis=1) \n",
    "\n",
    "missing\n",
    "       "
   ]
  },
  {
   "cell_type": "code",
   "execution_count": 12,
   "metadata": {},
   "outputs": [],
   "source": [
    "zomato = zomato.drop(['dish_liked'], axis=1) #dish_liked attribute has too many missing value so drop it"
   ]
  },
  {
   "cell_type": "code",
   "execution_count": 13,
   "metadata": {},
   "outputs": [],
   "source": [
    "#Remove missing value containing rows - Remaining part = 41.263 rows\n",
    "zomato = zomato.dropna(how='any')\n",
    "zomato = zomato.reset_index(drop=True)"
   ]
  },
  {
   "cell_type": "code",
   "execution_count": 14,
   "metadata": {},
   "outputs": [
    {
     "data": {
      "text/plain": [
       "False    34322\n",
       "True      6941\n",
       "dtype: int64"
      ]
     },
     "execution_count": 14,
     "metadata": {},
     "output_type": "execute_result"
    }
   ],
   "source": [
    "#Search for duplicated rows\n",
    "zomato.duplicated().value_counts()"
   ]
  },
  {
   "cell_type": "code",
   "execution_count": 15,
   "metadata": {},
   "outputs": [],
   "source": [
    "#Remove duplicated rows - Remaining part = 34.322 rows\n",
    "zomato = zomato.drop_duplicates()"
   ]
  },
  {
   "cell_type": "code",
   "execution_count": 16,
   "metadata": {},
   "outputs": [],
   "source": [
    "#Removo rows whose number of votes is smaller than 50, because rate data of restaurants change by 0.1 interval\n",
    "#Adding 1 more vote to a restaurant whose vote number is smaller than 50 may cause more than 0.1 difference on average rate\n",
    "#Having more than 50 votes guarantees that the restaurants average rate will not change more than 0.1 by adding 1 more vote\n",
    "#It means that restaurant's rate is settled and reliable \n",
    "#Remaining part = 21.719 rows\n",
    "zomato = zomato[zomato.votes > 49]\n",
    "zomato = zomato.reset_index(drop=True)"
   ]
  },
  {
   "cell_type": "markdown",
   "metadata": {},
   "source": [
    "## DATA VISUALIZATION AND FEATURE SELECTION"
   ]
  },
  {
   "cell_type": "markdown",
   "metadata": {},
   "source": [
    "### Top 5 restaurants for different features  "
   ]
  },
  {
   "cell_type": "code",
   "execution_count": 17,
   "metadata": {},
   "outputs": [
    {
     "data": {
      "image/png": "[encoded data removed]",
      "text/plain": [
       "<Figure size 432x288 with 1 Axes>"
      ]
     },
     "metadata": {
      "needs_background": "light"
     },
     "output_type": "display_data"
    }
   ],
   "source": [
    "rest_names = (zomato.groupby(by='name', as_index=False).agg({'votes': 'sum','approx_cost': 'mean','rate': 'mean'})).sort_values([\"votes\"], ascending=False)\n",
    "\n",
    "fig, ax=plt.subplots()\n",
    "sns.barplot(x='name' , y='rate' , palette='Blues_r' , data=rest_names.sort_values(by='rate' , ascending=False).head(5)).set_title('Top 5 Highest Rated Restaurants', size=12)\n",
    "avg = zomato.rate.mean()\n",
    "ax.text(2, 5, 'Average rate:3.9', fontsize=8, ha='center')\n",
    "plt.xticks(rotation=90)\n",
    "ax.set_xlabel('')\n",
    "ax.set_ylabel('Rate')\n",
    "ax.spines['top'].set_visible(False)\n",
    "ax.spines['right'].set_visible(False)"
   ]
  },
  {
   "cell_type": "code",
   "execution_count": 18,
   "metadata": {},
   "outputs": [
    {
     "data": {
      "image/png": "[encoded data removed]",
      "text/plain": [
       "<Figure size 432x288 with 1 Axes>"
      ]
     },
     "metadata": {
      "needs_background": "light"
     },
     "output_type": "display_data"
    }
   ],
   "source": [
    "fig, ax2=plt.subplots()\n",
    "sns.barplot(x='name' , y='approx_cost' , palette='Blues_r' , data=rest_names.sort_values(by='approx_cost' , ascending=False).head(5)).set_title('Top 5 High-Cost Restaurants', size=12)\n",
    "avg2 = zomato.approx_cost.mean()\n",
    "ax2.text(1.9, 6100, 'Average cost:775.3', fontsize=8, ha='center')\n",
    "plt.xticks(rotation=90)\n",
    "ax2.set_xlabel('')\n",
    "ax2.set_ylabel('Average Cost')\n",
    "ax2.spines['top'].set_visible(False)\n",
    "ax2.spines['right'].set_visible(False)"
   ]
  },
  {
   "cell_type": "code",
   "execution_count": 19,
   "metadata": {},
   "outputs": [
    {
     "data": {
      "image/png": "[encoded data removed]",
      "text/plain": [
       "<Figure size 432x288 with 1 Axes>"
      ]
     },
     "metadata": {
      "needs_background": "light"
     },
     "output_type": "display_data"
    }
   ],
   "source": [
    "fig, ax3=plt.subplots()\n",
    "sns.barplot(x='name' , y='votes' , palette='Blues_r' , data=rest_names.sort_values(by='votes' , ascending=False).head(5)).set_title('Top 5 High-Voted Restaurants', size=12)\n",
    "avg3 = zomato.votes.mean()\n",
    "ax3.text(1.9, 355000, 'Average votes:679.5', fontsize=8, ha='center')\n",
    "plt.xticks(rotation=90)\n",
    "ax3.set_xlabel('')\n",
    "ax3.set_ylabel('Total Votes')\n",
    "ax3.spines['top'].set_visible(False)\n",
    "ax3.spines['right'].set_visible(False)"
   ]
  },
  {
   "cell_type": "markdown",
   "metadata": {},
   "source": [
    "### Top 20 locations for different features "
   ]
  },
  {
   "cell_type": "code",
   "execution_count": 20,
   "metadata": {},
   "outputs": [],
   "source": [
    "rest_locs = (zomato.groupby(by='location', as_index=False).agg({'name':'count','votes': 'sum','approx_cost': 'mean','rate': 'mean'})).sort_values([\"votes\"], ascending=False)"
   ]
  },
  {
   "cell_type": "code",
   "execution_count": 21,
   "metadata": {},
   "outputs": [
    {
     "data": {
      "image/png": "[encoded data removed]",
      "text/plain": [
       "<Figure size 432x288 with 1 Axes>"
      ]
     },
     "metadata": {
      "needs_background": "light"
     },
     "output_type": "display_data"
    }
   ],
   "source": [
    "fig, ax=plt.subplots()\n",
    "sns.barplot(x='location' , y='rate' , palette='Blues_r' , data=rest_locs.sort_values(by='rate' , ascending=False).head(20)).set_title('Top 20 High-Rated Locations', size=12)\n",
    "avg = zomato.rate.mean()\n",
    "ax.text(9.3, 4.3, 'Average rate:3.9', fontsize=8, ha='center')\n",
    "plt.xticks(rotation=90)\n",
    "ax.set_xlabel('')\n",
    "ax.set_ylabel('Rate')\n",
    "ax.spines['top'].set_visible(False)\n",
    "ax.spines['right'].set_visible(False)"
   ]
  },
  {
   "cell_type": "code",
   "execution_count": 22,
   "metadata": {},
   "outputs": [
    {
     "data": {
      "image/png": "[encoded data removed]",
      "text/plain": [
       "<Figure size 432x288 with 1 Axes>"
      ]
     },
     "metadata": {
      "needs_background": "light"
     },
     "output_type": "display_data"
    }
   ],
   "source": [
    "fig, ax2=plt.subplots()\n",
    "sns.barplot(x='location' , y='approx_cost' , palette='Blues_r' , data=rest_locs.sort_values(by='approx_cost' , ascending=False).head(20)).set_title('Top 20 High-Cost Locations', size=12)\n",
    "avg2 = zomato.approx_cost.mean()\n",
    "ax2.text(9.4, 2800, 'Average cost:775.3', fontsize=8, ha='center')\n",
    "plt.xticks(rotation=90)\n",
    "ax2.set_xlabel('')\n",
    "ax2.set_ylabel('Average Cost')\n",
    "ax2.spines['top'].set_visible(False)\n",
    "ax2.spines['right'].set_visible(False)"
   ]
  },
  {
   "cell_type": "code",
   "execution_count": 23,
   "metadata": {},
   "outputs": [
    {
     "data": {
      "image/png": "[encoded data removed]",
      "text/plain": [
       "<Figure size 432x288 with 1 Axes>"
      ]
     },
     "metadata": {
      "needs_background": "light"
     },
     "output_type": "display_data"
    }
   ],
   "source": [
    "fig, ax3=plt.subplots()\n",
    "sns.barplot(x='location' , y='votes' , palette='Blues_r' , data=rest_locs.sort_values(by='votes' , ascending=False).head(20)).set_title('Top 20 High-Voted Locations', size=12)\n",
    "avg3 = zomato.votes.mean()\n",
    "ax3.text(9.9, 2200000, 'Average votes:679.5', fontsize=8, ha='center')\n",
    "plt.xticks(rotation=90)\n",
    "ax3.set_xlabel('')\n",
    "ax3.set_ylabel('Total Votes')\n",
    "ax3.spines['top'].set_visible(False)\n",
    "ax3.spines['right'].set_visible(False)"
   ]
  },
  {
   "cell_type": "code",
   "execution_count": 24,
   "metadata": {},
   "outputs": [
    {
     "data": {
      "image/png": "[encoded data removed]",
      "text/plain": [
       "<Figure size 432x288 with 1 Axes>"
      ]
     },
     "metadata": {
      "needs_background": "light"
     },
     "output_type": "display_data"
    }
   ],
   "source": [
    "fig, ax4=plt.subplots()\n",
    "sns.barplot(x='location' , y='name' , palette='Blues_r' , data=rest_locs.sort_values(by='name' , ascending=False).head(20)).set_title('Top 20 High-Number of Restaurants Locations', size=12)\n",
    "avg4 = rest_locs.name.mean()\n",
    "ax4.text(9, 1600, 'Average number:226', fontsize=8, ha='center')\n",
    "plt.xticks(rotation=90)\n",
    "ax4.set_xlabel('')\n",
    "ax4.set_ylabel('Total Number')\n",
    "ax4.spines['top'].set_visible(False)\n",
    "ax4.spines['right'].set_visible(False)"
   ]
  },
  {
   "cell_type": "markdown",
   "metadata": {},
   "source": [
    "### Correlation search between numerical attributes and rate "
   ]
  },
  {
   "cell_type": "code",
   "execution_count": 25,
   "metadata": {
    "scrolled": true
   },
   "outputs": [
    {
     "name": "stdout",
     "output_type": "stream",
     "text": [
      "Pearson Correlation and p-value between approx cost and rate is: (0.33536373234734884, 0.0)\n",
      "Pearson Correlation and p-values between votes and rate is: (0.3905445957997734, 0.0)\n"
     ]
    },
    {
     "data": {
      "image/png": "[encoded data removed]",
      "text/plain": [
       "<Figure size 432x288 with 2 Axes>"
      ]
     },
     "metadata": {
      "needs_background": "light"
     },
     "output_type": "display_data"
    }
   ],
   "source": [
    "pearson1 = stats.pearsonr(zomato.loc[:,'approx_cost'] , zomato.loc[:,'rate'])\n",
    "print(\"Pearson Correlation and p-value between approx cost and rate is:\", pearson1)\n",
    "pearson2 = stats.pearsonr(zomato.loc[:,'votes'] , zomato.loc[:,'rate'])\n",
    "print(\"Pearson Correlation and p-values between votes and rate is:\", pearson2)\n",
    "\n",
    "sns.heatmap(zomato.corr()).set_title=('Heatmap graph of correlations')\n",
    "\n",
    "#Both \"approx_cost\" and \"votes\" attributes have correlation with \"rate\" but \"votes\" attribute has higher correlation"
   ]
  },
  {
   "cell_type": "code",
   "execution_count": 26,
   "metadata": {},
   "outputs": [
    {
     "name": "stdout",
     "output_type": "stream",
     "text": [
      "SpearmanrResult(correlation=0.3931536426725067, pvalue=0.0)\n",
      "SpearmanrResult(correlation=0.5848033717445892, pvalue=0.0)\n"
     ]
    },
    {
     "data": {
      "image/png": "[encoded data removed]",
      "text/plain": [
       "<Figure size 432x288 with 2 Axes>"
      ]
     },
     "metadata": {
      "needs_background": "light"
     },
     "output_type": "display_data"
    }
   ],
   "source": [
    "spearman1 = stats.spearmanr(zomato.loc[:,'approx_cost'] , zomato.loc[:,'rate'])\n",
    "print(spearman1)\n",
    "spearman2 = stats.spearmanr(zomato.loc[:,'votes'] , zomato.loc[:,'rate'])\n",
    "print(spearman2)\n",
    "\n",
    "sns.heatmap(zomato.corr()).set_title=('Heatmap graph of correlations')\n",
    "\n",
    "#Both \"approx_cost\" and \"votes\" attributes have correlation with \"rate\" but \"votes\" attribute has higher correlation"
   ]
  },
  {
   "cell_type": "markdown",
   "metadata": {},
   "source": [
    "### Correlation search between categorical attributes and rate "
   ]
  },
  {
   "cell_type": "code",
   "execution_count": 27,
   "metadata": {},
   "outputs": [
    {
     "data": {
      "text/html": [
       "<div>\n",
       "<style scoped>\n",
       "    .dataframe tbody tr th:only-of-type {\n",
       "        vertical-align: middle;\n",
       "    }\n",
       "\n",
       "    .dataframe tbody tr th {\n",
       "        vertical-align: top;\n",
       "    }\n",
       "\n",
       "    .dataframe thead th {\n",
       "        text-align: right;\n",
       "    }\n",
       "</style>\n",
       "<table border=\"1\" class=\"dataframe\">\n",
       "  <thead>\n",
       "    <tr style=\"text-align: right;\">\n",
       "      <th></th>\n",
       "      <th>Attributes</th>\n",
       "      <th>Spearman Corr.</th>\n",
       "      <th>P-Values</th>\n",
       "    </tr>\n",
       "  </thead>\n",
       "  <tbody>\n",
       "    <tr>\n",
       "      <th>0</th>\n",
       "      <td>book_table</td>\n",
       "      <td>0.430038</td>\n",
       "      <td>0.000000e+00</td>\n",
       "    </tr>\n",
       "    <tr>\n",
       "      <th>1</th>\n",
       "      <td>reviews_list</td>\n",
       "      <td>0.313205</td>\n",
       "      <td>0.000000e+00</td>\n",
       "    </tr>\n",
       "    <tr>\n",
       "      <th>2</th>\n",
       "      <td>rest_type</td>\n",
       "      <td>0.198820</td>\n",
       "      <td>1.730277e-192</td>\n",
       "    </tr>\n",
       "    <tr>\n",
       "      <th>3</th>\n",
       "      <td>location</td>\n",
       "      <td>0.142052</td>\n",
       "      <td>2.802629e-98</td>\n",
       "    </tr>\n",
       "    <tr>\n",
       "      <th>4</th>\n",
       "      <td>online_order</td>\n",
       "      <td>0.122848</td>\n",
       "      <td>8.538578e-74</td>\n",
       "    </tr>\n",
       "    <tr>\n",
       "      <th>5</th>\n",
       "      <td>cuisines</td>\n",
       "      <td>0.107415</td>\n",
       "      <td>9.408429e-57</td>\n",
       "    </tr>\n",
       "    <tr>\n",
       "      <th>6</th>\n",
       "      <td>meals</td>\n",
       "      <td>0.060273</td>\n",
       "      <td>6.100152e-19</td>\n",
       "    </tr>\n",
       "    <tr>\n",
       "      <th>7</th>\n",
       "      <td>menu_item</td>\n",
       "      <td>0.048109</td>\n",
       "      <td>1.306226e-12</td>\n",
       "    </tr>\n",
       "    <tr>\n",
       "      <th>8</th>\n",
       "      <td>name</td>\n",
       "      <td>0.018620</td>\n",
       "      <td>6.066922e-03</td>\n",
       "    </tr>\n",
       "  </tbody>\n",
       "</table>\n",
       "</div>"
      ],
      "text/plain": [
       "     Attributes  Spearman Corr.       P-Values\n",
       "0    book_table        0.430038   0.000000e+00\n",
       "1  reviews_list        0.313205   0.000000e+00\n",
       "2     rest_type        0.198820  1.730277e-192\n",
       "3      location        0.142052   2.802629e-98\n",
       "4  online_order        0.122848   8.538578e-74\n",
       "5      cuisines        0.107415   9.408429e-57\n",
       "6         meals        0.060273   6.100152e-19\n",
       "7     menu_item        0.048109   1.306226e-12\n",
       "8          name        0.018620   6.066922e-03"
      ]
     },
     "execution_count": 27,
     "metadata": {},
     "output_type": "execute_result"
    }
   ],
   "source": [
    "zomato_cat = zomato.select_dtypes(include=object)\n",
    "\n",
    "attributes = []\n",
    "cor_values = []\n",
    "p_values = []\n",
    "\n",
    "for i in range(len(zomato_cat.columns)):\n",
    "    attributes.append(zomato_cat.columns[i])\n",
    "    cor_val, p_val = stats.spearmanr(zomato_cat.iloc[:,i], zomato.loc[:,'rate'])\n",
    "    cor_values.append(cor_val)\n",
    "    p_values.append(p_val)\n",
    "\n",
    "df1 = pd.DataFrame(attributes, columns = [\"Attributes\"])\n",
    "df2 = pd.DataFrame(cor_values, columns = [\"Spearman Corr.\"])\n",
    "df3 = pd.DataFrame(p_values, columns = [\"P-Values\"])\n",
    "\n",
    "df2 = df2.abs()\n",
    "\n",
    "df  = pd.concat([df1,df2,df3], axis=1)\n",
    "df  = df.sort_values([\"Spearman Corr.\"], ascending = False)\n",
    "df  = df.reset_index(drop=True)\n",
    "\n",
    "df\n",
    "\n",
    "#Most correlated attribute is 'book_table' and all attributes have meaningful correlation score so use all of them for modelling"
   ]
  },
  {
   "cell_type": "code",
   "execution_count": 28,
   "metadata": {
    "scrolled": true
   },
   "outputs": [
    {
     "data": {
      "text/plain": [
       "<AxesSubplot:xlabel='book_table', ylabel='rate'>"
      ]
     },
     "execution_count": 28,
     "metadata": {},
     "output_type": "execute_result"
    },
    {
     "data": {
      "image/png": "[encoded data removed]",
      "text/plain": [
       "<Figure size 432x288 with 1 Axes>"
      ]
     },
     "metadata": {
      "needs_background": "light"
     },
     "output_type": "display_data"
    }
   ],
   "source": [
    "sns.boxplot(y=\"rate\", x=\"book_table\", data= zomato)"
   ]
  },
  {
   "cell_type": "markdown",
   "metadata": {},
   "source": [
    "# DATA MODELLING AND PREDICTION"
   ]
  },
  {
   "cell_type": "markdown",
   "metadata": {},
   "source": [
    "### Preperation of dataset for modelling and assigning success score"
   ]
  },
  {
   "cell_type": "code",
   "execution_count": 29,
   "metadata": {},
   "outputs": [],
   "source": [
    "#Generate a new \"success\" column and assign each restaurant's score: 1 for success 0 for fail\n",
    "\n",
    "zomato[\"success\"] = \"\"\n",
    "\n",
    "for i in range(zomato.shape[0]):\n",
    "    for j in range (rest_locs.shape[0]):\n",
    "        if zomato.loc[i,\"location\"] == rest_locs.loc[j,\"location\"]:\n",
    "            if zomato.loc[i,\"rate\"] >= rest_locs.loc[j,\"rate\"]:\n",
    "                zomato.loc[i,\"success\"] = 1\n",
    "            else:\n",
    "                zomato.loc[i,\"success\"] = 0\n",
    "                \n",
    "#If a restaurant's average rate is greater or equal to the average rate of restaurants at its location; It is counted as successful else failed"
   ]
  },
  {
   "cell_type": "code",
   "execution_count": 30,
   "metadata": {},
   "outputs": [],
   "source": [
    "zomato['success'] = zomato['success'].astype('int')"
   ]
  },
  {
   "cell_type": "markdown",
   "metadata": {},
   "source": [
    "### Get dummies of categorical attributes"
   ]
  },
  {
   "cell_type": "code",
   "execution_count": 31,
   "metadata": {},
   "outputs": [],
   "source": [
    "zomato_x = zomato.loc[0:1000,\"name\":\"meals\"]\n",
    "zomato_x = pd.get_dummies(zomato_x)\n",
    "zomato_y = zomato.loc[0:1000,\"success\"]"
   ]
  },
  {
   "cell_type": "markdown",
   "metadata": {},
   "source": [
    "### Logistic Regression Algorithm "
   ]
  },
  {
   "cell_type": "code",
   "execution_count": 32,
   "metadata": {},
   "outputs": [
    {
     "name": "stdout",
     "output_type": "stream",
     "text": [
      "Accuracy: % 97.0646766169154\n",
      "Time: 7.141563296318054 s\n"
     ]
    }
   ],
   "source": [
    "#Aplly 10 times and take average for more reliable results\n",
    "\n",
    "lg_reg_accuracy_percentage_tot = 0\n",
    "time_lg_reg_tot = 0\n",
    "\n",
    "for m in range (10):\n",
    "\n",
    "#Splitting train and test datasets   \n",
    "    zomato_x_train, zomato_x_test, zomato_y_train, zomato_y_test = train_test_split(zomato_x, zomato_y, test_size=0.2)\n",
    "    zomato_y_test = zomato_y_test.reset_index(drop=True)\n",
    "\n",
    "    tic_lg_reg = time.time()\n",
    "\n",
    "#Logistic regression algorithm application\n",
    "    lg_reg = LogisticRegression(solver='lbfgs', max_iter=100000)\n",
    "    model_lg_reg = lg_reg.fit(zomato_x_train, zomato_y_train)\n",
    "    lg_reg_predictions = model_lg_reg.predict(zomato_x_test)\n",
    "\n",
    "#Logistic regression algorithm's prediction accuracy\n",
    "    true_lg_reg = 0\n",
    "    for i in range (len(lg_reg_predictions)):\n",
    "        if zomato_y_test[i] == lg_reg_predictions[i]:\n",
    "            true_lg_reg += 1\n",
    "    lg_reg_accuracy_percentage = (true_lg_reg/len(lg_reg_predictions))*100\n",
    "\n",
    "    toc_lg_reg = time.time()\n",
    "    time_lg_reg = toc_lg_reg-tic_lg_reg\n",
    "   \n",
    "    lg_reg_accuracy_percentage_tot += lg_reg_accuracy_percentage\n",
    "    time_lg_reg_tot += time_lg_reg\n",
    "              \n",
    "lg_reg_accuracy_percentage = lg_reg_accuracy_percentage_tot/10    \n",
    "time_lg_reg = time_lg_reg_tot/10\n",
    "\n",
    "print(\"Accuracy: %\",lg_reg_accuracy_percentage)\n",
    "print(\"Time:\",time_lg_reg,\"s\")"
   ]
  },
  {
   "cell_type": "markdown",
   "metadata": {},
   "source": [
    "### Decision Tree Algorithm"
   ]
  },
  {
   "cell_type": "code",
   "execution_count": 33,
   "metadata": {},
   "outputs": [
    {
     "name": "stdout",
     "output_type": "stream",
     "text": [
      "Accuracy: % 99.00497512437809\n",
      "Time: 0.1410158395767212 s\n"
     ]
    }
   ],
   "source": [
    "#Aplly 10 times and take average for more reliable results\n",
    "\n",
    "dec_tree_accuracy_percentage_tot = 0\n",
    "time_dec_tree_tot = 0\n",
    "\n",
    "for m in range (10):\n",
    "    \n",
    "#Splitting train and test datasets    \n",
    "    zomato_x_train, zomato_x_test, zomato_y_train, zomato_y_test = train_test_split(zomato_x, zomato_y, test_size=0.2)\n",
    "    zomato_y_test = zomato_y_test.reset_index(drop=True)\n",
    "\n",
    "    tic_dec_tree = time.time()\n",
    "\n",
    "#Decision tree algorithm application\n",
    "    dec_tree = tree.DecisionTreeClassifier()\n",
    "    model_dec_tree = dec_tree.fit(zomato_x_train, zomato_y_train)\n",
    "    dec_tree_predictions = model_dec_tree.predict(zomato_x_test)\n",
    "\n",
    "#Decision tree algorithm's prediction accuracy\n",
    "    true_dec_tree = 0\n",
    "    for i in range (len(dec_tree_predictions)):\n",
    "        if zomato_y_test[i] == dec_tree_predictions[i]:\n",
    "            true_dec_tree += 1\n",
    "    dec_tree_accuracy_percentage = (true_dec_tree/len(dec_tree_predictions))*100\n",
    "\n",
    "    toc_dec_tree = time.time()\n",
    "    time_dec_tree = toc_dec_tree-tic_dec_tree\n",
    "   \n",
    "    dec_tree_accuracy_percentage_tot += dec_tree_accuracy_percentage\n",
    "    time_dec_tree_tot += time_dec_tree\n",
    "       \n",
    "dec_tree_accuracy_percentage = dec_tree_accuracy_percentage_tot/10    \n",
    "time_dec_tree = time_dec_tree_tot/10\n",
    "\n",
    "print(\"Accuracy: %\",dec_tree_accuracy_percentage)\n",
    "print(\"Time:\",time_dec_tree,\"s\")"
   ]
  },
  {
   "cell_type": "markdown",
   "metadata": {},
   "source": [
    "### Random Forest Algorithm"
   ]
  },
  {
   "cell_type": "code",
   "execution_count": 34,
   "metadata": {},
   "outputs": [
    {
     "name": "stdout",
     "output_type": "stream",
     "text": [
      "Accuracy: % 96.01990049751244\n",
      "Time: 1.1449961423873902 s\n"
     ]
    }
   ],
   "source": [
    "#Aplly 10 times and take average for more reliable results\n",
    "\n",
    "rand_forest_accuracy_percentage_tot = 0\n",
    "time_rand_forest_tot = 0\n",
    "\n",
    "for m in range (10):\n",
    "    \n",
    "#Splitting train and test datasets     \n",
    "    zomato_x_train, zomato_x_test, zomato_y_train, zomato_y_test = train_test_split(zomato_x, zomato_y, test_size=0.2)\n",
    "    zomato_y_test = zomato_y_test.reset_index(drop=True)\n",
    "\n",
    "    tic_rand_forest = time.time()\n",
    "\n",
    "#Random forest algorithm application\n",
    "    rand_forest = RandomForestClassifier()\n",
    "    model_rand_forest = rand_forest.fit(zomato_x_train, zomato_y_train)\n",
    "    rand_forest_predictions = model_rand_forest.predict(zomato_x_test)\n",
    "\n",
    "#Random forest algorithm's prediction accuracy\n",
    "    true_rand_forest = 0\n",
    "    for i in range (len(rand_forest_predictions)):\n",
    "        if zomato_y_test[i] == rand_forest_predictions[i]:\n",
    "            true_rand_forest += 1\n",
    "    rand_forest_accuracy_percentage = (true_rand_forest/len(rand_forest_predictions))*100\n",
    "\n",
    "    toc_rand_forest = time.time()\n",
    "    time_rand_forest = toc_rand_forest-tic_rand_forest\n",
    "   \n",
    "    rand_forest_accuracy_percentage_tot += rand_forest_accuracy_percentage\n",
    "    time_rand_forest_tot += time_rand_forest\n",
    "     \n",
    "rand_forest_accuracy_percentage = rand_forest_accuracy_percentage_tot/10    \n",
    "time_rand_forest = time_rand_forest_tot/10\n",
    "\n",
    "print(\"Accuracy: %\",rand_forest_accuracy_percentage)\n",
    "print(\"Time:\",time_rand_forest,\"s\")"
   ]
  },
  {
   "cell_type": "markdown",
   "metadata": {},
   "source": [
    "### K-Nearest Neighbours Algorithm"
   ]
  },
  {
   "cell_type": "code",
   "execution_count": 35,
   "metadata": {},
   "outputs": [
    {
     "name": "stdout",
     "output_type": "stream",
     "text": [
      "Accuracy: % 70.44776119402985\n",
      "Time: 0.701855206489563 s\n"
     ]
    }
   ],
   "source": [
    "#Aplly 10 times and take average for more reliable results\n",
    "\n",
    "knn_accuracy_percentage_tot = 0\n",
    "time_knn_tot = 0\n",
    "\n",
    "for m in range (10):\n",
    "    \n",
    "#Splitting train and test datasets    \n",
    "    zomato_x_train, zomato_x_test, zomato_y_train, zomato_y_test = train_test_split(zomato_x, zomato_y, test_size=0.2)\n",
    "    zomato_y_test = zomato_y_test.reset_index(drop=True)\n",
    "\n",
    "    tic_knn = time.time()\n",
    "\n",
    "#KNN algorithm application\n",
    "    knn = KNeighborsClassifier(n_neighbors=2, metric='euclidean')\n",
    "    model_knn = knn.fit(zomato_x_train, zomato_y_train)\n",
    "    knn_predictions = model_knn.predict(zomato_x_test)\n",
    "\n",
    "#KNN algorithm's prediction accuracy\n",
    "    true_knn = 0\n",
    "    for i in range (len(knn_predictions)):\n",
    "        if zomato_y_test[i] == knn_predictions[i]:\n",
    "            true_knn += 1\n",
    "    knn_accuracy_percentage = (true_knn/len(knn_predictions))*100\n",
    "\n",
    "    toc_knn = time.time()\n",
    "    time_knn = toc_knn-tic_knn\n",
    "   \n",
    "    knn_accuracy_percentage_tot += knn_accuracy_percentage\n",
    "    time_knn_tot += time_knn\n",
    "       \n",
    "knn_accuracy_percentage = knn_accuracy_percentage_tot/10    \n",
    "time_knn = time_knn_tot/10\n",
    "\n",
    "print(\"Accuracy: %\",knn_accuracy_percentage)\n",
    "print(\"Time:\",time_knn,\"s\")"
   ]
  },
  {
   "cell_type": "markdown",
   "metadata": {},
   "source": [
    "### Comparison of algorithms' results"
   ]
  },
  {
   "cell_type": "code",
   "execution_count": 36,
   "metadata": {},
   "outputs": [
    {
     "data": {
      "text/html": [
       "<div>\n",
       "<style scoped>\n",
       "    .dataframe tbody tr th:only-of-type {\n",
       "        vertical-align: middle;\n",
       "    }\n",
       "\n",
       "    .dataframe tbody tr th {\n",
       "        vertical-align: top;\n",
       "    }\n",
       "\n",
       "    .dataframe thead th {\n",
       "        text-align: right;\n",
       "    }\n",
       "</style>\n",
       "<table border=\"1\" class=\"dataframe\">\n",
       "  <thead>\n",
       "    <tr style=\"text-align: right;\">\n",
       "      <th></th>\n",
       "      <th>Algorithm</th>\n",
       "      <th>Accuracy,%</th>\n",
       "      <th>Spend time,s</th>\n",
       "    </tr>\n",
       "  </thead>\n",
       "  <tbody>\n",
       "    <tr>\n",
       "      <th>0</th>\n",
       "      <td>Decision Tree</td>\n",
       "      <td>99.004975</td>\n",
       "      <td>0.141016</td>\n",
       "    </tr>\n",
       "    <tr>\n",
       "      <th>1</th>\n",
       "      <td>Logistic Regression</td>\n",
       "      <td>97.064677</td>\n",
       "      <td>7.141563</td>\n",
       "    </tr>\n",
       "    <tr>\n",
       "      <th>2</th>\n",
       "      <td>Random Forest</td>\n",
       "      <td>96.019900</td>\n",
       "      <td>1.144996</td>\n",
       "    </tr>\n",
       "    <tr>\n",
       "      <th>3</th>\n",
       "      <td>KNN</td>\n",
       "      <td>70.447761</td>\n",
       "      <td>0.701855</td>\n",
       "    </tr>\n",
       "  </tbody>\n",
       "</table>\n",
       "</div>"
      ],
      "text/plain": [
       "             Algorithm  Accuracy,%  Spend time,s\n",
       "0        Decision Tree   99.004975      0.141016\n",
       "1  Logistic Regression   97.064677      7.141563\n",
       "2        Random Forest   96.019900      1.144996\n",
       "3                  KNN   70.447761      0.701855"
      ]
     },
     "execution_count": 36,
     "metadata": {},
     "output_type": "execute_result"
    }
   ],
   "source": [
    "algorithms = pd.DataFrame([\"Logistic Regression\",\"Decision Tree\",\"Random Forest\",\"KNN\"], columns =[\"Algorithm\"])\n",
    "algorithm_scores = pd.DataFrame([lg_reg_accuracy_percentage,dec_tree_accuracy_percentage,rand_forest_accuracy_percentage,knn_accuracy_percentage], columns=[\"Accuracy,%\"])\n",
    "algorithm_times = pd.DataFrame([time_lg_reg,time_dec_tree,time_rand_forest,time_knn], columns=[\"Spend time,s\"])\n",
    "comparison = pd.concat([algorithms,algorithm_scores,algorithm_times], axis=1)\n",
    "comparison  = comparison.sort_values([\"Accuracy,%\"], ascending = False)\n",
    "comparison  = comparison.reset_index(drop=True)\n",
    "\n",
    "comparison"
   ]
  },
  {
   "cell_type": "code",
   "execution_count": null,
   "metadata": {},
   "outputs": [],
   "source": []
  }
 ],
 "metadata": {
  "kernelspec": {
   "display_name": "Python 3",
   "language": "python",
   "name": "python3"
  },
  "language_info": {
   "codemirror_mode": {
    "name": "ipython",
    "version": 3
   },
   "file_extension": ".py",
   "mimetype": "text/x-python",
   "name": "python",
   "nbconvert_exporter": "python",
   "pygments_lexer": "ipython3",
   "version": "3.8.5"
  }
 },
 "nbformat": 4,
 "nbformat_minor": 4
}
