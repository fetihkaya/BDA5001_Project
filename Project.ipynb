{
 "cells": [
  {
   "cell_type": "code",
   "execution_count": 17,
   "metadata": {},
   "outputs": [],
   "source": [
    "import numpy as np\n",
    "import pandas as pd\n",
    "import matplotlib.pyplot as plt\n",
    "import seaborn as sns\n",
    "import scipy.stats as stats\n",
    "from sklearn import linear_model\n",
    "from sklearn.linear_model import LogisticRegression\n",
    "from sklearn import tree\n",
    "from sklearn.model_selection import train_test_split\n",
    "import time\n",
    "from sklearn.metrics import mean_squared_error, mean_absolute_error\n",
    "#pd.options.display.max_rows = 100\n",
    "#pd.options.display.max_columns = 20\n"
   ]
  },
  {
   "cell_type": "markdown",
   "metadata": {},
   "source": [
    "# DATA EXPLORATION AND PREPROCESSING"
   ]
  },
  {
   "cell_type": "code",
   "execution_count": 2,
   "metadata": {},
   "outputs": [],
   "source": [
    "#Loading the Dataset\n",
    "zomato = pd.read_csv(\"C:/Users/Kemal/Desktop/zomato.csv\")"
   ]
  },
  {
   "cell_type": "code",
   "execution_count": 3,
   "metadata": {},
   "outputs": [
    {
     "data": {
      "text/plain": [
       "(51717, 17)"
      ]
     },
     "execution_count": 3,
     "metadata": {},
     "output_type": "execute_result"
    }
   ],
   "source": [
    "#The Dataset's shape\n",
    "zomato.shape"
   ]
  },
  {
   "cell_type": "code",
   "execution_count": 4,
   "metadata": {
    "scrolled": true
   },
   "outputs": [
    {
     "data": {
      "text/plain": [
       "Index(['url', 'address', 'name', 'online_order', 'book_table', 'rate', 'votes',\n",
       "       'phone', 'location', 'rest_type', 'dish_liked', 'cuisines',\n",
       "       'approx_cost(for two people)', 'reviews_list', 'menu_item',\n",
       "       'listed_in(type)', 'listed_in(city)'],\n",
       "      dtype='object')"
      ]
     },
     "execution_count": 4,
     "metadata": {},
     "output_type": "execute_result"
    }
   ],
   "source": [
    "#Columns of the Dataset\n",
    "zomato.columns"
   ]
  },
  {
   "cell_type": "markdown",
   "metadata": {},
   "source": [
    "#### Descriptions of column labels;\n",
    "    url: contains the url of the restaurant in the zomato website\n",
    "    address: contains the address of the restaurant in Bengaluru\n",
    "    name: contains the name of the restaurant\n",
    "    online_order: whether online ordering is available in the restaurant or not\n",
    "    book_table: table book option available or not\n",
    "    rate: contains the overall rating of the restaurant out of 5\n",
    "    votes: contains total number of rating for the restaurant\n",
    "    phone: contains the phone number of the restaurant\n",
    "    location: contains the neighborhood in which the restaurant is located\n",
    "    rest_type: type of the restaurant\n",
    "    dish_liked: dishes people liked in the restaurant\n",
    "    cuisines: food styles, separated by comma\n",
    "    approx_cost(for two people): contains approximate meal cost for two people\n",
    "    reviews_list: list of tuples containing reviews for the restaurant\n",
    "    menu_item: contains list of menus available in the restaurant\n",
    "    listed_in(type): type of meal\n",
    "    listed_in(city): contains city in which the restaurant is located\n",
    "\n",
    "\n",
    "\n"
   ]
  },
  {
   "cell_type": "code",
   "execution_count": 5,
   "metadata": {},
   "outputs": [],
   "source": [
    "#Changing some columns' names\n",
    "zomato = zomato.rename(columns={\"approx_cost(for two people)\":\"approx_cost\",\"listed_in(type)\":\"meals\",\"listed_in(city)\":\"city\"})"
   ]
  },
  {
   "cell_type": "code",
   "execution_count": 6,
   "metadata": {},
   "outputs": [],
   "source": [
    "#Cleaning redundant columns; \"url\",\"address\" and \"phone\" - keeping \"location\" column for address information\n",
    "zomato = zomato.drop(['url','address','phone'], axis=1)\n",
    "#\"location\" and \"city\" columns contain same information but \"location\" has wider range so drop the \"city\" column\n",
    "zomato = zomato.drop(['city'], axis=1) #\"location\" and \"city\" columns contain same information but \"location\" has wider range"
   ]
  },
  {
   "cell_type": "code",
   "execution_count": 7,
   "metadata": {},
   "outputs": [
    {
     "data": {
      "text/plain": [
       "name            object\n",
       "online_order    object\n",
       "book_table      object\n",
       "rate            object\n",
       "votes            int64\n",
       "location        object\n",
       "rest_type       object\n",
       "dish_liked      object\n",
       "cuisines        object\n",
       "approx_cost     object\n",
       "reviews_list    object\n",
       "menu_item       object\n",
       "meals           object\n",
       "dtype: object"
      ]
     },
     "execution_count": 7,
     "metadata": {},
     "output_type": "execute_result"
    }
   ],
   "source": [
    "#Datatypes of attributes\n",
    "zomato.dtypes"
   ]
  },
  {
   "cell_type": "code",
   "execution_count": 8,
   "metadata": {},
   "outputs": [],
   "source": [
    "#Changing datatype of \"approx_cost\" column from object to float\n",
    "zomato['approx_cost'] = zomato['approx_cost'].astype(str).apply(lambda x: x.replace(',',''))\n",
    "zomato['approx_cost'] = zomato['approx_cost'].astype(float)"
   ]
  },
  {
   "cell_type": "code",
   "execution_count": 9,
   "metadata": {},
   "outputs": [],
   "source": [
    "#For \"rate\" column: drop \"/5\" part - change datatype from object to float - fix noisy entries\n",
    "zomato['rate'] = zomato['rate'].astype(str).apply(lambda x: x.split('/')[0])\n",
    "while True:\n",
    "    try:\n",
    "        zomato['rate'] = zomato['rate'].astype(float)\n",
    "        break\n",
    "    except ValueError as e1:\n",
    "        noise_entry = str(e1).split(\":\")[-1].strip().replace(\"'\", \"\")\n",
    "        zomato['rate'] = zomato['rate'].apply(lambda x: x.replace(noise_entry, str(np.nan)))"
   ]
  },
  {
   "cell_type": "code",
   "execution_count": 10,
   "metadata": {},
   "outputs": [],
   "source": [
    "# Correcting the noisy restaurant name entries\n",
    "zomato['name'] = zomato['name'].apply(lambda x: 'Santa Spa Cuisine' if x == 'SantÃ\\x83Â\\x83Ã\\x82Â\\x83Ã\\x83Â\\x82Ã\\x82Â\\x83Ã\\x83Â\\x83Ã\\x82Â\\x82Ã\\x83Â\\x82Ã\\x82Â\\x83Ã\\x83Â\\x83Ã\\x82Â\\x83Ã\\x83Â\\x82Ã\\x82Â\\x82Ã\\x83Â\\x83Ã\\x82Â\\x82Ã\\x83Â\\x82Ã\\x82Â© Spa Cuisine' else x)\n",
    "zomato['name'] = zomato['name'].apply(lambda x: 'Cafe Down The Alley' if x == 'CafÃ\\x83Â\\x83Ã\\x82Â\\x83Ã\\x83Â\\x82Ã\\x82Â\\x83Ã\\x83Â\\x83Ã\\x82Â\\x82Ã\\x83Â\\x82Ã\\x82Â© Down The Alley' else x)"
   ]
  },
  {
   "cell_type": "code",
   "execution_count": 11,
   "metadata": {},
   "outputs": [
    {
     "data": {
      "text/html": [
       "<div>\n",
       "<style scoped>\n",
       "    .dataframe tbody tr th:only-of-type {\n",
       "        vertical-align: middle;\n",
       "    }\n",
       "\n",
       "    .dataframe tbody tr th {\n",
       "        vertical-align: top;\n",
       "    }\n",
       "\n",
       "    .dataframe thead th {\n",
       "        text-align: right;\n",
       "    }\n",
       "</style>\n",
       "<table border=\"1\" class=\"dataframe\">\n",
       "  <thead>\n",
       "    <tr style=\"text-align: right;\">\n",
       "      <th></th>\n",
       "      <th># of missing values</th>\n",
       "      <th>% of missing part</th>\n",
       "    </tr>\n",
       "  </thead>\n",
       "  <tbody>\n",
       "    <tr>\n",
       "      <th>dish_liked</th>\n",
       "      <td>28078</td>\n",
       "      <td>54.291626</td>\n",
       "    </tr>\n",
       "    <tr>\n",
       "      <th>rate</th>\n",
       "      <td>10052</td>\n",
       "      <td>19.436549</td>\n",
       "    </tr>\n",
       "    <tr>\n",
       "      <th>approx_cost</th>\n",
       "      <td>346</td>\n",
       "      <td>0.669026</td>\n",
       "    </tr>\n",
       "    <tr>\n",
       "      <th>rest_type</th>\n",
       "      <td>227</td>\n",
       "      <td>0.438927</td>\n",
       "    </tr>\n",
       "    <tr>\n",
       "      <th>cuisines</th>\n",
       "      <td>45</td>\n",
       "      <td>0.087012</td>\n",
       "    </tr>\n",
       "    <tr>\n",
       "      <th>location</th>\n",
       "      <td>21</td>\n",
       "      <td>0.040606</td>\n",
       "    </tr>\n",
       "    <tr>\n",
       "      <th>meals</th>\n",
       "      <td>0</td>\n",
       "      <td>0.000000</td>\n",
       "    </tr>\n",
       "    <tr>\n",
       "      <th>menu_item</th>\n",
       "      <td>0</td>\n",
       "      <td>0.000000</td>\n",
       "    </tr>\n",
       "    <tr>\n",
       "      <th>reviews_list</th>\n",
       "      <td>0</td>\n",
       "      <td>0.000000</td>\n",
       "    </tr>\n",
       "    <tr>\n",
       "      <th>votes</th>\n",
       "      <td>0</td>\n",
       "      <td>0.000000</td>\n",
       "    </tr>\n",
       "    <tr>\n",
       "      <th>book_table</th>\n",
       "      <td>0</td>\n",
       "      <td>0.000000</td>\n",
       "    </tr>\n",
       "    <tr>\n",
       "      <th>online_order</th>\n",
       "      <td>0</td>\n",
       "      <td>0.000000</td>\n",
       "    </tr>\n",
       "    <tr>\n",
       "      <th>name</th>\n",
       "      <td>0</td>\n",
       "      <td>0.000000</td>\n",
       "    </tr>\n",
       "  </tbody>\n",
       "</table>\n",
       "</div>"
      ],
      "text/plain": [
       "              # of missing values  % of missing part\n",
       "dish_liked                  28078          54.291626\n",
       "rate                        10052          19.436549\n",
       "approx_cost                   346           0.669026\n",
       "rest_type                     227           0.438927\n",
       "cuisines                       45           0.087012\n",
       "location                       21           0.040606\n",
       "meals                           0           0.000000\n",
       "menu_item                       0           0.000000\n",
       "reviews_list                    0           0.000000\n",
       "votes                           0           0.000000\n",
       "book_table                      0           0.000000\n",
       "online_order                    0           0.000000\n",
       "name                            0           0.000000"
      ]
     },
     "execution_count": 11,
     "metadata": {},
     "output_type": "execute_result"
    }
   ],
   "source": [
    "#Missing value search\n",
    "number_of_missing_data = (zomato.isnull().sum()).sort_values(ascending=False)\n",
    "number_of_missing_data = pd.DataFrame(number_of_missing_data, columns=['# of missing values'])                                                                    \n",
    "percentage_of_missing_data = (zomato.isnull().sum()/zomato.shape[0]*100).sort_values(ascending=False)\n",
    "percentage_of_missing_data = pd.DataFrame(percentage_of_missing_data, columns=['% of missing part'])\n",
    "missing = pd.concat([number_of_missing_data,percentage_of_missing_data], axis=1) \n",
    "\n",
    "missing\n",
    "       "
   ]
  },
  {
   "cell_type": "code",
   "execution_count": 12,
   "metadata": {},
   "outputs": [],
   "source": [
    "#Remove missing value containing rows - Remaining part = 23.259 rows\n",
    "zomato = zomato.dropna(how='any')\n",
    "zomato = zomato.reset_index(drop=True)"
   ]
  },
  {
   "cell_type": "code",
   "execution_count": 13,
   "metadata": {},
   "outputs": [
    {
     "data": {
      "text/plain": [
       "False    21064\n",
       "True      2195\n",
       "dtype: int64"
      ]
     },
     "execution_count": 13,
     "metadata": {},
     "output_type": "execute_result"
    }
   ],
   "source": [
    "#Search for duplicated rows\n",
    "zomato.duplicated().value_counts()"
   ]
  },
  {
   "cell_type": "code",
   "execution_count": 14,
   "metadata": {},
   "outputs": [],
   "source": [
    "#Remove duplicated rows - Remaining part = 21.064 rows\n",
    "zomato = zomato.drop_duplicates()"
   ]
  },
  {
   "cell_type": "code",
   "execution_count": 15,
   "metadata": {},
   "outputs": [],
   "source": [
    "#Removo rows whose number of votes is smaller than 50, because rate data of restaurants change by 0.1 interval\n",
    "#Adding 1 more vote to a restaurant whose vote number is smaller than 50 may cause more than 0.1 difference on average rate\n",
    "#Having more than 50 votes guarantees that the restaurants average rate will not change more than 0.1 by adding 1 more vote\n",
    "#It means that restaurant's rate is settled and reliable \n",
    "#Remaining part = 19934 rows\n",
    "zomato = zomato[zomato.votes > 49]\n",
    "zomato = zomato.reset_index(drop=True)"
   ]
  },
  {
   "cell_type": "code",
   "execution_count": null,
   "metadata": {},
   "outputs": [],
   "source": []
  }
 ],
 "metadata": {
  "kernelspec": {
   "display_name": "Python 3",
   "language": "python",
   "name": "python3"
  },
  "language_info": {
   "codemirror_mode": {
    "name": "ipython",
    "version": 3
   },
   "file_extension": ".py",
   "mimetype": "text/x-python",
   "name": "python",
   "nbconvert_exporter": "python",
   "pygments_lexer": "ipython3",
   "version": "3.8.5"
  }
 },
 "nbformat": 4,
 "nbformat_minor": 4
}
